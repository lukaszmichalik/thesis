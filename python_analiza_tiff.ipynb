{
 "cells": [
  {
   "cell_type": "markdown",
   "id": "a83a47e0",
   "metadata": {},
   "source": [
    "### Wczytanie Bibliotek"
   ]
  },
  {
   "cell_type": "code",
   "execution_count": null,
   "id": "6033728f",
   "metadata": {},
   "outputs": [],
   "source": [
    "from PIL import Image\n",
    "import math\n",
    "import sys\n",
    "import numpy as np\n",
    "import cv2\n",
    "import tifffile\n",
    "import plotly.express as px\n",
    "from IPython import display\n",
    "import pandas as pd\n",
    "from timeit import timeit\n",
    "from memory_profiler import profile\n",
    "import random\n",
    "from IPython.display import IFrame\n",
    "import ipywidgets as widgets\n",
    "import plotly\n",
    "from sklearn import preprocessing\n",
    "from sklearn.metrics import pairwise_distances as pairwise_dist\n",
    "import plotly.graph_objs as go\n",
    "from plotly.offline import plot, iplot, init_notebook_mode\n",
    "init_notebook_mode(connected=True)\n",
    "from skimage import exposure, img_as_ubyte\n",
    "from ipywidgets import fixed\n",
    "from matplotlib import pyplot as plt\n",
    "%load_ext memory_profiler"
   ]
  },
  {
   "cell_type": "markdown",
   "id": "3284f26e",
   "metadata": {},
   "source": [
    "# Wczytanie plików TIFF"
   ]
  },
  {
   "cell_type": "markdown",
   "id": "b2de04b3",
   "metadata": {},
   "source": [
    "Wczytanie plików Experiment-392"
   ]
  },
  {
   "cell_type": "code",
   "execution_count": null,
   "id": "bdaf655e",
   "metadata": {},
   "outputs": [],
   "source": [
    "# wczytanie ścieżek do plików\n",
    "file_red = 'dataset/rgb/Centr_tel Brachy/Experiment-392.czi - C=r.tif'\n",
    "file_green = 'dataset/rgb/Centr_tel Brachy/Experiment-392.czi - C=g.tif'\n",
    "file_blue = 'dataset/rgb/Centr_tel Brachy/Experiment-392.czi - C=b.tif'\n",
    "\n",
    "# wczytanie plików TIFF przy użyciu biblioteki tifffile\n",
    "tif_red = tifffile.imread(file_red)\n",
    "tif_green = tifffile.imread(file_green)\n",
    "tif_blue = tifffile.imread(file_blue)"
   ]
  },
  {
   "cell_type": "markdown",
   "id": "265b61ab",
   "metadata": {},
   "source": [
    "### Wczytanie pliku Img0026-rgb.tif"
   ]
  },
  {
   "cell_type": "code",
   "execution_count": null,
   "id": "aa13b3d8",
   "metadata": {},
   "outputs": [],
   "source": [
    "import tifffile\n",
    "\n",
    "# wczytanie ścieżki do pliku Image0026-rgb.tif\n",
    "img26_file = 'dataset/rgb/FISH_Brachy/Image0026-rgb.tif' \n",
    "\n",
    "# wczytanie pliku TIFF przy użyciu biblioteki tifffile\n",
    "img26 = tifffile.imread(img26_file)"
   ]
  },
  {
   "cell_type": "markdown",
   "id": "e36be3bb",
   "metadata": {},
   "source": [
    "# Normalizacja - zmiana głębi kolorów"
   ]
  },
  {
   "cell_type": "markdown",
   "id": "c8e314f7",
   "metadata": {},
   "source": [
    "#### Metoda oryginalna normalizacja każdego obrazu osobno"
   ]
  },
  {
   "cell_type": "code",
   "execution_count": null,
   "id": "504f8b4e",
   "metadata": {},
   "outputs": [],
   "source": [
    "# przykształcenie tifów 16-bitowych na 8-bitowe\n",
    "\n",
    "# inicjalizacja pustych tifów 8 bitowych\n",
    "tif_red_norm = np.empty(shape=(18, 1040,1388), dtype='uint8')\n",
    "tif_green_norm = np.empty(shape=(18, 1040,1388), dtype='uint8')\n",
    "tif_blue_norm = np.empty(shape=(18, 1040,1388), dtype='uint8')\n",
    "\n",
    "# normalizacja\n",
    "for i in range(0,tif_blue.shape[0]):\n",
    "    tif_red_norm[i] = img_as_ubyte(exposure.rescale_intensity(tif_red[i]))\n",
    "    tif_green_norm[i] = img_as_ubyte(exposure.rescale_intensity(tif_green[i]))\n",
    "    tif_blue_norm[i] = img_as_ubyte(exposure.rescale_intensity(tif_blue[i]))  "
   ]
  },
  {
   "cell_type": "markdown",
   "id": "6c6f3f00",
   "metadata": {},
   "source": [
    "Druga metoda, spłaszczenie i normalizacja całych plików"
   ]
  },
  {
   "cell_type": "code",
   "execution_count": null,
   "id": "b8653114",
   "metadata": {},
   "outputs": [],
   "source": [
    "tif_red_flat = tif_red.flatten()\n",
    "tif_green_flat = tif_green.flatten()\n",
    "tif_blue_flat = tif_blue.flatten()\n",
    "\n",
    "tif_red_flat = img_as_ubyte(exposure.rescale_intensity(tif_red_flat))\n",
    "tif_green_flat = img_as_ubyte(exposure.rescale_intensity(tif_green_flat))\n",
    "tif_blue_flat = img_as_ubyte(exposure.rescale_intensity(tif_blue_flat))  "
   ]
  },
  {
   "cell_type": "markdown",
   "id": "160ccd20",
   "metadata": {},
   "source": [
    "Trzecia metoda, normalizacja całych plików bez spłaszczania układu"
   ]
  },
  {
   "cell_type": "code",
   "execution_count": null,
   "id": "d6b66345",
   "metadata": {},
   "outputs": [],
   "source": [
    "tif_red_norm = img_as_ubyte(exposure.rescale_intensity(tif_red))\n",
    "tif_green_norm = img_as_ubyte(exposure.rescale_intensity(tif_green))\n",
    "tif_blue_norm = img_as_ubyte(exposure.rescale_intensity(tif_blue))  "
   ]
  },
  {
   "cell_type": "markdown",
   "id": "1c909c89",
   "metadata": {},
   "source": [
    "# Przekształcenie Postaci Danych"
   ]
  },
  {
   "cell_type": "markdown",
   "id": "bca81dec",
   "metadata": {},
   "source": [
    "### Funkcja generująca współrzędne dla układu 4D (4D array)"
   ]
  },
  {
   "cell_type": "code",
   "execution_count": null,
   "id": "3e358c10",
   "metadata": {},
   "outputs": [],
   "source": [
    "def get_coords(tif_arr):\n",
    "\n",
    "    z, y, x = tif_arr.shape[:3]\n",
    "\n",
    "    x_size = x\n",
    "    y_size = y\n",
    "    z_size = z\n",
    "\n",
    "    z_list = []\n",
    "    for i in range(z_size):\n",
    "        z_list += [i] * (y_size * x_size)\n",
    "\n",
    "    y_list = []\n",
    "    for i in range(y_size):\n",
    "        y_list += [i] * (x_size)\n",
    "    y_list *= z_size\n",
    "\n",
    "    x_list = []\n",
    "    x_list = np.arange(0, x_size).tolist() * (z_size * y_size)\n",
    "    \n",
    "    return np.c_[z_list, y_list, x_list]"
   ]
  },
  {
   "cell_type": "markdown",
   "id": "168b9530",
   "metadata": {},
   "source": [
    "### Połączenie współrzędnych, kolorów i rozmiarów pikseli"
   ]
  },
  {
   "cell_type": "markdown",
   "id": "5f3a8049",
   "metadata": {},
   "source": [
    "plik exp-392"
   ]
  },
  {
   "cell_type": "code",
   "execution_count": null,
   "id": "cacae5f1",
   "metadata": {},
   "outputs": [],
   "source": [
    "tif_red_flat = tif_red_norm.flatten()\n",
    "tif_green_flat = tif_green_norm.flatten()\n",
    "tif_blue_flat = tif_blue_norm.flatten()\n",
    "\n",
    "coords=get_coords(tif_red)\n",
    "\n",
    "tif_arr = np.c_[coords, tif_red_flat, tif_green_flat, tif_blue_flat, np.ones((tif_red_flat.size),dtype='int32')]"
   ]
  },
  {
   "cell_type": "markdown",
   "id": "7d661396",
   "metadata": {},
   "source": [
    "plik image0026"
   ]
  },
  {
   "cell_type": "code",
   "execution_count": null,
   "id": "aba55472",
   "metadata": {},
   "outputs": [],
   "source": [
    "# zpłaszczenie danych do postaci 1D array\n",
    "img26_flat = img26.flatten()\n",
    "\n",
    "# wydobycie współrzędnych\n",
    "coords=get_coords(img26)\n",
    "\n",
    "# połączenie danych\n",
    "img26_arr = np.c_[coords, img26_flat[::3], img26_flat[1::3], \n",
    "                img26_flat[2::3], np.ones((img26_flat[::3].size),dtype='uint8')]"
   ]
  },
  {
   "cell_type": "markdown",
   "id": "eaa458fe",
   "metadata": {},
   "source": [
    "### Usuwanie czarnego tła"
   ]
  },
  {
   "cell_type": "code",
   "execution_count": null,
   "id": "1d71fda1",
   "metadata": {},
   "outputs": [],
   "source": [
    "def clear_black_bg(tif_arr, threshold):\n",
    "    print(\"Rozmiar danych przed usunięciem tła\",\n",
    "      tif_arr.shape)\n",
    "    tif_arr = tif_arr[(tif_arr[:,3]>threshold)\n",
    "                      |(tif_arr[:,4]>threshold)\n",
    "                      |(tif_arr[:,5]>threshold)]\n",
    "\n",
    "    print(\"Rozmiar danych po usunięciem tła\",\n",
    "      tif_arr.shape)\n",
    "    return tif_arr"
   ]
  },
  {
   "cell_type": "markdown",
   "id": "205b2319",
   "metadata": {},
   "source": [
    "### Druga metoda usuwania czarnego tła \n",
    "pozwala na osobne ustalenie granicy dla każdego z kolorów RGB"
   ]
  },
  {
   "cell_type": "code",
   "execution_count": null,
   "id": "fc491a16",
   "metadata": {},
   "outputs": [],
   "source": [
    "def clear_black_bg2(tif_arr, r_th,g_th,b_th):\n",
    "    print(\"Rozmiar danych przed usunięciem tła\",\n",
    "      tif_arr.shape)\n",
    "    tif_arr = tif_arr[(tif_arr[:,3]>r_th)\n",
    "                      |(tif_arr[:,4]>g_th)\n",
    "                      |(tif_arr[:,5]>b_th)]\n",
    "\n",
    "    print(\"Rozmiar danych po usunięciem tła\",\n",
    "      tif_arr.shape)\n",
    "    return tif_arr"
   ]
  },
  {
   "cell_type": "markdown",
   "id": "4e96a904",
   "metadata": {},
   "source": [
    "### Histogram rozkładu nasycenia niebieskiego kanału"
   ]
  },
  {
   "cell_type": "code",
   "execution_count": null,
   "id": "93e1ed9a",
   "metadata": {},
   "outputs": [],
   "source": [
    "plt.hist(img26_arr[:,5], bins=50, range=(0,255));"
   ]
  },
  {
   "cell_type": "markdown",
   "id": "da425fc7",
   "metadata": {},
   "source": [
    "Usuwanie tła pliku Img0026-rgb.tif"
   ]
  },
  {
   "cell_type": "code",
   "execution_count": null,
   "id": "e8185a8f",
   "metadata": {},
   "outputs": [],
   "source": [
    "img26_arr_cl=clear_black_bg(img26_arr,80)"
   ]
  },
  {
   "cell_type": "markdown",
   "id": "fb733334",
   "metadata": {},
   "source": [
    "Usuwanie tła pliku Experiment-392.tif"
   ]
  },
  {
   "cell_type": "code",
   "execution_count": null,
   "id": "f9e3c35b",
   "metadata": {},
   "outputs": [],
   "source": [
    "tif_arr_cl=clear_black_bg(tif_arr,80)"
   ]
  },
  {
   "cell_type": "markdown",
   "id": "3bc70cdb",
   "metadata": {},
   "source": [
    "### funkcje pomocnicze"
   ]
  },
  {
   "cell_type": "markdown",
   "id": "ae64dd83",
   "metadata": {},
   "source": [
    "### Obliczanie centroidu - Python"
   ]
  },
  {
   "cell_type": "code",
   "execution_count": null,
   "id": "e400d91f",
   "metadata": {},
   "outputs": [],
   "source": [
    "def get_centroid(arr):\n",
    "    length = arr.shape[0]\n",
    "    sum_z = np.sum(arr[:, 0])\n",
    "    sum_y = np.sum(arr[:, 1])\n",
    "    sum_x = np.sum(arr[:, 2])\n",
    "    sum_r = np.sum(arr[:, 3])\n",
    "    sum_g = np.sum(arr[:, 4])\n",
    "    sum_b = np.sum(arr[:, 5])\n",
    "    return (sum_z/length, sum_y/length, sum_x/length, \n",
    "            sum_r/length, sum_g/length, sum_b/length, length)"
   ]
  },
  {
   "cell_type": "markdown",
   "id": "34371f0a",
   "metadata": {},
   "source": [
    "### Obliczanie medoidu - Python"
   ]
  },
  {
   "cell_type": "code",
   "execution_count": null,
   "id": "873e8e86",
   "metadata": {},
   "outputs": [],
   "source": [
    "def get_medoid(arr):\n",
    "    # tworzenie macierzy wzajemnych odległości\n",
    "    distMatrix=pairwise_dist(arr[:,:6])\n",
    "    # wybieranie piksela o najmniejszej sumie odległości\n",
    "    medoid=arr[[np.argmin(distMatrix.sum(axis=0))]]\n",
    "    # dodanie rozmiaru grupy  \n",
    "    medoid[0,6]=arr.shape[0]\n",
    "    \n",
    "    return medoid"
   ]
  },
  {
   "cell_type": "markdown",
   "id": "9cf8bcb8",
   "metadata": {},
   "source": [
    "### Obliczanie mediany - Python"
   ]
  },
  {
   "cell_type": "code",
   "execution_count": null,
   "id": "5c0b9d75",
   "metadata": {},
   "outputs": [],
   "source": [
    "def get_median(arr):\n",
    "    # obliczanie madian zmiennych zbioru\n",
    "    median=np.median(arr,axis=0,keepdims=True)\n",
    "    # zapisanie rozmiaru zbioru\n",
    "    median[0,6]=arr.shape[0]\n",
    "\n",
    "    return median"
   ]
  },
  {
   "cell_type": "markdown",
   "id": "f4b4c346",
   "metadata": {},
   "source": [
    "### Funkcja znajdująca sąsiadów - Python"
   ]
  },
  {
   "cell_type": "code",
   "execution_count": null,
   "id": "11f05fd0",
   "metadata": {},
   "outputs": [],
   "source": [
    "def get_neighbours(arr, pixel, radius, zradius, color_diff):\n",
    "    neighbours = arr[((arr[:,0]<=pixel[0]+zradius) \n",
    "                            & (arr[:,0]>=pixel[0]-zradius)\n",
    "                            & (arr[:,1]<=pixel[1]+radius)\n",
    "                            & (arr[:,1]>=pixel[1]-radius)\n",
    "                            & (arr[:,2]<=pixel[2]+radius)\n",
    "                            & (arr[:,2]>=pixel[2]-radius)\n",
    "                            & (arr[:,3]<=pixel[3]+color_diff)\n",
    "                            & (arr[:,3]>=pixel[3]-color_diff)\n",
    "                            & (arr[:,4]<=pixel[4]+color_diff)\n",
    "                            & (arr[:,4]>=pixel[4]-color_diff)\n",
    "                            & (arr[:,5]<=pixel[5]+color_diff)\n",
    "                            & (arr[:,5]>=pixel[5]-color_diff))]\n",
    "    return neighbours"
   ]
  },
  {
   "cell_type": "code",
   "execution_count": null,
   "id": "9032acdf",
   "metadata": {},
   "outputs": [],
   "source": [
    "def get_neighbours2(arr, pixel, radius, zradius):\n",
    "    neighbours = arr[((arr[:,0]<=pixel[0]+zradius) \n",
    "                            & (arr[:,0]>=pixel[0]-zradius)\n",
    "                            & (arr[:,1]<=pixel[1]+radius)\n",
    "                            & (arr[:,1]>=pixel[1]-radius)\n",
    "                            & (arr[:,2]<=pixel[2]+radius)\n",
    "                            & (arr[:,2]>=pixel[2]-radius))]\n",
    "    return neighbours"
   ]
  },
  {
   "cell_type": "code",
   "execution_count": null,
   "id": "badccb84",
   "metadata": {},
   "outputs": [],
   "source": [
    "def get_neighbours_by_color(arr, pixel, color_diff):\n",
    "    neighbours = arr[((arr[:,3]<=pixel[3]+color_diff)\n",
    "                            & (arr[:,3]>=pixel[3]-color_diff)\n",
    "                            & (arr[:,4]<=pixel[4]+color_diff)\n",
    "                            & (arr[:,4]>=pixel[4]-color_diff)\n",
    "                            & (arr[:,5]<=pixel[5]+color_diff)\n",
    "                            & (arr[:,5]>=pixel[5]-color_diff))]\n",
    "    return neighbours"
   ]
  },
  {
   "cell_type": "code",
   "execution_count": null,
   "id": "085a44a0",
   "metadata": {},
   "outputs": [],
   "source": [
    "def cap_data(arr):\n",
    "    for i in range(3,6):\n",
    "        print(i)\n",
    "        p1 = np.quantile(n[:,i], 0.1)\n",
    "        p2 = np.quantile(n[:,i], 0.9)\n",
    "        print(p1)\n",
    "        print(p2)\n",
    "        \n",
    "        arr=arr[((arr[:,i]>=p1) & (arr[:,i]<=p2))]\n",
    "\n",
    "    return arr"
   ]
  },
  {
   "cell_type": "markdown",
   "id": "d53651a6",
   "metadata": {},
   "source": [
    "### Usuwanie podzbioru - Python"
   ]
  },
  {
   "cell_type": "code",
   "execution_count": null,
   "id": "5829a732",
   "metadata": {},
   "outputs": [],
   "source": [
    "def remove_neighbours(neighbours_arr, tif_arr):\n",
    "    dims = np.maximum(neighbours_arr.max(0),tif_arr.max(0))+1\n",
    "    tif_arr = tif_arr[~np.in1d(np.ravel_multi_index(tif_arr.T,dims),\n",
    "                        np.ravel_multi_index(neighbours_arr.T,dims))]\n",
    "    return tif_arr"
   ]
  },
  {
   "cell_type": "markdown",
   "id": "8fc5ddca",
   "metadata": {},
   "source": [
    "### Metoda Centroidów - wariant I - Python"
   ]
  },
  {
   "cell_type": "code",
   "execution_count": null,
   "id": "dab920f4",
   "metadata": {},
   "outputs": [],
   "source": [
    "def centroid_method(tif_arr, radius, zradius, color_diff):\n",
    "    print(\"Rozmiar danych przed użyciem metody\",\n",
    "      tif_arr.shape)\n",
    "\n",
    "    # utworzenie pustego zbioru centrodów\n",
    "    centroids = np.empty([0,7])\n",
    "    \n",
    "    # zapętlanie procesu, aż zbiór danych będzie pusty\n",
    "    while len(tif_arr)>0:\n",
    "\n",
    "        # losowanie startowego piksela\n",
    "        pixel = random.choice(tif_arr)\n",
    "\n",
    "        # utworzenie zbioru sąsiadującego\n",
    "        neighbours_arr = get_neighbours(tif_arr, pixel, radius, zradius, color_diff)\n",
    "\n",
    "        # obliczanie centroidu ze zbioru sąsiadów\n",
    "        centroid = get_centroid(neighbours_arr)\n",
    "\n",
    "        # dodanie centroidu do zbioru centroidów\n",
    "        centroids=np.vstack([centroids, centroid])\n",
    "        \n",
    "        # usuwanie zbioru sąsiadującego ze zbioru danych\n",
    "        tif_arr=remove_neighbours(neighbours_arr,tif_arr)\n",
    "    print(\"Rozmiar danych po użyciu metody\",\n",
    "      centroids.shape)\n",
    "\n",
    "    \n",
    "    return centroids"
   ]
  },
  {
   "cell_type": "markdown",
   "id": "b96fa512",
   "metadata": {},
   "source": [
    "### Metoda Centroidów - wariant II"
   ]
  },
  {
   "cell_type": "code",
   "execution_count": null,
   "id": "53c3f8c3",
   "metadata": {},
   "outputs": [],
   "source": [
    "def centroid_method2(tif_arr, radius, zradius, color_diff):\n",
    "    # utworzenie pustego zbioru centrodów\n",
    "    centroids = np.empty([0,7])\n",
    "    \n",
    "    # zapętlanie procesu, aż zbiór danych będzie pusty\n",
    "    while len(tif_arr)>0:\n",
    "\n",
    "        # losowanie startowego piksela\n",
    "        pixel = random.choice(tif_arr)\n",
    "\n",
    "        # utworzenie zbioru sąsiadującego\n",
    "        neighbours_arr = get_neighbours2(tif_arr, pixel, radius, zradius)\n",
    "        \n",
    "        # usuwanie zbioru sąsiadującego ze zbioru danych\n",
    "        tif_arr=remove_neighbours(neighbours_arr,tif_arr)\n",
    "        \n",
    "        # wyodrębnienie pikseli z opowiednią różnicą kolorów z przstrzeni sąsiadującej\n",
    "        neighbours_arr = get_neighbours_by_color(neighbours_arr, pixel, color_diff)\n",
    "\n",
    "        # obliczanie centroidu ze zbioru sąsiadów\n",
    "        centroid = get_centroid(neighbours_arr)\n",
    "\n",
    "        # dodanie centroidu do zbioru centroidów\n",
    "        centroids=np.vstack([centroids, centroid])\n",
    "    \n",
    "    return centroids"
   ]
  },
  {
   "cell_type": "markdown",
   "id": "c685bcb0",
   "metadata": {},
   "source": [
    "### Metoda Centroidów - wariant III"
   ]
  },
  {
   "cell_type": "code",
   "execution_count": null,
   "id": "c3f1cf79",
   "metadata": {},
   "outputs": [],
   "source": [
    "def centroid_method3(tif_arr, radius, zradius):\n",
    "    # utworzenie pustego zbioru centrodów\n",
    "    centroids = np.empty([0,7])\n",
    "    \n",
    "    # zapętlanie procesu, aż zbiór danych będzie pusty\n",
    "    while len(tif_arr)>0:\n",
    "\n",
    "        # losowanie startowego piksela\n",
    "        pixel = random.choice(tif_arr)\n",
    "\n",
    "        # utworzenie zbioru sąsiadującego\n",
    "        neighbours_arr = get_neighbours2(tif_arr, pixel, radius, zradius)\n",
    "\n",
    "        # obliczanie centroidu ze zbioru sąsiadów\n",
    "        centroid = get_centroid(neighbours_arr)\n",
    "\n",
    "        # dodanie centroidu do zbioru centroidów\n",
    "        centroids=np.vstack([centroids, centroid])\n",
    "\n",
    "        # usuwanie zbioru sąsiadującego ze zbioru danych\n",
    "        tif_arr=remove_neighbours(neighbours_arr,tif_arr)\n",
    "   \n",
    "    return centroids"
   ]
  },
  {
   "cell_type": "markdown",
   "id": "24818615",
   "metadata": {},
   "source": [
    "### Metoda I - medoid + róznica koloru + bez usuwania"
   ]
  },
  {
   "cell_type": "code",
   "execution_count": null,
   "id": "f870f3fb",
   "metadata": {},
   "outputs": [],
   "source": [
    "def medoid_method(tif_arr,radius, zradius, color_diff):\n",
    "    medoids = np.empty([0,7])\n",
    "    # zapętlanie procesu, aż zbiór danych będzie pusty\n",
    "    while len(tif_arr)>0:\n",
    "\n",
    "        # losowanie startowego piksela        \n",
    "        pixel = random.choice(tif_arr)\n",
    "\n",
    "        # utworzenie zbioru sąsiadującego\n",
    "        neighbours_arr = get_neighbours(tif_arr, pixel, radius, zradius, color_diff)\n",
    "        \n",
    "        medoid=get_medoid(neighbours_arr)\n",
    "        \n",
    "        medoids=np.vstack([medoids, medoid])\n",
    "        \n",
    "        # usuwanie zbioru sąsiadującego ze zbioru danych\n",
    "        tif_arr=remove_neighbours(neighbours_arr,tif_arr)\n",
    "        \n",
    "    print(medoids.shape)\n",
    "    return medoids"
   ]
  },
  {
   "cell_type": "markdown",
   "id": "603c6b06",
   "metadata": {},
   "source": [
    "### Metoda II - medoid + róznica koloru + z usuwaniem"
   ]
  },
  {
   "cell_type": "code",
   "execution_count": null,
   "id": "dc9d5aa4",
   "metadata": {},
   "outputs": [],
   "source": [
    "def medoid_method2(tif_arr,radius, zradius, color_diff):\n",
    "    medoids = np.empty([0,7])\n",
    "    # zapętlanie procesu, aż zbiór danych będzie pusty\n",
    "    while len(tif_arr)>0:\n",
    "\n",
    "        # losowanie startowego piksela         \n",
    "        pixel = random.choice(tif_arr)\n",
    "\n",
    "        # utworzenie zbioru sąsiadującego\n",
    "        neighbours_arr = get_neighbours2(tif_arr, pixel, radius, zradius)\n",
    "        \n",
    "        # usuwanie zbioru sąsiadującego ze zbioru danych\n",
    "        tif_arr=remove_neighbours(neighbours_arr,tif_arr)\n",
    "        \n",
    "        neighbours_arr=get_neighbours_by_color(neighbours_arr, pixel, color_diff)\n",
    "\n",
    "        medoid=get_medoid(neighbours_arr)\n",
    "        \n",
    "        medoids=np.vstack([medoids, medoid])\n",
    "    print(medoids.shape)\n",
    "    return medoids"
   ]
  },
  {
   "cell_type": "markdown",
   "id": "11442bd4",
   "metadata": {},
   "source": [
    "### Metoda III - medoid + bez różnicy koloru + nie ma outlierów"
   ]
  },
  {
   "cell_type": "code",
   "execution_count": null,
   "id": "0de9c7b7",
   "metadata": {},
   "outputs": [],
   "source": [
    "def medoid_method3(tif_arr,radius, zradius):\n",
    "    medoids = np.empty([0,7])\n",
    "    # zapętlanie procesu, aż zbiór danych będzie pusty\n",
    "    while len(tif_arr)>0:\n",
    "\n",
    "        # losowanie startowego piksela        \n",
    "        pixel = random.choice(tif_arr)\n",
    "\n",
    "        # utworzenie zbioru sąsiadującego\n",
    "        neighbours_arr = get_neighbours2(tif_arr, pixel, radius, zradius)\n",
    "        \n",
    "        # usuwanie zbioru sąsiadującego ze zbioru danych\n",
    "        tif_arr=remove_neighbours(neighbours_arr,tif_arr)\n",
    "\n",
    "        medoid=get_medoid(neighbours_arr)\n",
    "        \n",
    "        medoids=np.vstack([medoids, medoid])\n",
    "    print(medoids.shape)\n",
    "    return medoids"
   ]
  },
  {
   "cell_type": "markdown",
   "id": "ed75b13f",
   "metadata": {},
   "source": [
    "### Metoda I - mediana + róznica koloru + bez usuwania"
   ]
  },
  {
   "cell_type": "code",
   "execution_count": null,
   "id": "739a756f",
   "metadata": {},
   "outputs": [],
   "source": [
    "def median_method(tif_arr,radius, zradius, color_diff):\n",
    "    medians = np.empty([0,7])\n",
    "    # zapętlanie procesu, aż zbiór danych będzie pusty\n",
    "    while len(tif_arr)>0:\n",
    "\n",
    "        # losowanie startowego piksela        \n",
    "        pixel = random.choice(tif_arr)\n",
    "\n",
    "        # utworzenie zbioru sąsiadującego\n",
    "        neighbours_arr = get_neighbours(tif_arr, pixel, radius, zradius, color_diff)\n",
    "        \n",
    "        median = get_median(neighbours_arr)\n",
    "        \n",
    "        medians=np.vstack([medians, median])\n",
    "        \n",
    "        # usuwanie zbioru sąsiadującego ze zbioru danych\n",
    "        tif_arr=remove_neighbours(neighbours_arr,tif_arr)\n",
    "    print(medians.shape)\n",
    "    return medians"
   ]
  },
  {
   "cell_type": "markdown",
   "id": "c944368b",
   "metadata": {},
   "source": [
    "### Metoda II - mediana + róznica koloru + z usuwaniem"
   ]
  },
  {
   "cell_type": "code",
   "execution_count": null,
   "id": "3107f633",
   "metadata": {},
   "outputs": [],
   "source": [
    "def median_method2(tif_arr,radius, zradius, color_diff):\n",
    "    medians = np.empty([0,7])\n",
    "    # zapętlanie procesu, aż zbiór danych będzie pusty\n",
    "    while len(tif_arr)>0:\n",
    "\n",
    "        # losowanie startowego piksela       \n",
    "        pixel = random.choice(tif_arr)\n",
    "\n",
    "        # utworzenie zbioru sąsiadującego\n",
    "        neighbours_arr = get_neighbours2(tif_arr, pixel, radius, zradius)\n",
    "        \n",
    "        # usuwanie zbioru sąsiadującego ze zbioru danych\n",
    "        tif_arr=remove_neighbours(neighbours_arr,tif_arr)\n",
    "        \n",
    "        neighbours_arr=get_neighbours_by_color(neighbours_arr, pixel, color_diff)\n",
    "\n",
    "        median = get_median(neighbours_arr)\n",
    "        \n",
    "        medians=np.vstack([medians, median])\n",
    "    print(medians.shape)\n",
    "    return medians"
   ]
  },
  {
   "cell_type": "markdown",
   "id": "fa500650",
   "metadata": {},
   "source": [
    "### Metoda III - mediana + bez różnicy koloru + nie ma outlierów"
   ]
  },
  {
   "cell_type": "code",
   "execution_count": null,
   "id": "a07fe1d3",
   "metadata": {},
   "outputs": [],
   "source": [
    "def median_method3(tif_arr,radius, zradius):\n",
    "    medians = np.empty([0,7])\n",
    "    # zapętlanie procesu, aż zbiór danych będzie pusty\n",
    "    while len(tif_arr)>0:\n",
    "\n",
    "        # losowanie startowego piksela       \n",
    "        pixel = random.choice(tif_arr)\n",
    "\n",
    "        # utworzenie zbioru sąsiadującego\n",
    "        neighbours_arr = get_neighbours2(tif_arr, pixel, radius, zradius)\n",
    "        \n",
    "        # usuwanie zbioru sąsiadującego ze zbioru danych\n",
    "        tif_arr=remove_neighbours(neighbours_arr,tif_arr)\n",
    "\n",
    "        median = get_median(neighbours_arr)\n",
    "        \n",
    "        medians=np.vstack([medians, median])\n",
    "    print(medians.shape)\n",
    "    return medians"
   ]
  },
  {
   "cell_type": "markdown",
   "id": "03295658",
   "metadata": {},
   "source": [
    "### Wizualizacja w Plotly - Python"
   ]
  },
  {
   "cell_type": "code",
   "execution_count": null,
   "id": "877c1e7f",
   "metadata": {},
   "outputs": [],
   "source": [
    "def plotly_vis(arr, size_min, size_max):\n",
    "    # przygotowanie kolorów do wczytania do wykresu\n",
    "    colors_arr = arr[:,3:6]\n",
    "    colors_arr = [f'rgb({\"{},{},{}\".format(color[0],color[1],color[2])})' \n",
    "                  for color in colors_arr]\n",
    "    \n",
    "    # wykres 3d\n",
    "    trace1 = go.Scatter3d(\n",
    "        x=arr[:,2], \n",
    "        y=arr[:,1], \n",
    "        z=arr[:,0],\n",
    "        mode=\"markers\",\n",
    "        marker_color=colors_arr,\n",
    "        text=colors_arr,\n",
    "        customdata=arr[:,6],\n",
    "        marker=dict(\n",
    "            sizemode=\"area\",\n",
    "            sizeref=arr[:,6].max() / size_max ** 2,\n",
    "            sizemin=size_min,\n",
    "            opacity=1,\n",
    "            size=arr[:,6],\n",
    "            line=dict(width=0)\n",
    "        ),\n",
    "        hovertemplate='<br>x:%{x}<br>y:%{y}<br>z:%{z}'\n",
    "            +'<br>color: %{text}<br>size: %{customdata}'\n",
    "    )\n",
    "\n",
    "    data = [trace1]\n",
    "    title = \"Tiff 3D\"\n",
    "    layout = go.Layout(height=500, width=500, title=title)\n",
    "\n",
    "    fig = go.Figure(data=data, layout=layout)\n",
    "    fig.show()     "
   ]
  },
  {
   "cell_type": "markdown",
   "id": "b823f44c",
   "metadata": {},
   "source": [
    "#### Widgety i interakcja"
   ]
  },
  {
   "cell_type": "code",
   "execution_count": null,
   "id": "e8f8bc41",
   "metadata": {},
   "outputs": [],
   "source": [
    "@widgets.interact_manual(\n",
    "    method=['centroid_method','centroid_method2','centroid_method3',\n",
    "            'medoid_method','medoid_method2','medoid_method3',\n",
    "            'median_method','median_method2','median_method3'],\n",
    "    tiff=fixed(img26_arr),\n",
    "    threshold=widgets.IntSlider(value=100, min=30, max=200, continuous_update=False),\n",
    "    radius=widgets.IntSlider(value=5, min=1, max=20, continuous_update=False), \n",
    "    zradius=widgets.IntSlider(value=2, min=1, max=5, continuous_update=False), \n",
    "    color_diff=widgets.IntSlider(value=10, min=1, max=40, continuous_update=False)\n",
    "    ).options(manual_name=\"update\")\n",
    "\n",
    "def tif_reduction_widget(method,tiff, threshold,radius, zradius, color_diff):\n",
    "    tiff=clear_black_bg(tiff, threshold)\n",
    "    if method == 'centroid_method':                \n",
    "        data_points = centroid_method(tiff,radius,zradius,color_diff)\n",
    "    elif method == 'centroid_method2':\n",
    "        data_points = centroid_method2(tiff,radius,zradius,color_diff)  \n",
    "    elif method == 'centroid_method3':\n",
    "        data_points = centroid_method3(tiff,radius,zradius)           \n",
    "    elif method == 'medoid_method':\n",
    "        data_points = medoid_method(tiff,radius,zradius,color_diff)          \n",
    "    elif method == 'medoid_method2':\n",
    "        data_points = medoid_method2(tiff,radius,zradius,color_diff)       \n",
    "    elif method == 'medoid_method3':\n",
    "        data_points = medoid_method3(tiff,radius,zradius)\n",
    "    elif method == 'median_method':\n",
    "        data_points = median_method(tiff,radius,zradius,color_diff)          \n",
    "    elif method == 'median_method2':\n",
    "        data_points = median_method2(tiff,radius,zradius,color_diff)         \n",
    "    elif method == 'median_method3':\n",
    "        data_points = median_method3(tiff,radius,zradius)\n",
    "        \n",
    "    widgets.interact(plotly_vis, arr=fixed(data_points),\n",
    "                     size_min=widgets.IntSlider(\n",
    "                         value=10, min=0, max=20, continuous_update=False), \n",
    "                     size_max=widgets.IntSlider(\n",
    "                         value=50, min=10, max=65, continuous_update=False))"
   ]
  },
  {
   "cell_type": "markdown",
   "id": "7ea8e05a",
   "metadata": {},
   "source": [
    "Widżet - wersja 2, z możliwością dostosowania progu \"czarności\" dla każdego z kanałów RGB osobno (zmienne r_th, g_th, b_th) "
   ]
  },
  {
   "cell_type": "code",
   "execution_count": null,
   "id": "61c021a3",
   "metadata": {},
   "outputs": [],
   "source": [
    "@widgets.interact_manual(\n",
    "    method=['centroid_method','centroid_method2','centroid_method3',\n",
    "            'medoid_method','medoid_method2','medoid_method3',\n",
    "            'median_method','median_method2','median_method3'],\n",
    "    tiff=fixed(img26_arr),\n",
    "    r_th=widgets.IntSlider(value=100, min=30, max=255, continuous_update=False),\n",
    "    g_th=widgets.IntSlider(value=100, min=30, max=255, continuous_update=False),\n",
    "    b_th=widgets.IntSlider(value=100, min=30, max=255, continuous_update=False),\n",
    "    radius=widgets.IntSlider(value=5, min=1, max=20, continuous_update=False), \n",
    "    zradius=widgets.IntSlider(value=2, min=1, max=5, continuous_update=False), \n",
    "    color_diff=widgets.IntSlider(value=10, min=1, max=40, continuous_update=False)\n",
    "    ).options(manual_name=\"calculate\")\n",
    "def tif_reduction_widget(method,tiff, r_th,g_th,b_th,radius, zradius, color_diff):\n",
    "    tiff=clear_black_bg2(tiff, r_th,g_th,b_th)\n",
    "    if method == 'centroid_method':                \n",
    "        data_points = centroid_method(tiff,radius,zradius,color_diff)\n",
    "    elif method == 'centroid_method2':\n",
    "        data_points = centroid_method2(tiff,radius,zradius,color_diff)  \n",
    "    elif method == 'centroid_method3':\n",
    "        data_points = centroid_method3(tiff,radius,zradius)           \n",
    "    elif method == 'medoid_method':\n",
    "        data_points = medoid_method(tiff,radius,zradius,color_diff)          \n",
    "    elif method == 'medoid_method2':\n",
    "        data_points = medoid_method2(tiff,radius,zradius,color_diff)       \n",
    "    elif method == 'medoid_method3':\n",
    "        data_points = medoid_method3(tiff,radius,zradius)\n",
    "    elif method == 'median_method':\n",
    "        data_points = median_method(tiff,radius,zradius,color_diff)          \n",
    "    elif method == 'median_method2':\n",
    "        data_points = median_method2(tiff,radius,zradius,color_diff)         \n",
    "    elif method == 'median_method3':\n",
    "        data_points = median_method3(tiff,radius,zradius)\n",
    "        \n",
    "    widgets.interact_manual.options(manual_name=\"update scatter\")(plotly_vis, arr=fixed(data_points),\n",
    "                     size_min=widgets.IntSlider(\n",
    "                         value=10, min=0, max=20, continuous_update=False), \n",
    "                     size_max=widgets.IntSlider(\n",
    "                         value=50, min=10, max=65, continuous_update=False))"
   ]
  },
  {
   "cell_type": "markdown",
   "id": "458d7971",
   "metadata": {},
   "source": [
    "### Pomiary"
   ]
  },
  {
   "cell_type": "markdown",
   "id": "68a7128e",
   "metadata": {},
   "source": [
    "Test metod w II wariancie"
   ]
  },
  {
   "cell_type": "code",
   "execution_count": null,
   "id": "76c58907",
   "metadata": {},
   "outputs": [],
   "source": [
    "%timeit -r 1 centroid_method2(img26_arr_cl,1,1,10)"
   ]
  },
  {
   "cell_type": "code",
   "execution_count": null,
   "id": "e1ee075e",
   "metadata": {},
   "outputs": [],
   "source": [
    "%timeit -r 1 medoid_method2(img26_arr_cl,1,1,10)"
   ]
  },
  {
   "cell_type": "code",
   "execution_count": null,
   "id": "42427953",
   "metadata": {},
   "outputs": [],
   "source": [
    "%timeit -r 1 median_method2(img26_arr_cl,1,1,10)"
   ]
  },
  {
   "cell_type": "markdown",
   "id": "36c4ca4a",
   "metadata": {},
   "source": [
    "Test metod III wariant"
   ]
  },
  {
   "cell_type": "code",
   "execution_count": null,
   "id": "5b23d677",
   "metadata": {},
   "outputs": [],
   "source": [
    "%timeit -r 1 centroid_method3(img26_arr_cl,1,1)"
   ]
  },
  {
   "cell_type": "code",
   "execution_count": null,
   "id": "a1fcf0d9",
   "metadata": {},
   "outputs": [],
   "source": [
    "%timeit -r 1 medoid_method3(img26_arr_cl,1,1)"
   ]
  },
  {
   "cell_type": "code",
   "execution_count": null,
   "id": "7ac6cb4d",
   "metadata": {},
   "outputs": [],
   "source": [
    "%timeit -r 1 median_method3(img26_arr_cl,1,1)"
   ]
  },
  {
   "cell_type": "markdown",
   "id": "a1d49353",
   "metadata": {},
   "source": [
    "Inne testy"
   ]
  },
  {
   "cell_type": "code",
   "execution_count": null,
   "id": "881a102a",
   "metadata": {},
   "outputs": [],
   "source": [
    "%timeit medoid_method(img26_cl,3,1,5)"
   ]
  },
  {
   "cell_type": "code",
   "execution_count": null,
   "id": "8e341dd3",
   "metadata": {},
   "outputs": [],
   "source": [
    "%timeit medoid_method2(img26_cl,3,1,5)"
   ]
  },
  {
   "cell_type": "code",
   "execution_count": null,
   "id": "327581b2",
   "metadata": {},
   "outputs": [],
   "source": [
    "%timeit medoid_method3(img26_cl,3,1,5)"
   ]
  },
  {
   "cell_type": "code",
   "execution_count": null,
   "id": "dead720b",
   "metadata": {},
   "outputs": [],
   "source": [
    "%timeit median_method(img26_cl,3,1,5)"
   ]
  },
  {
   "cell_type": "code",
   "execution_count": null,
   "id": "f0bf964c",
   "metadata": {},
   "outputs": [],
   "source": [
    "%timeit median_method2(img26_cl,3,1,5)"
   ]
  },
  {
   "cell_type": "code",
   "execution_count": null,
   "id": "9ae2efd7",
   "metadata": {},
   "outputs": [],
   "source": [
    "%memit centroid_method3(img26_cl,3,1,5)"
   ]
  },
  {
   "cell_type": "code",
   "execution_count": null,
   "id": "b6651425",
   "metadata": {},
   "outputs": [],
   "source": [
    "%memit medoid_method(img26_cl,5,1,10)"
   ]
  },
  {
   "cell_type": "markdown",
   "id": "5f301f09",
   "metadata": {},
   "source": [
    "### Analiza porównawcza Testy"
   ]
  },
  {
   "cell_type": "code",
   "execution_count": null,
   "id": "54e084aa",
   "metadata": {},
   "outputs": [],
   "source": [
    "%timeit centroid_method(img26_arr_cl,5,1,10)\n",
    "%timeit centroid_method(img26_arr_cl,4,1,10)\n",
    "%timeit centroid_method(img26_arr_cl,3,1,10)"
   ]
  },
  {
   "cell_type": "code",
   "execution_count": null,
   "id": "d3b69f83",
   "metadata": {},
   "outputs": [],
   "source": [
    "%timeit centroid_method(img26_arr_cl,5,1,5)\n",
    "%timeit centroid_method(img26_arr_cl,4,1,5)\n",
    "%timeit centroid_method(img26_arr_cl,3,1,5)"
   ]
  },
  {
   "cell_type": "code",
   "execution_count": null,
   "id": "9823e1d8",
   "metadata": {},
   "outputs": [],
   "source": [
    "%timeit medoid_method(img26_arr_cl,5,1,10)\n",
    "%timeit medoid_method(img26_arr_cl,4,1,10)\n",
    "%timeit medoid_method(img26_arr_cl,3,1,10)"
   ]
  },
  {
   "cell_type": "code",
   "execution_count": null,
   "id": "e60be7a2",
   "metadata": {},
   "outputs": [],
   "source": [
    "%timeit medoid_method(img26_arr_cl,5,1,5)\n",
    "%timeit medoid_method(img26_arr_cl,4,1,5)\n",
    "%timeit medoid_method(img26_arr_cl,3,1,5)"
   ]
  },
  {
   "cell_type": "code",
   "execution_count": null,
   "id": "7a41dd11",
   "metadata": {},
   "outputs": [],
   "source": [
    "%timeit median_method(img26_arr_cl,5,1,10)\n",
    "%timeit median_method(img26_arr_cl,4,1,10)\n",
    "%timeit median_method(img26_arr_cl,3,1,10)"
   ]
  },
  {
   "cell_type": "code",
   "execution_count": null,
   "id": "cb25cead",
   "metadata": {},
   "outputs": [],
   "source": [
    "%timeit median_method(img26_arr_cl,5,1,5)\n",
    "%timeit median_method(img26_arr_cl,4,1,5)\n",
    "%timeit median_method(img26_arr_cl,3,1,5)"
   ]
  },
  {
   "cell_type": "markdown",
   "id": "b665c4cf",
   "metadata": {},
   "source": [
    "II"
   ]
  },
  {
   "cell_type": "code",
   "execution_count": null,
   "id": "c4a74aa7",
   "metadata": {},
   "outputs": [],
   "source": [
    "%timeit centroid_method2(img26_arr_cl,3,1,10)\n",
    "%timeit centroid_method2(img26_arr_cl,2,1,10)\n",
    "%timeit centroid_method2(img26_arr_cl,1,1,10)"
   ]
  },
  {
   "cell_type": "code",
   "execution_count": null,
   "id": "963f35e2",
   "metadata": {},
   "outputs": [],
   "source": [
    "%timeit centroid_method2(img26_arr_cl,3,1,1)\n",
    "%timeit centroid_method2(img26_arr_cl,2,1,1)\n",
    "%timeit centroid_method2(img26_arr_cl,1,1,1)"
   ]
  },
  {
   "cell_type": "code",
   "execution_count": null,
   "id": "8de76be0",
   "metadata": {},
   "outputs": [],
   "source": [
    "%timeit medoid_method2(img26_arr_cl,3,1,10)\n",
    "%timeit medoid_method2(img26_arr_cl,2,1,10)\n",
    "%timeit medoid_method2(img26_arr_cl,1,1,10)\n",
    "%timeit medoid_method2(img26_arr_cl,3,1,1)\n",
    "%timeit medoid_method2(img26_arr_cl,2,1,1)\n",
    "%timeit medoid_method2(img26_arr_cl,1,1,1)"
   ]
  },
  {
   "cell_type": "code",
   "execution_count": null,
   "id": "c7a6ec91",
   "metadata": {},
   "outputs": [],
   "source": [
    "%timeit median_method2(img26_arr_cl,3,1,10)\n",
    "%timeit median_method2(img26_arr_cl,2,1,10)\n",
    "%timeit median_method2(img26_arr_cl,1,1,10)\n",
    "%timeit median_method2(img26_arr_cl,3,1,1)\n",
    "%timeit median_method2(img26_arr_cl,2,1,1)\n",
    "%timeit median_method2(img26_arr_cl,1,1,1)"
   ]
  },
  {
   "cell_type": "markdown",
   "id": "430c218a",
   "metadata": {},
   "source": [
    "III"
   ]
  },
  {
   "cell_type": "code",
   "execution_count": null,
   "id": "62408cc0",
   "metadata": {},
   "outputs": [],
   "source": [
    "%timeit centroid_method3(img26_arr_cl,3,1,10)\n",
    "%timeit centroid_method3(img26_arr_cl,2,1,10)\n",
    "%timeit centroid_method3(img26_arr_cl,1,1,10)\n",
    "%timeit centroid_method3(img26_arr_cl,3,1,1)\n",
    "%timeit centroid_method3(img26_arr_cl,2,1,1)\n",
    "%timeit centroid_method3(img26_arr_cl,1,1,1)"
   ]
  },
  {
   "cell_type": "code",
   "execution_count": null,
   "id": "d50459c4",
   "metadata": {},
   "outputs": [],
   "source": [
    "%timeit medoid_method3(img26_arr_cl,3,1,10)\n",
    "%timeit medoid_method3(img26_arr_cl,2,1,10)\n",
    "%timeit medoid_method3(img26_arr_cl,1,1,10)\n",
    "%timeit medoid_method3(img26_arr_cl,3,1,1)\n",
    "%timeit medoid_method3(img26_arr_cl,2,1,1)\n",
    "%timeit medoid_method3(img26_arr_cl,1,1,1)"
   ]
  },
  {
   "cell_type": "code",
   "execution_count": null,
   "id": "1e77b0b7",
   "metadata": {},
   "outputs": [],
   "source": [
    "%timeit median_method3(img26_arr_cl,3,1,10)\n",
    "%timeit median_method3(img26_arr_cl,2,1,10)\n",
    "%timeit median_method3(img26_arr_cl,1,1,10)\n",
    "%timeit median_method3(img26_arr_cl,3,1,1)\n",
    "%timeit median_method3(img26_arr_cl,2,1,1)\n",
    "%timeit median_method3(img26_arr_cl,1,1,1)"
   ]
  },
  {
   "cell_type": "markdown",
   "id": "437693df",
   "metadata": {},
   "source": [
    "### Funkcja licząca różnicę kolorów "
   ]
  },
  {
   "cell_type": "code",
   "execution_count": null,
   "id": "2adb3587",
   "metadata": {},
   "outputs": [],
   "source": [
    "def colorDelta(px1, px2):\n",
    "    r1 = px1[3]\n",
    "    g1 = px1[4]\n",
    "    b1 = px1[5]\n",
    "\n",
    "    r2 = px2[3]\n",
    "    g2 = px2[4]\n",
    "    b2 = px2[5]\n",
    "\n",
    "    if (r1 == r2 & g1 == g2 & b1 == b2):\n",
    "        return 0\n",
    "\n",
    "\n",
    "    r = (r1 - r2)\n",
    "    g = (g1 - g2)\n",
    "    b = (b1 - b2)\n",
    "    \n",
    "    print(r,g,b)\n",
    "    \n",
    "    r_mean = (r1+r2)/2.\n",
    "    \n",
    "    diff = math.sqrt((2+r_mean/256.)*r**2+4*g**2+(2+(255.-r_mean)/256.)*b**2)\n",
    "\n",
    "    return diff"
   ]
  }
 ],
 "metadata": {
  "@webio": {
   "lastCommId": null,
   "lastKernelId": null
  },
  "kernelspec": {
   "display_name": "my_env_kernel",
   "language": "python",
   "name": "my_env_kernel"
  },
  "language_info": {
   "codemirror_mode": {
    "name": "ipython",
    "version": 3
   },
   "file_extension": ".py",
   "mimetype": "text/x-python",
   "name": "python",
   "nbconvert_exporter": "python",
   "pygments_lexer": "ipython3",
   "version": "3.9.4"
  }
 },
 "nbformat": 4,
 "nbformat_minor": 5
}
