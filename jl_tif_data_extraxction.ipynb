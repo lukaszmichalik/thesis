{
 "cells": [
  {
   "cell_type": "code",
   "execution_count": null,
   "id": "0df59346",
   "metadata": {},
   "outputs": [],
   "source": [
    "using Images\n",
    "using PlotlyJS\n",
    "using Colors, ColorVectorSpace, FixedPointNumbers, Statistics\n",
    "using Interact\n",
    "using Distances, Plots\n",
    "using BenchmarkTools"
   ]
  },
  {
   "cell_type": "code",
   "execution_count": null,
   "id": "ad03fe30",
   "metadata": {},
   "outputs": [],
   "source": [
    "img26 = load(\"dataset/rgb/FISH_Brachy/Image0026-rgb.tif\");"
   ]
  },
  {
   "cell_type": "code",
   "execution_count": null,
   "id": "6bd97f18",
   "metadata": {},
   "outputs": [],
   "source": [
    "tif_red=load(\"dataset/rgb/Centr_tel Brachy/Experiment-392.czi - C=r.tif\");\n",
    "tif_green=load(\"dataset/rgb/Centr_tel Brachy/Experiment-392.czi - C=g.tif\");\n",
    "tif_blue=load(\"dataset/rgb/Centr_tel Brachy/Experiment-392.czi - C=b.tif\");"
   ]
  },
  {
   "cell_type": "code",
   "execution_count": null,
   "id": "6947d26c",
   "metadata": {},
   "outputs": [],
   "source": [
    "function get_coords(img)\n",
    "    y_size, x_size, z_size = size(img)\n",
    "\n",
    "    z_list = zeros(0)\n",
    "\n",
    "    for i in 1:z_size\n",
    "        append!(z_list, fill(i ,y_size * x_size))\n",
    "    end\n",
    "\n",
    "    x_list = zeros(0)\n",
    "    for i in 1:x_size\n",
    "        append!(x_list, fill(i ,y_size))\n",
    "    end  \n",
    "\n",
    "    append!(x_list, repeat(x_list,z_size-1))\n",
    "\n",
    "    y_list = collect(1:y_size)\n",
    "    append!(y_list, repeat(y_list,z_size * x_size-1));\n",
    "    \n",
    "    return hcat(y_list,x_list,z_list)\n",
    "end"
   ]
  },
  {
   "cell_type": "markdown",
   "id": "d2ef0e7d",
   "metadata": {},
   "source": [
    "Połączenie współrzędnych z kolorami i rozmiarem dla img26"
   ]
  },
  {
   "cell_type": "code",
   "execution_count": null,
   "id": "c19fe0c8",
   "metadata": {},
   "outputs": [],
   "source": [
    "coords_matrix = get_coords(img26);\n",
    "img26_flat = vec(img26)\n",
    "img26_flat = RGB{Float64}.(img26_flat)\n",
    "ones_array = ones(length(img26_flat))\n",
    "img26_arr=hcat(coords_matrix, red.(img26_flat), green.(img26_flat), blue.(img26_flat), ones_array);"
   ]
  },
  {
   "cell_type": "markdown",
   "id": "f201c93e",
   "metadata": {},
   "source": [
    "Połączenie współrzędnych z kolorami i rozmiarem dla exp392"
   ]
  },
  {
   "cell_type": "code",
   "execution_count": null,
   "id": "d43547ce",
   "metadata": {},
   "outputs": [],
   "source": [
    "coords_matrix = get_coords(tif_red)\n",
    "\n",
    "# flatten 3d array into 1d array\n",
    "tif_red_flat = vec(tif_red)\n",
    "tif_green_flat = vec(tif_green)\n",
    "tif_blue_flat = vec(tif_blue)\n",
    "\n",
    "\n",
    "# tif_flat = RGB{Float64}.(tif_red_flat*4,tif_green_flat*4,tif_blue_flat*4)\n",
    "\n",
    "# # # creating column of ones with size as number of pixels\n",
    "ones_array = ones(length(tif_red_flat))\n",
    "\n",
    "# # # connecting 1d arrays like columns into 2d array\n",
    "# # #img26_arr=hcat(y_list,x_list,z_list, img26_flat, ones_array);\n",
    "tif_arr=hcat(coords_matrix, Float64.(tif_red_flat*4), Float64.(tif_green_flat*4), Float64.(tif_blue_flat*4), ones_array);"
   ]
  },
  {
   "cell_type": "markdown",
   "id": "b593ad82",
   "metadata": {},
   "source": [
    "### Usuwanie czarnego tła"
   ]
  },
  {
   "cell_type": "code",
   "execution_count": null,
   "id": "7a679b50",
   "metadata": {},
   "outputs": [],
   "source": [
    "function clear_black_bg(tif_arr, threshold)\n",
    "    tif_arr = tif_arr[vec(mapslices(col -> (col[4] .> threshold) | (col[5] .> threshold) | (col[6] .> threshold), \n",
    "            tif_arr, dims = 2)), :]\n",
    "    return tif_arr\n",
    "end"
   ]
  },
  {
   "cell_type": "code",
   "execution_count": null,
   "id": "daca83f2",
   "metadata": {},
   "outputs": [],
   "source": [
    "img26_arr_clr=clear_black_bg(img26_arr,0.393);"
   ]
  },
  {
   "cell_type": "code",
   "execution_count": null,
   "id": "730bda86",
   "metadata": {},
   "outputs": [],
   "source": [
    "tif_arr_clr=clear_black_bg(tif_arr,0.5);"
   ]
  },
  {
   "cell_type": "markdown",
   "id": "bbb08033",
   "metadata": {},
   "source": [
    "### funkcje pomocnicze"
   ]
  },
  {
   "cell_type": "code",
   "execution_count": null,
   "id": "b5168318",
   "metadata": {},
   "outputs": [],
   "source": [
    "function get_centroid(array_2d)\n",
    "    length = size(array_2d, 1)\n",
    "    sum_y = sum(array_2d[:,1])\n",
    "    sum_x = sum(array_2d[:,2])\n",
    "    sum_z = sum(array_2d[:,3])\n",
    "    color_mean=mean(array_2d[:,4])\n",
    "    \n",
    "    return hcat(sum_y/length, sum_x/length, sum_z/length, mean(array_2d[:,4]), mean(array_2d[:,5]), mean(array_2d[:,6]), length)\n",
    "end"
   ]
  },
  {
   "cell_type": "code",
   "execution_count": null,
   "id": "502e966a",
   "metadata": {},
   "outputs": [],
   "source": [
    "function get_neighbours(tif_arr, pixel, radius, zradius, color_diff)\n",
    "    \n",
    "    n = tif_arr[vec(mapslices(col -> (col[1] .<= pixel[1]+radius) & (col[1] .>= pixel[1]-radius)\n",
    "                                    & (col[2] .<= pixel[2]+radius) & (col[2] .>= pixel[2]-radius)\n",
    "                                    & (col[3] .<= pixel[3]+zradius) & (col[3] .>= pixel[3]-zradius)\n",
    "                                    & (col[4] .<= pixel[4]+color_diff) & (col[4] .>= pixel[4]-color_diff)\n",
    "                                    & (col[5] .<= pixel[5]+color_diff) & (col[5] .>= pixel[5]-color_diff)\n",
    "                                    & (col[6] .<= pixel[6]+color_diff) & (col[6] .>= pixel[6]-color_diff), \n",
    "                                    tif_arr, dims = 2)), :]\n",
    "    return n\n",
    "end"
   ]
  },
  {
   "cell_type": "markdown",
   "id": "595294a5",
   "metadata": {},
   "source": [
    "### Centroid Method, do array z odosobnionymi kolorami"
   ]
  },
  {
   "cell_type": "code",
   "execution_count": null,
   "id": "7bd89f7e",
   "metadata": {},
   "outputs": [],
   "source": [
    "function centroid_method(tif_arr,radius,zradius,color_diff)\n",
    "    # defining empty matrix where centroids will be stored\n",
    "    centroids = Array{Float64}(undef, 0, 7)\n",
    "\n",
    "    # looping thorugh tif_arrlicated array until it's empty\n",
    "    while size(tif_arr, 1)>0\n",
    "\n",
    "        # assign starting point to random pixel\n",
    "        pixel = tif_arr[rand(1:end), :] \n",
    "\n",
    "        n=get_neighbours(tif_arr, pixel, radius, zradius, color_diff)\n",
    "        \n",
    "        # calculating centroid vector from array of neighbours\n",
    "        centroid = get_centroid(n)\n",
    "\n",
    "        # adding centroid to centroids matrix\n",
    "        centroids = [centroids; centroid]\n",
    "\n",
    "        # deleting neighbours from tif_arrlicated array\n",
    "        tif_arr=tif_arr[vec(mapslices(row -> !(row in eachrow(n)), tif_arr, dims = 2)),:]\n",
    "\n",
    "    end\n",
    "    \n",
    "    return centroids\n",
    "end"
   ]
  },
  {
   "cell_type": "markdown",
   "id": "83801069",
   "metadata": {},
   "source": [
    "### medoid method"
   ]
  },
  {
   "cell_type": "code",
   "execution_count": null,
   "id": "de0e0346",
   "metadata": {},
   "outputs": [],
   "source": [
    "function get_medoid(n)\n",
    "    distMatrix=pairwise(Euclidean(),n[:,3:6],dims=1)\n",
    "    medoid=n[argmin(sum(distMatrix,dims=2))[1],:]\n",
    "    medoid=reshape(medoid, 1, length(medoid))\n",
    "    medoid[7]=size(n,1)\n",
    "    \n",
    "    return medoid\n",
    "end"
   ]
  },
  {
   "cell_type": "code",
   "execution_count": null,
   "id": "74c32a06",
   "metadata": {},
   "outputs": [],
   "source": [
    "function medoid_method(tif_arr,radius,zradius,color_diff)\n",
    "# defining empty matrix where centroids will be stored\n",
    "    medoids = Array{Float64}(undef, 0, 7)\n",
    "\n",
    "    # looping thorugh tif_arrlicated array until it's empty\n",
    "    while size(tif_arr, 1)>0\n",
    "\n",
    "        # assign starting point to random pixel\n",
    "        pixel = tif_arr[rand(1:end), :] \n",
    "\n",
    "        # creating matrix of neighbours\n",
    "        n=get_neighbours(tif_arr, pixel, radius, zradius, color_diff)\n",
    "\n",
    "        # adding centroid to centroids matrix\n",
    "\n",
    "        medoid=get_medoid(n)\n",
    "        medoids=[medoids;medoid]\n",
    "        # deleting neighbours from tif_arrlicated array\n",
    "        tif_arr=tif_arr[vec(mapslices(row -> !(row in eachrow(n)), tif_arr, dims = 2)),:]\n",
    "\n",
    "    end\n",
    "    \n",
    "    return medoids\n",
    "end"
   ]
  },
  {
   "cell_type": "code",
   "execution_count": null,
   "id": "b41cbdb1",
   "metadata": {},
   "outputs": [],
   "source": [
    "function plotly_vis(matrix, smin, smax)\n",
    "    color_arr= RGB{Float64}.(matrix[:,4],matrix[:,5],matrix[:,6])\n",
    "    return PlotlyJS.plot(PlotlyJS.scatter3d(\n",
    "            ;x=matrix[:,2], \n",
    "            y=matrix[:,1], \n",
    "            z=matrix[:,3],\n",
    "            text=matrix[:,7],\n",
    "            customdata=color_arr,\n",
    "#             color=matrix[:,4], # opcja jeśli nie rozdielono kolorów\n",
    "            type=\"scatter3d\",\n",
    "            mode=\"markers\",\n",
    "            marker=attr(\n",
    "                sizemode=\"area\",\n",
    "                size=matrix[:,7],\n",
    "                color=color_arr,\n",
    "                sizeref=(maximum(matrix[:,7])) / (smax ^ 2),\n",
    "                sizemin=smin,\n",
    "                opacity=1,\n",
    "                line=attr(width=0)\n",
    "            ),\n",
    "\n",
    "            hovertemplate=\"<br>x:%{x}<br>y:%{y}<br>z:%{z}<br>color: %{customdata}<br>size: %{text}\"\n",
    "        )\n",
    "    )\n",
    "end"
   ]
  },
  {
   "cell_type": "code",
   "execution_count": null,
   "id": "ff4b5587",
   "metadata": {},
   "outputs": [],
   "source": [
    "function tif_reduction_widget(tif_arr)\n",
    "    radius = slider(10:20, label = \"radius\")\n",
    "    zradius = slider(1:5, label = \"zradius\")\n",
    "    color_diff = slider(0:0.01:.3, label = \"color_diff\")\n",
    "    smin = slider(0:20, label = \"smin\")\n",
    "    smax = slider(40:60, label = \"smax\")\n",
    "    method = dropdown(OrderedDict(\"centroid method\" => \"centroid_method\", \"medoid method\" => \"medoid_method\"),label=\"method\")\n",
    "    update = button(\"compute\")\n",
    "    output= Observable{Any}((undef, 0, 0))\n",
    "    plt=Plots.plot()\n",
    "    Interact.@map (&update; \n",
    "        if  method[] == \"medoid_method\"\n",
    "            output[] = medoid_method(tif_arr,radius[],zradius[],color_diff[])\n",
    "        elseif method[] == \"centroid_method\"\n",
    "            output[] = centroid_method(tif_arr,radius[],zradius[],color_diff[])\n",
    "        end\n",
    "    )\n",
    "    plt = Interact.@map plotly_vis(&output,&smin,&smax)\n",
    "    wdg = Widget([\"radius\" => radius, \"zradius\" => zradius, \n",
    "            \"color_diff\" => color_diff, \"update\" => update, \n",
    "            \"smin\" => smin, \"smax\" => smax, \n",
    "            \"method\"=>method], output = output);\n",
    "    @layout! wdg hbox(plt, vbox(:radius, :zradius, :color_diff, pad(1em,:method), :update, :smin, :smax))\n",
    "\n",
    "end"
   ]
  },
  {
   "cell_type": "code",
   "execution_count": null,
   "id": "3bce5582",
   "metadata": {},
   "outputs": [],
   "source": [
    "tif_reduction_widget(img26_arr_clr)"
   ]
  },
  {
   "cell_type": "code",
   "execution_count": null,
   "id": "380e6a0b",
   "metadata": {},
   "outputs": [],
   "source": [
    "centroids=centroid_method(img26_arr,15,2,0.0393);"
   ]
  },
  {
   "cell_type": "code",
   "execution_count": null,
   "id": "d6e12483",
   "metadata": {},
   "outputs": [],
   "source": [
    "plotly_vis(centroids)"
   ]
  },
  {
   "cell_type": "markdown",
   "id": "e9c96967",
   "metadata": {},
   "source": [
    "### Pomiary"
   ]
  },
  {
   "cell_type": "code",
   "execution_count": null,
   "id": "afc6ee09",
   "metadata": {},
   "outputs": [],
   "source": [
    "@time centroid_method(img26_arr,10,1,0.0393);"
   ]
  },
  {
   "cell_type": "code",
   "execution_count": null,
   "id": "13a0439f",
   "metadata": {},
   "outputs": [],
   "source": [
    "@btime centroid_method(img26_arr,10,1,0.0393)"
   ]
  },
  {
   "cell_type": "code",
   "execution_count": null,
   "id": "7622bf8e",
   "metadata": {},
   "outputs": [],
   "source": [
    "@benchmark centroid_method($img26_arr,10,1,0.0393)"
   ]
  },
  {
   "cell_type": "code",
   "execution_count": null,
   "id": "28358417",
   "metadata": {},
   "outputs": [],
   "source": [
    "@benchmark centroid_method($img26_arr,5,1,0.0393)"
   ]
  },
  {
   "cell_type": "code",
   "execution_count": null,
   "id": "2e7eb20e",
   "metadata": {},
   "outputs": [],
   "source": [
    "@benchmark medoid_method($img26_arr,10,1,0.0393)"
   ]
  },
  {
   "cell_type": "code",
   "execution_count": null,
   "id": "934ba6c0",
   "metadata": {},
   "outputs": [],
   "source": [
    "@benchmark get_centroid($img26_arr)"
   ]
  }
 ],
 "metadata": {
  "@webio": {
   "lastCommId": null,
   "lastKernelId": null
  },
  "kernelspec": {
   "display_name": "Julia 1.6.1",
   "language": "julia",
   "name": "julia-1.6"
  },
  "language_info": {
   "file_extension": ".jl",
   "mimetype": "application/julia",
   "name": "julia",
   "version": "1.6.1"
  }
 },
 "nbformat": 4,
 "nbformat_minor": 5
}
