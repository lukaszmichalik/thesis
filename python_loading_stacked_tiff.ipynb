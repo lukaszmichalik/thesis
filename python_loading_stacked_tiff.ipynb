{
 "cells": [
  {
   "cell_type": "code",
   "execution_count": 4,
   "id": "1b4f15c5",
   "metadata": {},
   "outputs": [
    {
     "name": "stderr",
     "output_type": "stream",
     "text": [
      "<tifffile.TiffFile 'focal1.tif'> ImageJ series contains unidentified dimension\n"
     ]
    }
   ],
   "source": [
    "from PIL import Image\n",
    "import sys\n",
    "import numpy as np\n",
    "import cv2\n",
    "import tifffile\n",
    "\n",
    "# command to see all contents of numpy arrays\n",
    "# np.set_printoptions(threshold=sys.maxsize)\n",
    "\n",
    "# command to reduce contents of numpy arrays ( default settings )\n",
    "# np.set_printoptions(threshold=None)\n",
    "\n",
    "# PIL opening focal1.tiff\n",
    "\n",
    "file = 'dataset/EmbryoCE/focal1.tif'\n",
    "im = Image.open(file)\n",
    "\n",
    "im = tifffile.imread(file)"
   ]
  },
  {
   "cell_type": "code",
   "execution_count": 7,
   "id": "d06a790d",
   "metadata": {},
   "outputs": [
    {
     "data": {
      "text/plain": [
       "(205, 434, 425)"
      ]
     },
     "execution_count": 7,
     "metadata": {},
     "output_type": "execute_result"
    }
   ],
   "source": [
    "im.shape"
   ]
  },
  {
   "cell_type": "code",
   "execution_count": 9,
   "id": "31dfa291",
   "metadata": {},
   "outputs": [
    {
     "data": {
      "text/plain": [
       "(18, 1040, 1388)"
      ]
     },
     "execution_count": 9,
     "metadata": {},
     "output_type": "execute_result"
    }
   ],
   "source": [
    "# PIL opening Exp392_C=b.tif\n",
    "\n",
    "file2 = 'dataset/Exp392_C=b.tif'\n",
    "\n",
    "im2 = Image.open(file2)\n",
    "\n",
    "im2 = tifffile.imread(file2)\n",
    "\n",
    "im2.shape"
   ]
  },
  {
   "cell_type": "code",
   "execution_count": 11,
   "id": "94b7da55",
   "metadata": {},
   "outputs": [
    {
     "data": {
      "text/plain": [
       "(18, 1040, 1388)"
      ]
     },
     "execution_count": 11,
     "metadata": {},
     "output_type": "execute_result"
    }
   ],
   "source": [
    "## OpenCV opening Exp392_C=b.tif\n",
    "\n",
    "file3 = 'dataset/Exp392_C=b.tif'\n",
    "im3= cv2.imread(file3, 0) \n",
    "im3 = tifffile.imread(file3)\n",
    "\n",
    "im3.shape"
   ]
  }
 ],
 "metadata": {
  "kernelspec": {
   "display_name": "my_env_kernel",
   "language": "python",
   "name": "my_env_kernel"
  },
  "language_info": {
   "codemirror_mode": {
    "name": "ipython",
    "version": 3
   },
   "file_extension": ".py",
   "mimetype": "text/x-python",
   "name": "python",
   "nbconvert_exporter": "python",
   "pygments_lexer": "ipython3",
   "version": "3.9.4"
  }
 },
 "nbformat": 4,
 "nbformat_minor": 5
}
