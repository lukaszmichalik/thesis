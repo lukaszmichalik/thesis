{
 "cells": [
  {
   "cell_type": "code",
   "execution_count": null,
   "id": "1b4f15c5",
   "metadata": {},
   "outputs": [],
   "source": [
    "from PIL import Image\n",
    "import sys\n",
    "import numpy as np\n",
    "import cv2\n",
    "import tifffile\n",
    "import plotly.express as px\n",
    "from IPython import display\n",
    "from matplotlib import pyplot as plt\n",
    "import pandas as pd\n",
    "\n",
    "#command to see all contents of numpy arrays\n",
    "#np.set_printoptions(threshold=sys.maxsize)\n",
    "\n",
    "# command to reduce contents of numpy arrays ( default settings )\n",
    "#np.set_printoptions(threshold=None)"
   ]
  },
  {
   "cell_type": "code",
   "execution_count": null,
   "id": "78f777ad",
   "metadata": {},
   "outputs": [],
   "source": [
    "# OpenCV opening file focal1\n",
    "\n",
    "f1_file = 'dataset/EmbryoCE/focal1.tif'\n",
    "\n",
    "# 0 means grayscale image, 1 means kolor image\n",
    "f1= cv2.imread(f1_file, 0) \n",
    "\n",
    "#adding z dimention with tiffile library\n",
    "f1 = tifffile.imread(f1_file)\n",
    "\n",
    "# inverting grayscale 180 dgree\n",
    "f1 = cv2.bitwise_not(f1)\n",
    "\n",
    "f1.shape"
   ]
  },
  {
   "cell_type": "code",
   "execution_count": null,
   "id": "a44378e2",
   "metadata": {},
   "outputs": [],
   "source": [
    "# displaying all layers of inverted focal1\n",
    "\n",
    "#for layer in f1:\n",
    "    #plt.imshow(layer, cmap='gray')\n",
    "    #plt.show()"
   ]
  },
  {
   "cell_type": "markdown",
   "id": "185e393c",
   "metadata": {},
   "source": [
    "# Deleting size of file for easier code and methods testing"
   ]
  },
  {
   "cell_type": "code",
   "execution_count": null,
   "id": "0dd006d9",
   "metadata": {},
   "outputs": [],
   "source": [
    "# creating test array to test reducing in numpy arrays\n",
    "\n",
    "ar = np.random.randint(0, 1000, (5, 4, 3))"
   ]
  },
  {
   "cell_type": "code",
   "execution_count": null,
   "id": "0365ce70",
   "metadata": {},
   "outputs": [],
   "source": [
    "ar"
   ]
  },
  {
   "cell_type": "code",
   "execution_count": null,
   "id": "017213c2",
   "metadata": {},
   "outputs": [],
   "source": [
    "# line to delete z - coordinate (layers in tiff) in numpy arrays\n",
    "\n",
    "ar=np.delete(ar, np.s_[2:],axis=0)\n",
    "ar"
   ]
  },
  {
   "cell_type": "code",
   "execution_count": null,
   "id": "8bec3752",
   "metadata": {},
   "outputs": [],
   "source": [
    "ar=np.delete(ar, np.s_[2:],axis=1)"
   ]
  },
  {
   "cell_type": "code",
   "execution_count": null,
   "id": "31288cca",
   "metadata": {},
   "outputs": [],
   "source": [
    "ar"
   ]
  },
  {
   "cell_type": "code",
   "execution_count": null,
   "id": "7189a07d",
   "metadata": {},
   "outputs": [],
   "source": [
    "ar=np.delete(ar, np.s_[2:],axis=2)\n",
    "ar"
   ]
  },
  {
   "cell_type": "code",
   "execution_count": null,
   "id": "0055465e",
   "metadata": {},
   "outputs": [],
   "source": [
    "f1=np.delete(f1, np.s_[3:],axis=0)"
   ]
  },
  {
   "cell_type": "code",
   "execution_count": null,
   "id": "4f5ee678",
   "metadata": {},
   "outputs": [],
   "source": [
    "# reducing actual tiff file\n",
    "\n",
    "f1=np.delete(f1, np.s_[5:],axis=0)\n",
    "# f1=np.delete(f1, np.s_[300:],axis=1)\n",
    "# f1=np.delete(f1, np.s_[300:],axis=2)\n",
    "# f1=np.delete(f1, np.s_[:100],axis=1)\n",
    "# f1=np.delete(f1, np.s_[:100],axis=2)\n",
    "f1.shape"
   ]
  },
  {
   "cell_type": "code",
   "execution_count": null,
   "id": "ace3606d",
   "metadata": {},
   "outputs": [],
   "source": [
    "f1.shape"
   ]
  },
  {
   "cell_type": "code",
   "execution_count": null,
   "id": "6b2c62a9",
   "metadata": {},
   "outputs": [],
   "source": [
    "#histogram\n",
    "plt.hist(f1[0].flat, bins=100, range=(0,255));"
   ]
  },
  {
   "cell_type": "markdown",
   "id": "26d0cba9",
   "metadata": {},
   "source": [
    "# Converting 3-d array to dataframe"
   ]
  },
  {
   "cell_type": "code",
   "execution_count": null,
   "id": "d318af17",
   "metadata": {},
   "outputs": [],
   "source": [
    "# obtaining f1 shapes\n",
    "\n",
    "a,b,c = f1.shape\n",
    "a"
   ]
  },
  {
   "cell_type": "code",
   "execution_count": null,
   "id": "901b35b8",
   "metadata": {},
   "outputs": [],
   "source": [
    "testdf = pd.DataFrame({'value': {0: 5.6, 1: -2.0, 2: 3.0},\n",
    " 'x': {0: 0, 1: 0, 2: 0},\n",
    " 'y': {0: 1, 1: 0, 2: 1},\n",
    " 'z': {0: 2, 1: 0, 2: 2}})"
   ]
  },
  {
   "cell_type": "code",
   "execution_count": null,
   "id": "3505da01",
   "metadata": {},
   "outputs": [],
   "source": [
    "testdf"
   ]
  },
  {
   "cell_type": "code",
   "execution_count": null,
   "id": "ff61b9b6",
   "metadata": {},
   "outputs": [],
   "source": [
    "arr = np.array([[1,2,3],[4,5,6],[7,8,9],[7,8,9]])\n",
    "df = pd.DataFrame(f1[0]).stack().rename_axis(['y', 'x']).reset_index(name='val')\n",
    "df"
   ]
  },
  {
   "cell_type": "code",
   "execution_count": null,
   "id": "e4c198a3",
   "metadata": {},
   "outputs": [],
   "source": [
    "i=0\n",
    "df = pd.DataFrame()\n",
    "for layer in f1:\n",
    "    df2 = pd.DataFrame(layer).stack().rename_axis(['y', 'x']).reset_index(name='val')\n",
    "    df2 = df2.drop(df2.index[     ( df2['val'] < 200)              ])\n",
    "    df2=df2.reset_index(drop=True)\n",
    "    df2['z'] = i\n",
    "    df=df.append(df2)\n",
    "    i=i+1\n",
    "df\n"
   ]
  },
  {
   "cell_type": "code",
   "execution_count": null,
   "id": "00f34f05",
   "metadata": {},
   "outputs": [],
   "source": [
    "df=df.reset_index(drop=True)\n",
    "df"
   ]
  },
  {
   "cell_type": "code",
   "execution_count": null,
   "id": "d9edefad",
   "metadata": {},
   "outputs": [],
   "source": [
    "df.tail()"
   ]
  },
  {
   "cell_type": "code",
   "execution_count": null,
   "id": "86679941",
   "metadata": {},
   "outputs": [],
   "source": [
    "# df = pd.DataFrame(f1[0]).stack().rename_axis(['y', 'x']).reset_index(name='val')\n",
    "# df = df.drop(df.index[df['val'] < 180])\n",
    "# df=df.reset_index(drop=True)\n",
    "# df['z'] = 0\n",
    "# df"
   ]
  },
  {
   "cell_type": "code",
   "execution_count": null,
   "id": "8ac6b80a",
   "metadata": {},
   "outputs": [],
   "source": [
    "df = df.astype({'val':'int'})"
   ]
  },
  {
   "cell_type": "code",
   "execution_count": null,
   "id": "4f9571c3",
   "metadata": {},
   "outputs": [],
   "source": [
    "df.dtypes"
   ]
  },
  {
   "cell_type": "code",
   "execution_count": null,
   "id": "7363394a",
   "metadata": {},
   "outputs": [],
   "source": [
    "fig = px.scatter_3d(df,x='x', y='y', z='z'\n",
    "                    , range_color = [0,255]\n",
    "                    , color='val'\n",
    "                    , color_continuous_scale='Gray'\n",
    "                   )\n",
    "fig.show()\n",
    "\n",
    "df.dtypes"
   ]
  },
  {
   "cell_type": "code",
   "execution_count": null,
   "id": "c8457d5e",
   "metadata": {},
   "outputs": [],
   "source": [
    "df.tail()"
   ]
  },
  {
   "cell_type": "markdown",
   "id": "2a756f38",
   "metadata": {},
   "source": [
    "## Inne metody wczytywania plików"
   ]
  },
  {
   "cell_type": "code",
   "execution_count": null,
   "id": "94552156",
   "metadata": {},
   "outputs": [],
   "source": [
    "# PIL opening focal1.tiff\n",
    "\n",
    "file = 'dataset/EmbryoCE/focal1.tif'\n",
    "focal1 = Image.open(file)\n",
    "\n",
    "focal1 = tifffile.imread(file)\n",
    "\n",
    "focal1.shape"
   ]
  },
  {
   "cell_type": "code",
   "execution_count": null,
   "id": "31dfa291",
   "metadata": {},
   "outputs": [],
   "source": [
    "# PIL opening Exp392_C=b.tif\n",
    "\n",
    "file2 = 'dataset/Exp392_C=b.tif'\n",
    "\n",
    "im2 = Image.open(file2)\n",
    "\n",
    "im2 = tifffile.imread(file2)\n",
    "\n",
    "im2.shape\n",
    "\n",
    "im2"
   ]
  },
  {
   "cell_type": "code",
   "execution_count": null,
   "id": "94b7da55",
   "metadata": {},
   "outputs": [],
   "source": [
    "## OpenCV opening Exp392_C=b.tif\n",
    "\n",
    "file3 = 'dataset/Exp392_C=b.tif'\n",
    "im3= cv2.imread(file3, 0) \n",
    "im3 = tifffile.imread(file3)\n",
    "\n",
    "im3.shape"
   ]
  }
 ],
 "metadata": {
  "kernelspec": {
   "display_name": "my_env_kernel",
   "language": "python",
   "name": "my_env_kernel"
  },
  "language_info": {
   "codemirror_mode": {
    "name": "ipython",
    "version": 3
   },
   "file_extension": ".py",
   "mimetype": "text/x-python",
   "name": "python",
   "nbconvert_exporter": "python",
   "pygments_lexer": "ipython3",
   "version": "3.9.4"
  }
 },
 "nbformat": 4,
 "nbformat_minor": 5
}
