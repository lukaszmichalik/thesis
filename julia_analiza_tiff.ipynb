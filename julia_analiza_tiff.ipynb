{
 "cells": [
  {
   "cell_type": "markdown",
   "id": "98817f7c",
   "metadata": {},
   "source": [
    "### Biblioteki"
   ]
  },
  {
   "cell_type": "code",
   "execution_count": null,
   "id": "0df59346",
   "metadata": {},
   "outputs": [],
   "source": [
    "using Images\n",
    "using PlotlyJS\n",
    "using Colors, ColorVectorSpace, FixedPointNumbers, Statistics\n",
    "using Interact\n",
    "using Distances, Plots\n",
    "using BenchmarkTools"
   ]
  },
  {
   "cell_type": "markdown",
   "id": "3ef6f125",
   "metadata": {},
   "source": [
    "# Przygotowanie Danych"
   ]
  },
  {
   "cell_type": "markdown",
   "id": "80fbe2aa",
   "metadata": {},
   "source": [
    "### Wczytanie pliku Image0026-rgb.tif"
   ]
  },
  {
   "cell_type": "code",
   "execution_count": null,
   "id": "ad03fe30",
   "metadata": {},
   "outputs": [],
   "source": [
    "# wczytanie pliku TIFF przy użyciu biblioteki Images.jl\n",
    "img26 = load(\"dataset/rgb/FISH_Brachy/Image0026-rgb.tif\");"
   ]
  },
  {
   "cell_type": "code",
   "execution_count": null,
   "id": "99de6df2",
   "metadata": {},
   "outputs": [],
   "source": [
    "# wnętrze piksela\n",
    "dump(img26[rand(1:end)])"
   ]
  },
  {
   "cell_type": "code",
   "execution_count": null,
   "id": "eeb478ae",
   "metadata": {},
   "outputs": [],
   "source": [
    "# wyświetlenie serii obrazów\n",
    "mosaicview(img26; fillvalue=0.5, npad=2, ncol=6, rowmajor=true)"
   ]
  },
  {
   "cell_type": "markdown",
   "id": "b1d665d9",
   "metadata": {},
   "source": [
    "### Wczytanie plików Experiment-392"
   ]
  },
  {
   "cell_type": "code",
   "execution_count": null,
   "id": "6bd97f18",
   "metadata": {},
   "outputs": [],
   "source": [
    "# wczytanie ścieżek do plików\n",
    "file_red = \"dataset/rgb/Centr_tel Brachy/Experiment-392.czi - C=r.tif\"\n",
    "file_green = \"dataset/rgb/Centr_tel Brachy/Experiment-392.czi - C=g.tif\"\n",
    "file_blue = \"dataset/rgb/Centr_tel Brachy/Experiment-392.czi - C=b.tif\"\n",
    "\n",
    "# wczytanie plików TIFF przy użyciu biblioteki Images\n",
    "tif_red=load(file_red);\n",
    "tif_green=load(file_green);\n",
    "tif_blue=load(file_blue);"
   ]
  },
  {
   "cell_type": "markdown",
   "id": "b25400b0",
   "metadata": {},
   "source": [
    "### Funkcja generująca współrzędne dla układu 3D (3D Array)"
   ]
  },
  {
   "cell_type": "code",
   "execution_count": null,
   "id": "6947d26c",
   "metadata": {},
   "outputs": [],
   "source": [
    "function get_coords(img)\n",
    "    y_size, x_size, z_size = size(img)\n",
    "\n",
    "    z_list = zeros(0)\n",
    "\n",
    "    for i in 1:z_size\n",
    "        append!(z_list, fill(i ,y_size * x_size))\n",
    "    end\n",
    "\n",
    "    x_list = zeros(0)\n",
    "    for i in 1:x_size\n",
    "        append!(x_list, fill(i ,y_size))\n",
    "    end  \n",
    "\n",
    "    append!(x_list, repeat(x_list,z_size-1))\n",
    "\n",
    "    y_list = collect(1:y_size)\n",
    "    append!(y_list, repeat(y_list,z_size * x_size-1));\n",
    "    \n",
    "    return hcat(y_list,x_list,z_list)\n",
    "end"
   ]
  },
  {
   "cell_type": "markdown",
   "id": "d2ef0e7d",
   "metadata": {},
   "source": [
    "### Połączenie współrzędnych, kolorów i rozmiarów pikseli"
   ]
  },
  {
   "cell_type": "code",
   "execution_count": null,
   "id": "c19fe0c8",
   "metadata": {},
   "outputs": [],
   "source": [
    "# wydobycie współrzędnych\n",
    "coords_matrix = get_coords(img26);\n",
    "\n",
    "# spłaszczenie danych do postaci Wektora (Vector)\n",
    "img26_flat = vec(img26)\n",
    "\n",
    "# przekształcenie typu kolorów z N0f8 na Float64\n",
    "img26_flat = RGB{Float64}.(img26_flat)\n",
    "\n",
    "# utworzenie kolumny rozmiarów pikseli (same jedynki)\n",
    "ones_array = ones(length(img26_flat))\n",
    "\n",
    "# połączenie danych\n",
    "img26_arr=hcat(coords_matrix, red.(img26_flat), green.(img26_flat), \n",
    "    blue.(img26_flat), ones_array);"
   ]
  },
  {
   "cell_type": "markdown",
   "id": "f201c93e",
   "metadata": {},
   "source": [
    "Połączenie współrzędnych z kolorami i rozmiarem dla exp392"
   ]
  },
  {
   "cell_type": "code",
   "execution_count": null,
   "id": "d43547ce",
   "metadata": {},
   "outputs": [],
   "source": [
    "coords_matrix = get_coords(tif_red)\n",
    "\n",
    "# spłaszczenie układu 3d na układ 1d\n",
    "tif_red_flat = vec(tif_red)\n",
    "tif_green_flat = vec(tif_green)\n",
    "tif_blue_flat = vec(tif_blue)\n",
    "\n",
    "# utworzenie kolumny zapisującej rozmiar\n",
    "ones_array = ones(length(tif_red_flat))\n",
    "\n",
    "# połączenie wektorów w układ 2d\n",
    "tif_arr=hcat(coords_matrix, Float64.(tif_red_flat*4), Float64.(tif_green_flat*4), Float64.(tif_blue_flat*4), ones_array);"
   ]
  },
  {
   "cell_type": "markdown",
   "id": "b593ad82",
   "metadata": {},
   "source": [
    "### Usuwanie czarnego tła"
   ]
  },
  {
   "cell_type": "code",
   "execution_count": null,
   "id": "7a679b50",
   "metadata": {},
   "outputs": [],
   "source": [
    "function clear_black_bg(tif_arr, threshold)\n",
    "    tif_arr = tif_arr[vec(mapslices(col -> (col[4] .> threshold)\n",
    "                | (col[5] .> threshold)\n",
    "                | (col[6] .> threshold), \n",
    "            tif_arr, dims = 2)), :]\n",
    "    return tif_arr\n",
    "end\n",
    "\n",
    "# odfiltrowanie pliku img26\n",
    "println(\"Rozmiar danych przed usunięciem tła: \"\n",
    "    ,size(img26_arr))\n",
    "\n",
    "img26_arr_cl=clear_black_bg(img26_arr,0.315);\n",
    "\n",
    "println(\"Rozmiar danych przed usunięciem tła: \"\n",
    "    ,size(img26_arr_cl))"
   ]
  },
  {
   "cell_type": "code",
   "execution_count": null,
   "id": "730bda86",
   "metadata": {},
   "outputs": [],
   "source": [
    "tif_arr_cl=clear_black_bg(tif_arr,0.392156862);"
   ]
  },
  {
   "cell_type": "markdown",
   "id": "bbb08033",
   "metadata": {},
   "source": [
    "### funkcje pomocnicze"
   ]
  },
  {
   "cell_type": "markdown",
   "id": "57844bfb",
   "metadata": {},
   "source": [
    "### Obliczanie centroidu - Julia"
   ]
  },
  {
   "cell_type": "code",
   "execution_count": null,
   "id": "b5168318",
   "metadata": {},
   "outputs": [],
   "source": [
    "function get_centroid(array_2d)\n",
    "    length = size(array_2d, 1)\n",
    "    sum_y = sum(array_2d[:,1])\n",
    "    sum_x = sum(array_2d[:,2])\n",
    "    sum_z = sum(array_2d[:,3])\n",
    "    \n",
    "    return hcat(sum_y/length, sum_x/length, sum_z/length, \n",
    "        mean(array_2d[:,4]), mean(array_2d[:,5]), \n",
    "        mean(array_2d[:,6]), length)\n",
    "end"
   ]
  },
  {
   "cell_type": "markdown",
   "id": "64461bb8",
   "metadata": {},
   "source": [
    "### Obliczanie medoidu - Julia"
   ]
  },
  {
   "cell_type": "code",
   "execution_count": null,
   "id": "c8d74366",
   "metadata": {},
   "outputs": [],
   "source": [
    "function get_medoid(n)\n",
    "    \n",
    "    # tworzenie macierzy wzajemnych odległości\n",
    "    distMatrix=pairwise(Euclidean(),n[:,1:6],dims=1)\n",
    "    \n",
    "    # wybieranie piksela o najmniejszej sumie odległości\n",
    "    medoid=n[argmin(sum(distMatrix,dims=2))[1],:]\n",
    "    \n",
    "    # dodanie rozmiaru grupy\n",
    "    medoid=reshape(medoid, 1, length(medoid))\n",
    "    medoid[7]=size(n,1)\n",
    "    \n",
    "    return medoid\n",
    "end"
   ]
  },
  {
   "cell_type": "markdown",
   "id": "6e8235d8",
   "metadata": {},
   "source": [
    "### Obliczanie mediany - Julia"
   ]
  },
  {
   "cell_type": "code",
   "execution_count": null,
   "id": "b38e46da",
   "metadata": {},
   "outputs": [],
   "source": [
    "function get_median(arr)\n",
    "    # zapisanie rozmiaru zbioru\n",
    "    length = size(arr, 1)\n",
    "    \n",
    "    # zwracanie median kolumn zbioru\n",
    "    return hcat(median(arr[:,1]), median(arr[:,2]), \n",
    "        median(arr[:,3]), median(arr[:,4]), \n",
    "        median(arr[:,5]), median(arr[:,6]), length)\n",
    "end"
   ]
  },
  {
   "cell_type": "markdown",
   "id": "068c94ce",
   "metadata": {},
   "source": [
    "### Funkcje znajdujące sąsiadów - Julia"
   ]
  },
  {
   "cell_type": "markdown",
   "id": "e3ec22f5",
   "metadata": {},
   "source": [
    "znadowanie sąsiadów po promieniu i różnicy w kolorze"
   ]
  },
  {
   "cell_type": "code",
   "execution_count": null,
   "id": "502e966a",
   "metadata": {},
   "outputs": [],
   "source": [
    "function get_neighbours(tif_arr, pixel, radius, zradius, color_diff)\n",
    "    \n",
    "    n = tif_arr[vec(mapslices(col -> \n",
    "                (col[1] .<= pixel[1]+radius) & (col[1] .>= pixel[1]-radius)\n",
    "                & (col[2] .<= pixel[2]+radius) & (col[2] .>= pixel[2]-radius)\n",
    "                & (col[3] .<= pixel[3]+zradius) & (col[3] .>= pixel[3]-zradius)\n",
    "                & (col[4] .<= pixel[4]+color_diff) & (col[4] .>= pixel[4]-color_diff)\n",
    "                & (col[5] .<= pixel[5]+color_diff) & (col[5] .>= pixel[5]-color_diff)\n",
    "                & (col[6] .<= pixel[6]+color_diff) & (col[6] .>= pixel[6]-color_diff), \n",
    "                tif_arr, dims = 2)), :]\n",
    "    return n\n",
    "end"
   ]
  },
  {
   "cell_type": "markdown",
   "id": "a130074a",
   "metadata": {},
   "source": [
    "znajdowanie sąsiadów po promieniu"
   ]
  },
  {
   "cell_type": "code",
   "execution_count": null,
   "id": "55a395d8",
   "metadata": {},
   "outputs": [],
   "source": [
    "function get_neighbours2(tif_arr, pixel, radius, zradius)\n",
    "    \n",
    "    n = tif_arr[vec(mapslices(col -> (col[1] .<= pixel[1]+radius) & (col[1] .>= pixel[1]-radius)\n",
    "                                    & (col[2] .<= pixel[2]+radius) & (col[2] .>= pixel[2]-radius)\n",
    "                                    & (col[3] .<= pixel[3]+zradius) & (col[3] .>= pixel[3]-zradius), \n",
    "                                    tif_arr, dims = 2)), :]\n",
    "    return n\n",
    "end"
   ]
  },
  {
   "cell_type": "markdown",
   "id": "d3328d48",
   "metadata": {},
   "source": [
    "znajdowanie sąsiadów po różnicy w kolorze"
   ]
  },
  {
   "cell_type": "code",
   "execution_count": null,
   "id": "242334d4",
   "metadata": {},
   "outputs": [],
   "source": [
    "function get_neighbours_by_color(tif_arr, pixel, color_diff)\n",
    "    \n",
    "    n = tif_arr[vec(mapslices(col -> (col[4] .<= pixel[4]+color_diff) & (col[4] .>= pixel[4]-color_diff)\n",
    "                                    & (col[5] .<= pixel[5]+color_diff) & (col[5] .>= pixel[5]-color_diff)\n",
    "                                    & (col[6] .<= pixel[6]+color_diff) & (col[6] .>= pixel[6]-color_diff), \n",
    "                                    tif_arr, dims = 2)), :]\n",
    "    return n\n",
    "end"
   ]
  },
  {
   "cell_type": "markdown",
   "id": "b4aa1487",
   "metadata": {},
   "source": [
    "### Usuwanie podzbioru - Julia"
   ]
  },
  {
   "cell_type": "code",
   "execution_count": null,
   "id": "aac8458c",
   "metadata": {},
   "outputs": [],
   "source": [
    "function remove_neighbours(tif_arr, n)\n",
    "    tif_arr=tif_arr[vec(mapslices(row -> !(row in eachrow(n)), \n",
    "                tif_arr, dims = 2)),:]\n",
    "    return tif_arr\n",
    "end"
   ]
  },
  {
   "cell_type": "markdown",
   "id": "386cd9d9",
   "metadata": {},
   "source": [
    "### Metoda Centroidów - wariant I - Julia"
   ]
  },
  {
   "cell_type": "code",
   "execution_count": null,
   "id": "7bd89f7e",
   "metadata": {},
   "outputs": [],
   "source": [
    "function centroid_method(tif_arr,radius,zradius,color_diff)\n",
    "    \n",
    "    # utworzenie pustego zbioru centrodów\n",
    "    centroids = Array{Float64}(undef, 0, 7)\n",
    "\n",
    "    # zapętlanie procesu, aż zbiór danych będzie pusty\n",
    "    while size(tif_arr, 1)>0\n",
    "\n",
    "        # losowanie startowego piksela\n",
    "        pixel = tif_arr[rand(1:end), :] \n",
    "        \n",
    "        # utworzenie macierzy pikseli sąsiadujących\n",
    "        n=get_neighbours(tif_arr, pixel, radius, zradius, color_diff)\n",
    "        \n",
    "        # wyznaczanie centroidu ze zbioru sąsiadującego\n",
    "        centroid = get_centroid(n)\n",
    "\n",
    "        # dodanie centroidu do zbioru centroidów\n",
    "        centroids = [centroids; centroid]\n",
    "\n",
    "        # usuwanie zbioru sąsiadów ze zbioru danych\n",
    "        tif_arr=remove_neighbours(tif_arr,n)\n",
    "    end\n",
    "    println(size(centroids))\n",
    "    return centroids\n",
    "end"
   ]
  },
  {
   "cell_type": "markdown",
   "id": "47a3b64d",
   "metadata": {},
   "source": [
    "### Centroid Method II - różnica koloru - z usuwaniem"
   ]
  },
  {
   "cell_type": "code",
   "execution_count": null,
   "id": "9498e91c",
   "metadata": {},
   "outputs": [],
   "source": [
    "function centroid_method2(tif_arr,radius,zradius,color_diff)\n",
    "    \n",
    "    # utworzenie pustego zbioru centrodów\n",
    "    centroids = Array{Float64}(undef, 0, 7)\n",
    "\n",
    "    # zapętlanie procesu, aż zbiór danych będzie pusty\n",
    "    while size(tif_arr, 1)>0\n",
    "\n",
    "        # losowanie startowego piksela\n",
    "        pixel = tif_arr[rand(1:end), :] \n",
    "        \n",
    "        # utworzenie macierzy pikseli sąsiadujących na podstawie promienia\n",
    "        n=get_neighbours2(tif_arr, pixel, radius, zradius)\n",
    "        \n",
    "        # usuwanie zbioru sąsiadującego ze zbioru danych\n",
    "        tif_arr=remove_neighbours(tif_arr,n)\n",
    "        \n",
    "        # wyodrębnenie pikseli spełniających dozwoloną różnicę kolorów\n",
    "        n=get_neighbours_by_color(n, pixel,color_diff)\n",
    "        \n",
    "        # wyznaczanie centroidu ze zbioru sąsiadującego\n",
    "        centroid = get_centroid(n)\n",
    "\n",
    "        # dodawanie centroidu do zbioru centroidów\n",
    "        centroids = [centroids; centroid]\n",
    "\n",
    "    end\n",
    "    println(size(centroids))\n",
    "    return centroids\n",
    "end"
   ]
  },
  {
   "cell_type": "markdown",
   "id": "00524d17",
   "metadata": {},
   "source": [
    "### Centroid Method III - bez różnicy koloru + nie ma outlierów"
   ]
  },
  {
   "cell_type": "code",
   "execution_count": null,
   "id": "84a17ec1",
   "metadata": {},
   "outputs": [],
   "source": [
    "function centroid_method3(tif_arr,radius,zradius)\n",
    "    \n",
    "    # utworzenie pustego zbioru centrodów\n",
    "    centroids = Array{Float64}(undef, 0, 7)\n",
    "\n",
    "    # zapętlanie procesu, aż zbiór danych będzie pusty\n",
    "    while size(tif_arr, 1)>0\n",
    "\n",
    "        # losowanie startowego piksela\n",
    "        pixel = tif_arr[rand(1:end), :] \n",
    "        \n",
    "        # utworzenie macierzy pikseli sąsiadujących\n",
    "        n=get_neighbours2(tif_arr, pixel, radius, zradius)\n",
    "        \n",
    "        # usuwanie zbioru sąsiadującego ze zbioru danych\n",
    "        tif_arr=remove_neighbours(tif_arr,n)\n",
    "        \n",
    "        # wyznaczanie reprezentanta i jego zapis\n",
    "        centroid = get_centroid(n)\n",
    "        centroids = [centroids; centroid]\n",
    "\n",
    "    end\n",
    "    println(size(centroids))\n",
    "    return centroids\n",
    "end"
   ]
  },
  {
   "cell_type": "markdown",
   "id": "82fad5e4",
   "metadata": {},
   "source": [
    "### Medoid Method I - różnica koloru - bez usuwania"
   ]
  },
  {
   "cell_type": "code",
   "execution_count": null,
   "id": "74c32a06",
   "metadata": {},
   "outputs": [],
   "source": [
    "function medoid_method(tif_arr,radius,zradius,color_diff)\n",
    "    \n",
    "    # utworzenie pustego zbioru medoidów\n",
    "    medoids = Array{Float64}(undef, 0, 7)\n",
    "\n",
    "    # zapętlanie procesu, aż zbiór danych będzie pusty\n",
    "    while size(tif_arr, 1)>0\n",
    "\n",
    "        # losowanie startowego piksela\n",
    "        pixel = tif_arr[rand(1:end), :] \n",
    "\n",
    "        # utworzenie macierzy pikseli sąsiadujących\n",
    "        n=get_neighbours(tif_arr, pixel, radius, zradius, color_diff)\n",
    "        \n",
    "        # wyznaczanie reprezentanta i jego zapis\n",
    "        medoid=get_medoid(n)\n",
    "        medoids=[medoids;medoid]\n",
    "        \n",
    "        # usuwanie sąsiadów z całego zbioru\n",
    "        tif_arr=remove_neighbours(tif_arr,n)\n",
    "\n",
    "    end\n",
    "    println(size(medoids))\n",
    "    return medoids\n",
    "end"
   ]
  },
  {
   "cell_type": "markdown",
   "id": "148fbc49",
   "metadata": {},
   "source": [
    "### Medoid Method II - różnica koloru - z usuwaniem"
   ]
  },
  {
   "cell_type": "code",
   "execution_count": null,
   "id": "bb7dcafe",
   "metadata": {},
   "outputs": [],
   "source": [
    "function medoid_method2(tif_arr,radius,zradius,color_diff)\n",
    "# defining empty matrix where centroids will be stored\n",
    "    medoids = Array{Float64}(undef, 0, 7)\n",
    "\n",
    "    # zapętlanie procesu, aż zbiór danych będzie pusty\n",
    "    while size(tif_arr, 1)>0\n",
    "\n",
    "        # losowanie startowego piksela\n",
    "        pixel = tif_arr[rand(1:end), :] \n",
    "\n",
    "        # utworzenie macierzy pikseli sąsiadujących\n",
    "        n=get_neighbours2(tif_arr, pixel, radius, zradius)\n",
    "        \n",
    "        # usuwanie zbioru sąsiadującego ze zbioru danych\n",
    "        tif_arr=remove_neighbours(tif_arr,n)\n",
    "        \n",
    "        # wyodrębnenie pikseli spełniających dozwoloną różnicę kolorów\n",
    "        n=get_neighbours_by_color(n, pixel, color_diff)\n",
    "        \n",
    "        # wyznaczanie reprezentanta i jego zapis\n",
    "        medoid=get_medoid(n)\n",
    "        medoids=[medoids;medoid]\n",
    "        \n",
    "    end\n",
    "    println(size(medoids))\n",
    "    return medoids\n",
    "end"
   ]
  },
  {
   "cell_type": "markdown",
   "id": "fd2f12fc",
   "metadata": {},
   "source": [
    "### Medoid Method III - bez różnicy koloru + nie ma outlierów"
   ]
  },
  {
   "cell_type": "code",
   "execution_count": null,
   "id": "71e1d744",
   "metadata": {},
   "outputs": [],
   "source": [
    "function medoid_method3(tif_arr,radius,zradius)\n",
    "# defining empty matrix where centroids will be stored\n",
    "    medoids = Array{Float64}(undef, 0, 7)\n",
    "\n",
    "    # zapętlanie procesu, aż zbiór danych będzie pusty\n",
    "    while size(tif_arr, 1)>0\n",
    "\n",
    "        # losowanie startowego piksela\n",
    "        pixel = tif_arr[rand(1:end), :] \n",
    "\n",
    "        # utworzenie macierzy pikseli sąsiadujących\n",
    "        n=get_neighbours2(tif_arr, pixel, radius, zradius)\n",
    "        \n",
    "        # usuwanie zbioru sąsiadującego ze zbioru danych\n",
    "        tif_arr=remove_neighbours(tif_arr,n)\n",
    "        \n",
    "        # wyznaczanie reprezentanta i jego zapis\n",
    "        medoid=get_medoid(n)\n",
    "        medoids=[medoids;medoid]\n",
    "        \n",
    "    end\n",
    "    println(size(medoids))\n",
    "    return medoids\n",
    "end"
   ]
  },
  {
   "cell_type": "markdown",
   "id": "a2b49006",
   "metadata": {},
   "source": [
    "### Median Method I - różnica koloru - bez usuwania"
   ]
  },
  {
   "cell_type": "code",
   "execution_count": null,
   "id": "92aa6f2d",
   "metadata": {},
   "outputs": [],
   "source": [
    "function median_method(tif_arr,radius,zradius,color_diff)\n",
    "# defining empty matrix where centroids will be stored\n",
    "    medians = Array{Float64}(undef, 0, 7)\n",
    "\n",
    "    # zapętlanie procesu, aż zbiór danych będzie pusty\n",
    "    while size(tif_arr, 1)>0\n",
    "\n",
    "        # losowanie startowego piksela\n",
    "        pixel = tif_arr[rand(1:end), :] \n",
    "\n",
    "        # utworzenie macierzy pikseli sąsiadujących\n",
    "        n=get_neighbours(tif_arr, pixel, radius, zradius, color_diff)\n",
    "\n",
    "        # wyznaczanie reprezentanta i jego zapis\n",
    "        median=get_median(n)\n",
    "        medians=[medians;median]\n",
    "        \n",
    "        # usuwanie zbioru sąsiadującego ze zbioru danych\n",
    "        tif_arr=remove_neighbours(tif_arr,n)\n",
    "\n",
    "    end\n",
    "    println(size(medians))\n",
    "    return medians\n",
    "end"
   ]
  },
  {
   "cell_type": "markdown",
   "id": "4fe3fbdf",
   "metadata": {},
   "source": [
    "### Median Method II - różnica koloru - z usuwaniem"
   ]
  },
  {
   "cell_type": "code",
   "execution_count": null,
   "id": "14b8738c",
   "metadata": {},
   "outputs": [],
   "source": [
    "function median_method2(tif_arr,radius,zradius,color_diff)\n",
    "# defining empty matrix where centroids will be stored\n",
    "    medians = Array{Float64}(undef, 0, 7)\n",
    "\n",
    "    # zapętlanie procesu, aż zbiór danych będzie pusty\n",
    "    while size(tif_arr, 1)>0\n",
    "\n",
    "        # losowanie startowego piksela\n",
    "        pixel = tif_arr[rand(1:end), :] \n",
    "\n",
    "        # utworzenie macierzy pikseli sąsiadujących\n",
    "        n=get_neighbours2(tif_arr, pixel, radius, zradius)\n",
    "        \n",
    "        # usuwanie zbioru sąsiadującego ze zbioru danych\n",
    "        tif_arr=remove_neighbours(tif_arr,n)\n",
    "        \n",
    "        # wyodrębnenie pikseli spełniających dozwoloną różnicę kolorów\n",
    "        n=get_neighbours_by_color(n, pixel, color_diff)\n",
    "        \n",
    "        # wyznaczanie reprezentanta i jego zapis\n",
    "        median=get_median(n)\n",
    "        medians=[medians;median]\n",
    "        \n",
    "    end\n",
    "    println(size(medians))\n",
    "    return medians\n",
    "end"
   ]
  },
  {
   "cell_type": "markdown",
   "id": "53f2020f",
   "metadata": {},
   "source": [
    "### Median Method III - bez różnicy koloru + nie ma outlierów"
   ]
  },
  {
   "cell_type": "code",
   "execution_count": null,
   "id": "65faaef1",
   "metadata": {},
   "outputs": [],
   "source": [
    "function median_method3(tif_arr,radius,zradius)\n",
    "# defining empty matrix where centroids will be stored\n",
    "    medians = Array{Float64}(undef, 0, 7)\n",
    "\n",
    "    # zapętlanie procesu, aż zbiór danych będzie pusty\n",
    "    while size(tif_arr, 1)>0\n",
    "\n",
    "        # losowanie startowego piksela\n",
    "        pixel = tif_arr[rand(1:end), :] \n",
    "\n",
    "        # utworzenie macierzy pikseli sąsiadujących\n",
    "        n=get_neighbours2(tif_arr, pixel, radius, zradius)\n",
    "        \n",
    "        # usuwanie zbioru sąsiadującego ze zbioru danych\n",
    "        tif_arr=remove_neighbours(tif_arr,n)\n",
    "        \n",
    "        # wyznaczanie reprezentanta i jego zapis\n",
    "        median=get_median(n)\n",
    "        medians=[medians;median]\n",
    "        \n",
    "    end\n",
    "    println(size(medians))\n",
    "    return medians\n",
    "end"
   ]
  },
  {
   "cell_type": "code",
   "execution_count": null,
   "id": "b41cbdb1",
   "metadata": {},
   "outputs": [],
   "source": [
    "function plotly_vis(matrix, smin, smax)\n",
    "    # przygotowanie kolorów do wczytania do wykresu\n",
    "    color_arr= RGB{Float64}.(matrix[:,4],matrix[:,5],matrix[:,6])\n",
    "    return PlotlyJS.plot(PlotlyJS.scatter3d(\n",
    "            ;x=matrix[:,2], \n",
    "            y=matrix[:,1], \n",
    "            z=matrix[:,3],\n",
    "            text=matrix[:,7],\n",
    "            customdata=color_arr,\n",
    "            type=\"scatter3d\",\n",
    "            mode=\"markers\",\n",
    "            marker=attr(\n",
    "                sizemode=\"area\",\n",
    "                size=matrix[:,7],\n",
    "                color=color_arr,\n",
    "                sizeref=(maximum(matrix[:,7])) / (smax ^ 2),\n",
    "                sizemin=smin,\n",
    "                opacity=1,\n",
    "                line=attr(width=0)\n",
    "            ),\n",
    "\n",
    "            hovertemplate=\"<br>x:%{x}<br>y:%{y}<br>z:%{z}\"\n",
    "                *\"<br>color: %{customdata}<br>size: %{text}\"\n",
    "        )\n",
    "    )\n",
    "end"
   ]
  },
  {
   "cell_type": "markdown",
   "id": "ec3e49e9",
   "metadata": {},
   "source": [
    "### Widżet Julia"
   ]
  },
  {
   "cell_type": "code",
   "execution_count": null,
   "id": "ff4b5587",
   "metadata": {},
   "outputs": [],
   "source": [
    "function tif_reduction_widget(tif_arr)\n",
    "    bg_threshold = slider(0.1:0.005:.6, label = \"bg_threshold\")\n",
    "    radius = slider(1:15, label = \"zradius\")\n",
    "    zradius = slider(1:5, label = \"zradius\")\n",
    "    color_diff = slider(0:0.01:.3, label = \"color_diff\")\n",
    "    smin = slider(0:20, label = \"smin\")\n",
    "    smax = slider(40:60, label = \"smax\")\n",
    "    method = dropdown(OrderedDict(\n",
    "            \"centroid method\" => \"centroid_method\", \n",
    "            \"centroid method 2\" => \"centroid_method2\", \n",
    "            \"centroid method 3\" => \"centroid_method3\",\n",
    "            \"medoid method\" => \"medoid_method\", \n",
    "            \"medoid method 2\" => \"medoid_method2\", \n",
    "            \"medoid method 3\" => \"medoid_method3\", \n",
    "            \"median method\" => \"median_method\", \n",
    "            \"median method 2\" => \"median_method2\", \n",
    "            \"median method 3\" => \"median_method3\")\n",
    "            ,label=\"method\")\n",
    "    update = button(\"compute\")\n",
    "    \n",
    "    output= Observable{Any}((undef, 0, 0))\n",
    "    plt=Plots.plot()\n",
    "    Interact.@map (&update; tif_arr=clear_black_bg(tif_arr, bg_threshold[]);\n",
    "        if  method[] == \"centroid_method\"\n",
    "            output[] = centroid_method(tif_arr,radius[],zradius[],color_diff[])\n",
    "        elseif method[] == \"centroid_method2\"\n",
    "            output[] = centroid_method2(tif_arr,radius[],zradius[],color_diff[])\n",
    "        elseif method[] == \"centroid_method3\"\n",
    "            output[] = centroid_method3(tif_arr,radius[],zradius[])\n",
    "        elseif method[] == \"medoid_method\"\n",
    "            output[] = medoid_method(tif_arr,radius[],zradius[],color_diff[])\n",
    "        elseif method[] == \"medoid_method2\"\n",
    "            output[] = medoid_method2(tif_arr,radius[],zradius[],color_diff[])\n",
    "        elseif method[] == \"medoid_method3\"\n",
    "            output[] = medoid_method3(tif_arr,radius[],zradius[])\n",
    "        elseif method[] == \"median_method\"\n",
    "            output[] = median_method(tif_arr,radius[],zradius[],color_diff[])\n",
    "        elseif method[] == \"median_method2\"\n",
    "            output[] = median_method2(tif_arr,radius[],zradius[],color_diff[])\n",
    "        elseif method[] == \"median_method3\"\n",
    "            output[] = median_method3(tif_arr,radius[],zradius[])end)\n",
    "    plt = Interact.@map plotly_vis(&output,&smin,&smax)\n",
    "    wdg = Widget([\"bg_threshold\" => bg_threshold,\"radius\" => radius,\n",
    "                  \"zradius\" => zradius, \"color_diff\" => color_diff, \n",
    "                  \"update\" => update, \"smin\" => smin, \"smax\" => smax, \n",
    "                  \"method\"=>method], output = output);\n",
    "    @layout! wdg hbox(plt, vbox(:bg_threshold,:radius, :zradius,\n",
    "            :color_diff, pad(1em,:method), :update, :smin, :smax))\n",
    "end"
   ]
  },
  {
   "cell_type": "code",
   "execution_count": null,
   "id": "3bce5582",
   "metadata": {},
   "outputs": [],
   "source": [
    "tif_reduction_widget(img26_arr)"
   ]
  },
  {
   "cell_type": "markdown",
   "id": "e9c96967",
   "metadata": {},
   "source": [
    "### Pomiary z podrozdziału Metody redukcji danych"
   ]
  },
  {
   "cell_type": "markdown",
   "id": "4efc08db",
   "metadata": {},
   "source": [
    "test metod w wariancie II"
   ]
  },
  {
   "cell_type": "code",
   "execution_count": null,
   "id": "cf47cd34",
   "metadata": {},
   "outputs": [],
   "source": [
    "test=centroid_method(img26_arr_cl,5,2,0.0393);"
   ]
  },
  {
   "cell_type": "code",
   "execution_count": null,
   "id": "afc6ee09",
   "metadata": {},
   "outputs": [],
   "source": [
    "@time centroid_method2(img26_arr_cl,1,1,0.0393);"
   ]
  },
  {
   "cell_type": "code",
   "execution_count": null,
   "id": "13a0439f",
   "metadata": {},
   "outputs": [],
   "source": [
    "@time medoid_method2(img26_arr_cl,1,1,0.0393);"
   ]
  },
  {
   "cell_type": "code",
   "execution_count": null,
   "id": "7622bf8e",
   "metadata": {},
   "outputs": [],
   "source": [
    "@time median_method2(img26_arr_cl,1,1,0.0393);"
   ]
  },
  {
   "cell_type": "markdown",
   "id": "b790e678",
   "metadata": {},
   "source": [
    "test metod w wariancie III"
   ]
  },
  {
   "cell_type": "code",
   "execution_count": null,
   "id": "676e0f25",
   "metadata": {},
   "outputs": [],
   "source": [
    "@time centroid_method3(img26_arr_cl,1,1);"
   ]
  },
  {
   "cell_type": "code",
   "execution_count": null,
   "id": "effd13db",
   "metadata": {},
   "outputs": [],
   "source": [
    "@time medoid_method3(img26_arr_cl,1,1);"
   ]
  },
  {
   "cell_type": "code",
   "execution_count": null,
   "id": "c690807b",
   "metadata": {},
   "outputs": [],
   "source": [
    "@time median_method3(img26_arr_cl,1,1);"
   ]
  },
  {
   "cell_type": "markdown",
   "id": "fc36f584",
   "metadata": {},
   "source": [
    "inne testy"
   ]
  },
  {
   "cell_type": "code",
   "execution_count": null,
   "id": "b925543b",
   "metadata": {},
   "outputs": [],
   "source": [
    "@benchmark centroid_method2($img26_arr_cl,1,1,0.0393)"
   ]
  },
  {
   "cell_type": "code",
   "execution_count": null,
   "id": "2965d946",
   "metadata": {},
   "outputs": [],
   "source": [
    "@btime centroid_method2(img26_arr_cl,1,1,0.0393)"
   ]
  },
  {
   "cell_type": "code",
   "execution_count": null,
   "id": "28358417",
   "metadata": {},
   "outputs": [],
   "source": [
    "@benchmark centroid_method($img26_arr,5,1,0.0393)"
   ]
  },
  {
   "cell_type": "code",
   "execution_count": null,
   "id": "2e7eb20e",
   "metadata": {},
   "outputs": [],
   "source": [
    "@benchmark medoid_method($img26_arr,10,1,0.0393)"
   ]
  },
  {
   "cell_type": "code",
   "execution_count": null,
   "id": "934ba6c0",
   "metadata": {},
   "outputs": [],
   "source": [
    "@benchmark get_centroid($img26_arr)"
   ]
  },
  {
   "cell_type": "markdown",
   "id": "e72b6a0c",
   "metadata": {},
   "source": [
    "### Analiza porównówcza Testy"
   ]
  },
  {
   "cell_type": "code",
   "execution_count": null,
   "id": "12ad6cb8",
   "metadata": {},
   "outputs": [],
   "source": [
    "centroid_method(img26_arr_cl,5,1,0.0393)"
   ]
  },
  {
   "cell_type": "code",
   "execution_count": null,
   "id": "1c95c4dc",
   "metadata": {},
   "outputs": [],
   "source": [
    "@time centroid_method(img26_arr_cl,5,1,0.0393)\n",
    "@time centroid_method(img26_arr_cl,4,1,0.0393)\n",
    "@time centroid_method(img26_arr_cl,3,1,0.0393)"
   ]
  },
  {
   "cell_type": "code",
   "execution_count": null,
   "id": "5123505e",
   "metadata": {},
   "outputs": [],
   "source": [
    "@time centroid_method(img26_arr_cl,5,1,01965)\n",
    "@time centroid_method(img26_arr_cl,4,1,01965)\n",
    "@time centroid_method(img26_arr_cl,3,1,01965)"
   ]
  },
  {
   "cell_type": "code",
   "execution_count": null,
   "id": "8fd2be47",
   "metadata": {},
   "outputs": [],
   "source": [
    "@time medoid_method(img26_arr_cl,5,1,0.0393)\n",
    "@time medoid_method(img26_arr_cl,4,1,0.0393)\n",
    "@time medoid_method(img26_arr_cl,3,1,0.0393)"
   ]
  },
  {
   "cell_type": "code",
   "execution_count": null,
   "id": "65382374",
   "metadata": {},
   "outputs": [],
   "source": [
    "@time medoid_method(img26_arr_cl,5,1,01965)\n",
    "@time medoid_method(img26_arr_cl,4,1,01965)\n",
    "@time medoid_method(img26_arr_cl,3,1,01965)"
   ]
  },
  {
   "cell_type": "code",
   "execution_count": null,
   "id": "dfff01dc",
   "metadata": {},
   "outputs": [],
   "source": [
    "@time median_method(img26_arr_cl,5,1,0.0393)\n",
    "@time median_method(img26_arr_cl,4,1,0.0393)\n",
    "@time median_method(img26_arr_cl,3,1,0.0393)"
   ]
  },
  {
   "cell_type": "code",
   "execution_count": null,
   "id": "4b379757",
   "metadata": {},
   "outputs": [],
   "source": [
    "@time median_method(img26_arr_cl,5,1,01965)\n",
    "@time median_method(img26_arr_cl,4,1,01965)\n",
    "@time median_method(img26_arr_cl,3,1,01965)"
   ]
  },
  {
   "cell_type": "markdown",
   "id": "49cba780",
   "metadata": {},
   "source": [
    "II"
   ]
  },
  {
   "cell_type": "code",
   "execution_count": null,
   "id": "e29c5496",
   "metadata": {},
   "outputs": [],
   "source": [
    "@time centroid_method2(img26_arr_cl,3,1,0.0393)\n",
    "@time centroid_method2(img26_arr_cl,2,1,0.0393)\n",
    "@time centroid_method2(img26_arr_cl,1,1,0.0393)"
   ]
  },
  {
   "cell_type": "code",
   "execution_count": null,
   "id": "b3f46413",
   "metadata": {},
   "outputs": [],
   "source": [
    "@time centroid_method2(img26_arr_cl,3,1,0.00393)\n",
    "@time centroid_method2(img26_arr_cl,2,1,0.00393)\n",
    "@time centroid_method2(img26_arr_cl,1,1,0.00393)"
   ]
  },
  {
   "cell_type": "code",
   "execution_count": null,
   "id": "ad11f7b9",
   "metadata": {},
   "outputs": [],
   "source": [
    "@time medoid_method2(img26_arr_cl,3,1,0.0393)\n",
    "@time medoid_method2(img26_arr_cl,2,1,0.0393)\n",
    "@time medoid_method2(img26_arr_cl,1,1,0.0393)\n",
    "@time medoid_method2(img26_arr_cl,3,1,0.00393)\n",
    "@time medoid_method2(img26_arr_cl,2,1,0.00393)\n",
    "@time medoid_method2(img26_arr_cl,1,1,0.00393)"
   ]
  },
  {
   "cell_type": "code",
   "execution_count": null,
   "id": "68f2d521",
   "metadata": {},
   "outputs": [],
   "source": [
    "@time median_method2(img26_arr_cl,3,1,0.0393)\n",
    "@time median_method2(img26_arr_cl,2,1,0.0393)\n",
    "@time median_method2(img26_arr_cl,1,1,0.0393)\n",
    "@time median_method2(img26_arr_cl,3,1,0.00393)\n",
    "@time median_method2(img26_arr_cl,2,1,0.00393)\n",
    "@time median_method2(img26_arr_cl,1,1,0.00393)"
   ]
  },
  {
   "cell_type": "markdown",
   "id": "a20b7e8c",
   "metadata": {},
   "source": [
    "III"
   ]
  },
  {
   "cell_type": "code",
   "execution_count": null,
   "id": "0e8b9dc8",
   "metadata": {},
   "outputs": [],
   "source": [
    "@time centroid_method3(img26_arr_cl,3,1,0.0393)\n",
    "@time centroid_method3(img26_arr_cl,2,1,0.0393)\n",
    "@time centroid_method3(img26_arr_cl,1,1,0.0393)\n",
    "@time centroid_method3(img26_arr_cl,3,1,0.00393)\n",
    "@time centroid_method3(img26_arr_cl,2,1,0.00393)\n",
    "@time centroid_method3(img26_arr_cl,1,1,0.00393)"
   ]
  },
  {
   "cell_type": "code",
   "execution_count": null,
   "id": "89269ccf",
   "metadata": {},
   "outputs": [],
   "source": [
    "@time medoid_method3(img26_arr_cl,3,1,0.0393)\n",
    "@time medoid_method3(img26_arr_cl,2,1,0.0393)\n",
    "@time medoid_method3(img26_arr_cl,1,1,0.0393)\n",
    "@time medoid_method3(img26_arr_cl,3,1,0.00393)\n",
    "@time medoid_method3(img26_arr_cl,2,1,0.00393)\n",
    "@time medoid_method3(img26_arr_cl,1,1,0.00393)"
   ]
  },
  {
   "cell_type": "code",
   "execution_count": null,
   "id": "dee0b69c",
   "metadata": {},
   "outputs": [],
   "source": [
    "@timeit median_method3(img26_arr_cl,3,1,0.0393)\n",
    "@timeit median_method3(img26_arr_cl,2,1,0.0393)\n",
    "@timeit median_method3(img26_arr_cl,1,1,0.0393)\n",
    "@timeit median_method3(img26_arr_cl,3,1,0.00393)\n",
    "@timeit median_method3(img26_arr_cl,2,1,0.00393)\n",
    "@timeit median_method3(img26_arr_cl,1,1,0.00393)"
   ]
  }
 ],
 "metadata": {
  "@webio": {
   "lastCommId": null,
   "lastKernelId": null
  },
  "kernelspec": {
   "display_name": "Julia 1.6.1",
   "language": "julia",
   "name": "julia-1.6"
  },
  "language_info": {
   "file_extension": ".jl",
   "mimetype": "application/julia",
   "name": "julia",
   "version": "1.6.1"
  }
 },
 "nbformat": 4,
 "nbformat_minor": 5
}
