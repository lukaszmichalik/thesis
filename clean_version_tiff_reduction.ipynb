{
 "cells": [
  {
   "cell_type": "markdown",
   "id": "a83a47e0",
   "metadata": {},
   "source": [
    "### Wczytanie Bibliotek"
   ]
  },
  {
   "cell_type": "code",
   "execution_count": null,
   "id": "6033728f",
   "metadata": {},
   "outputs": [],
   "source": [
    "from PIL import Image\n",
    "import sys\n",
    "import numpy as np\n",
    "import cv2\n",
    "import tifffile\n",
    "import plotly.express as px\n",
    "from IPython import display\n",
    "import pandas as pd\n",
    "from timeit import timeit\n",
    "from memory_profiler import profile\n",
    "import random\n",
    "from IPython.display import IFrame\n",
    "import ipywidgets as widgets\n",
    "import plotly\n",
    "from sklearn import preprocessing\n",
    "from sklearn.metrics import pairwise_distances as pairwise_dist\n",
    "import plotly.graph_objs as go\n",
    "from plotly.offline import plot, iplot, init_notebook_mode\n",
    "init_notebook_mode(connected=True)\n",
    "from skimage import exposure, img_as_ubyte\n",
    "from sklearn_extra.cluster import KMedoids\n",
    "from sklearn.cluster import KMeans\n",
    "from ipywidgets import fixed\n",
    "from memory_profiler import profile\n",
    "%load_ext memory_profiler"
   ]
  },
  {
   "cell_type": "markdown",
   "id": "b2de04b3",
   "metadata": {},
   "source": [
    "### Wczytanie plików Experiment-392"
   ]
  },
  {
   "cell_type": "code",
   "execution_count": null,
   "id": "bdaf655e",
   "metadata": {},
   "outputs": [],
   "source": [
    "file_red = 'dataset/rgb/Centr_tel Brachy/Experiment-392.czi - C=r.tif'\n",
    "file_green = 'dataset/rgb/Centr_tel Brachy/Experiment-392.czi - C=g.tif'\n",
    "file_blue = 'dataset/rgb/Centr_tel Brachy/Experiment-392.czi - C=b.tif'\n",
    "\n",
    "tif_red = tifffile.imread(file_red)\n",
    "tif_green = tifffile.imread(file_green)\n",
    "tif_blue = tifffile.imread(file_blue)"
   ]
  },
  {
   "cell_type": "markdown",
   "id": "e36be3bb",
   "metadata": {},
   "source": [
    "### Normalizacja plików exp-392"
   ]
  },
  {
   "cell_type": "code",
   "execution_count": null,
   "id": "4227d8f8",
   "metadata": {},
   "outputs": [],
   "source": [
    "# przykształcenie tifów 16-bitowych na 8-bitowe\n",
    "\n",
    "# inicjalizacja pustych tifów 8 bitowych\n",
    "tif_red_norm = np.empty(shape=(18, 1040,1388), dtype='uint8')\n",
    "tif_green_norm = np.empty(shape=(18, 1040,1388), dtype='uint8')\n",
    "tif_blue_norm = np.empty(shape=(18, 1040,1388), dtype='uint8')\n",
    "\n",
    "# normalizacja\n",
    "for i in range(0,tif_blue.shape[0]):\n",
    "    tif_red_norm[i] = img_as_ubyte(exposure.rescale_intensity(tif_red[i]))\n",
    "    tif_green_norm[i] = img_as_ubyte(exposure.rescale_intensity(tif_green[i]))\n",
    "    tif_blue_norm[i] = img_as_ubyte(exposure.rescale_intensity(tif_blue[i]))  "
   ]
  },
  {
   "cell_type": "code",
   "execution_count": null,
   "id": "3e358c10",
   "metadata": {},
   "outputs": [],
   "source": [
    "def get_coords(tif_arr):\n",
    "\n",
    "    z, y, x = tif_arr.shape[:3]\n",
    "\n",
    "    x_size = x\n",
    "    y_size = y\n",
    "    z_size = z\n",
    "\n",
    "    z_list = []\n",
    "    for i in range(z_size):\n",
    "        z_list += [i] * (y_size * x_size)\n",
    "\n",
    "    y_list = []\n",
    "    for i in range(y_size):\n",
    "        y_list += [i] * (x_size)\n",
    "    y_list *= z_size\n",
    "\n",
    "    x_list = []\n",
    "    x_list = np.arange(0, x_size).tolist() * (z_size * y_size)\n",
    "    \n",
    "    return np.c_[z_list, y_list, x_list]"
   ]
  },
  {
   "cell_type": "markdown",
   "id": "5f3a8049",
   "metadata": {},
   "source": [
    "### połączenie współrzędnych, kolorów i rozmiarów pixeli pliku exp-392 w jeden array 2d"
   ]
  },
  {
   "cell_type": "code",
   "execution_count": null,
   "id": "cacae5f1",
   "metadata": {},
   "outputs": [],
   "source": [
    "tif_red_flat = tif_red_norm.flatten()\n",
    "tif_green_flat = tif_green_norm.flatten()\n",
    "tif_blue_flat = tif_blue_norm.flatten()\n",
    "\n",
    "coords=get_coords(tif_red_norm)\n",
    "\n",
    "tif_arr = np.c_[coords, tif_red_flat, tif_green_flat, tif_blue_flat, np.ones((tif_red_norm.size),dtype='int32')]"
   ]
  },
  {
   "cell_type": "markdown",
   "id": "a8ab8893",
   "metadata": {},
   "source": [
    "### Wczytanie kolorowego pliku Image0026-rgb"
   ]
  },
  {
   "cell_type": "code",
   "execution_count": null,
   "id": "4f7e5c89",
   "metadata": {},
   "outputs": [],
   "source": [
    "img26_file = 'dataset/rgb/FISH_Brachy/Image0026-rgb.tif' \n",
    "\n",
    "# wczytanie przy pomocy biblioteki tifffile (OpenCV nie odnajdywało warst)\n",
    "img26 = tifffile.imread(img26_file)"
   ]
  },
  {
   "cell_type": "markdown",
   "id": "1c85413b",
   "metadata": {},
   "source": [
    "### Wczytanie czarno-białego pliku focal1.tiff"
   ]
  },
  {
   "cell_type": "code",
   "execution_count": null,
   "id": "1dc8e3ef",
   "metadata": {},
   "outputs": [],
   "source": [
    "# pobranie lokalnej ścieżki do pliku\n",
    "\n",
    "f1_file = 'dataset/EmbryoCE/focal1.tif'\n",
    "\n",
    "# wczytanie pliku przy pomocy biblioteki tifffile (openCV nie wczytywał trzeciego wymiaru)\n",
    "f1 = tifffile.imread(f1_file)\n",
    "\n",
    "# odwrócenie skaliszarości o 180 stopnii ( ponieważ po wczytaniu została ona zmieniona )\n",
    "f1 = cv2.bitwise_not(f1)"
   ]
  },
  {
   "cell_type": "markdown",
   "id": "7d661396",
   "metadata": {},
   "source": [
    "### połączenie współrzędnych, kolorów i rozmiarów pixeli pliku img26 w jeden array 2d"
   ]
  },
  {
   "cell_type": "code",
   "execution_count": null,
   "id": "aba55472",
   "metadata": {},
   "outputs": [],
   "source": [
    "img26_flat = img26.flatten()\n",
    "coords=get_coords(img26)\n",
    "\n",
    "img26_arr = np.c_[coords, img26_flat[::3], img26_flat[1::3], \n",
    "                img26_flat[2::3], np.ones((img26_flat[::3].size),dtype=int)]"
   ]
  },
  {
   "cell_type": "markdown",
   "id": "eaa458fe",
   "metadata": {},
   "source": [
    "### Usuwanie czarnego tła"
   ]
  },
  {
   "cell_type": "code",
   "execution_count": null,
   "id": "1d71fda1",
   "metadata": {},
   "outputs": [],
   "source": [
    "def clear_black_bg(tif_arr, threshold):\n",
    "    tif_arr = tif_arr[(tif_arr[:,3]>threshold)\n",
    "                      |(tif_arr[:,4]>threshold)\n",
    "                      |(tif_arr[:,5]>threshold)]\n",
    "    return tif_arr"
   ]
  },
  {
   "cell_type": "code",
   "execution_count": null,
   "id": "3ebee270",
   "metadata": {},
   "outputs": [],
   "source": [
    "img26_cl=clear_black_bg(img26_arr,100)"
   ]
  },
  {
   "cell_type": "code",
   "execution_count": null,
   "id": "6a4a4f97",
   "metadata": {},
   "outputs": [],
   "source": [
    "tif_arr_cl=clear_black_bg(tif_arr,100)"
   ]
  },
  {
   "cell_type": "markdown",
   "id": "3bc70cdb",
   "metadata": {},
   "source": [
    "### funkcje pomocnicze"
   ]
  },
  {
   "cell_type": "code",
   "execution_count": null,
   "id": "e400d91f",
   "metadata": {},
   "outputs": [],
   "source": [
    "def get_centroid(arr):\n",
    "    length = arr.shape[0]\n",
    "    sum_z = np.sum(arr[:, 0])\n",
    "    sum_y = np.sum(arr[:, 1])\n",
    "    sum_x = np.sum(arr[:, 2])\n",
    "    sum_r = np.sum(arr[:, 3])\n",
    "    sum_g = np.sum(arr[:, 4])\n",
    "    sum_b = np.sum(arr[:, 5])\n",
    "    return sum_z/length, sum_y/length, sum_x/length, sum_r/length, sum_g/length, sum_b/length, length"
   ]
  },
  {
   "cell_type": "code",
   "execution_count": null,
   "id": "873e8e86",
   "metadata": {},
   "outputs": [],
   "source": [
    "def get_medoid(arr):\n",
    "    distMatrix=pairwise_dist(arr[:,:6])\n",
    "    medoid=arr[[np.argmin(distMatrix.sum(axis=0))]]\n",
    "        \n",
    "    medoid[0,6]=arr.shape[0]\n",
    "    \n",
    "    return medoid"
   ]
  },
  {
   "cell_type": "code",
   "execution_count": null,
   "id": "11f05fd0",
   "metadata": {},
   "outputs": [],
   "source": [
    "def get_neighbours(arr, pixel, radius, zradius, color_diff):\n",
    "    neighbours = arr[((arr[:,0]<=pixel[0]+zradius) \n",
    "                            & (arr[:,0]>=pixel[0]-zradius)\n",
    "                            & (arr[:,1]<=pixel[1]+radius)\n",
    "                            & (arr[:,1]>=pixel[1]-radius)\n",
    "                            & (arr[:,2]<=pixel[2]+radius)\n",
    "                            & (arr[:,2]>=pixel[2]-radius)\n",
    "                            & (arr[:,3]<=pixel[3]+color_diff)\n",
    "                            & (arr[:,3]>=pixel[3]-color_diff)\n",
    "                            & (arr[:,4]<=pixel[4]+color_diff)\n",
    "                            & (arr[:,4]>=pixel[4]-color_diff)\n",
    "                            & (arr[:,5]<=pixel[5]+color_diff)\n",
    "                            & (arr[:,5]>=pixel[5]-color_diff))]\n",
    "    return neighbours"
   ]
  },
  {
   "cell_type": "code",
   "execution_count": null,
   "id": "9032acdf",
   "metadata": {},
   "outputs": [],
   "source": [
    "def get_neighbours2(arr, pixel, radius, zradius):\n",
    "    neighbours = arr[((arr[:,0]<=pixel[0]+zradius) \n",
    "                            & (arr[:,0]>=pixel[0]-zradius)\n",
    "                            & (arr[:,1]<=pixel[1]+radius)\n",
    "                            & (arr[:,1]>=pixel[1]-radius)\n",
    "                            & (arr[:,2]<=pixel[2]+radius)\n",
    "                            & (arr[:,2]>=pixel[2]-radius))]\n",
    "    return neighbours"
   ]
  },
  {
   "cell_type": "code",
   "execution_count": null,
   "id": "badccb84",
   "metadata": {},
   "outputs": [],
   "source": [
    "def get_neighbours_by_color(arr, pixel, color_diff):\n",
    "    neighbours = arr[((arr[:,3]<=pixel[3]+color_diff)\n",
    "                            & (arr[:,3]>=pixel[3]-color_diff)\n",
    "                            & (arr[:,4]<=pixel[4]+color_diff)\n",
    "                            & (arr[:,4]>=pixel[4]-color_diff)\n",
    "                            & (arr[:,5]<=pixel[5]+color_diff)\n",
    "                            & (arr[:,5]>=pixel[5]-color_diff))]\n",
    "    return neighbours"
   ]
  },
  {
   "cell_type": "code",
   "execution_count": null,
   "id": "085a44a0",
   "metadata": {},
   "outputs": [],
   "source": [
    "def cap_data(arr):\n",
    "    for i in range(3,6):\n",
    "        print(i)\n",
    "        p1 = np.quantile(n[:,i], 0.1)\n",
    "        p2 = np.quantile(n[:,i], 0.9)\n",
    "        print(p1)\n",
    "        print(p2)\n",
    "        \n",
    "        arr=arr[((arr[:,i]>=p1) & (arr[:,i]<=p2))]\n",
    "\n",
    "    return arr"
   ]
  },
  {
   "cell_type": "markdown",
   "id": "8fc5ddca",
   "metadata": {},
   "source": [
    "### Metoda I - centroid + róznica koloru + bez usuwania"
   ]
  },
  {
   "cell_type": "code",
   "execution_count": null,
   "id": "dab920f4",
   "metadata": {},
   "outputs": [],
   "source": [
    "def centroid_method(tif_arr, radius, zradius, color_diff):\n",
    "    \n",
    "    centroids = np.empty([0,7])\n",
    "    \n",
    "    # looping thorugh array until it's empty\n",
    "    while len(tif_arr)>0:\n",
    "\n",
    "        # assign starting point to random pixel\n",
    "        pixel = random.choice(tif_arr)\n",
    "\n",
    "        # creating matrix of neighbours\n",
    "        neighbours_arr = get_neighbours(tif_arr, pixel, radius, zradius, color_diff)\n",
    "\n",
    "        # calculating centroid vector from array of neighbours\n",
    "        centroid = get_centroid(neighbours_arr)\n",
    "\n",
    "        # adding centroid to centroids matrix\n",
    "        centroids=np.vstack([centroids, centroid])\n",
    "\n",
    "        # deleting neighbours from tif_arrlicated array\n",
    "        dims = np.maximum(neighbours_arr.max(0),tif_arr.max(0))+1\n",
    "        tif_arr = tif_arr[~np.in1d(np.ravel_multi_index(tif_arr.T,dims),np.ravel_multi_index(neighbours_arr.T,dims))]\n",
    "        \n",
    "    return centroids"
   ]
  },
  {
   "cell_type": "markdown",
   "id": "b96fa512",
   "metadata": {},
   "source": [
    "### Metoda II - centroid + róznica koloru + z usuwaniem"
   ]
  },
  {
   "cell_type": "code",
   "execution_count": null,
   "id": "53c3f8c3",
   "metadata": {},
   "outputs": [],
   "source": [
    "def centroid_method2(tif_arr, radius, zradius, color_diff):\n",
    "    \n",
    "    centroids = np.empty([0,7])\n",
    "    \n",
    "    # looping thorugh array until it's empty\n",
    "    while len(tif_arr)>0:\n",
    "\n",
    "        # assign starting point to random pixel\n",
    "        pixel = random.choice(tif_arr)\n",
    "\n",
    "        # creating matrix of neighbours\n",
    "        neighbours_arr = get_neighbours2(tif_arr, pixel, radius, zradius)\n",
    "        \n",
    "        # deleting neighbours from tif_arrlicated array\n",
    "        dims = np.maximum(neighbours_arr.max(0),tif_arr.max(0))+1\n",
    "        tif_arr = tif_arr[~np.in1d(np.ravel_multi_index(tif_arr.T,dims),np.ravel_multi_index(neighbours_arr.T,dims))]\n",
    "        \n",
    "        neighbours_arr = get_neighbours_by_color(neighbours_arr, pixel, color_diff)\n",
    "\n",
    "        # calculating centroid vector from array of neighbours\n",
    "        centroid = get_centroid(neighbours_arr)\n",
    "\n",
    "        # adding centroid to centroids matrix\n",
    "        centroids=np.vstack([centroids, centroid])\n",
    "        \n",
    "    return centroids"
   ]
  },
  {
   "cell_type": "markdown",
   "id": "c685bcb0",
   "metadata": {},
   "source": [
    "### Metoda III - centroid + bez różnicy koloru + nie ma outlierów"
   ]
  },
  {
   "cell_type": "code",
   "execution_count": null,
   "id": "c3f1cf79",
   "metadata": {},
   "outputs": [],
   "source": [
    "def centroid_method3(tif_arr, radius, zradius):\n",
    "    \n",
    "    centroids = np.empty([0,7])\n",
    "    \n",
    "    # looping thorugh array until it's empty\n",
    "    while len(tif_arr)>0:\n",
    "\n",
    "        # assign starting point to random pixel\n",
    "        pixel = random.choice(tif_arr)\n",
    "\n",
    "        # creating matrix of neighbours\n",
    "        neighbours_arr = get_neighbours2(tif_arr, pixel, radius, zradius)\n",
    "\n",
    "        # calculating centroid vector from array of neighbours\n",
    "        centroid = get_centroid(neighbours_arr)\n",
    "\n",
    "        # adding centroid to centroids matrix\n",
    "        centroids=np.vstack([centroids, centroid])\n",
    "\n",
    "        # deleting neighbours from tif_arrlicated array\n",
    "        dims = np.maximum(neighbours_arr.max(0),tif_arr.max(0))+1\n",
    "        tif_arr = tif_arr[~np.in1d(np.ravel_multi_index(tif_arr.T,dims),np.ravel_multi_index(neighbours_arr.T,dims))]\n",
    "        \n",
    "    return centroids"
   ]
  },
  {
   "cell_type": "markdown",
   "id": "24818615",
   "metadata": {},
   "source": [
    "### Metoda I - medoid + róznica koloru + bez usuwania"
   ]
  },
  {
   "cell_type": "code",
   "execution_count": null,
   "id": "f870f3fb",
   "metadata": {},
   "outputs": [],
   "source": [
    "def medoid_method(tif_arr,radius, zradius, color_diff):\n",
    "    medoids = np.empty([0,7])\n",
    "    # looping thorugh array until it's empty\n",
    "    while len(tif_arr)>0:\n",
    "\n",
    "        # assign starting point to random pixel         \n",
    "        pixel = random.choice(tif_arr)\n",
    "\n",
    "        # creating matrix of neighbours\n",
    "        neighbours_arr = get_neighbours(tif_arr, pixel, radius, zradius, color_diff)\n",
    "        \n",
    "        medoid=get_medoid(neighbours_arr)\n",
    "        \n",
    "        medoids=np.vstack([medoids, medoid])\n",
    "        \n",
    "        # deleting neighbours from tif_arrlicated array\n",
    "        dims = np.maximum(neighbours_arr.max(0),tif_arr.max(0))+1\n",
    "        tif_arr = tif_arr[~np.in1d(np.ravel_multi_index(tif_arr.T,dims),np.ravel_multi_index(neighbours_arr.T,dims))]\n",
    "    \n",
    "    return medoids"
   ]
  },
  {
   "cell_type": "markdown",
   "id": "603c6b06",
   "metadata": {},
   "source": [
    "### Metoda II - medoid + róznica koloru + z usuwaniem"
   ]
  },
  {
   "cell_type": "code",
   "execution_count": null,
   "id": "dc9d5aa4",
   "metadata": {},
   "outputs": [],
   "source": [
    "def medoid_method2(tif_arr,radius, zradius, color_diff):\n",
    "    medoids = np.empty([0,7])\n",
    "    # looping thorugh array until it's empty\n",
    "    while len(tif_arr)>0:\n",
    "\n",
    "        # assign starting point to random pixel         \n",
    "        pixel = random.choice(tif_arr)\n",
    "\n",
    "        # creating matrix of neighbours\n",
    "        neighbours_arr = get_neighbours2(tif_arr, pixel, radius, zradius)\n",
    "        \n",
    "        # deleting neighbours from tif_arrlicated array\n",
    "        dims = np.maximum(neighbours_arr.max(0),tif_arr.max(0))+1\n",
    "        tif_arr = tif_arr[~np.in1d(np.ravel_multi_index(tif_arr.T,dims),np.ravel_multi_index(neighbours_arr.T,dims))]\n",
    "        \n",
    "        neighbours_arr=get_neighbours_by_color(neighbours_arr, pixel, color_diff)\n",
    "\n",
    "        medoid=get_medoid(neighbours_arr)\n",
    "        \n",
    "        medoids=np.vstack([medoids, medoid])\n",
    "    \n",
    "    return medoids"
   ]
  },
  {
   "cell_type": "markdown",
   "id": "11442bd4",
   "metadata": {},
   "source": [
    "### Metoda III - medoid + bez różnicy koloru + nie ma outlierów"
   ]
  },
  {
   "cell_type": "code",
   "execution_count": null,
   "id": "0de9c7b7",
   "metadata": {},
   "outputs": [],
   "source": [
    "def medoid_method3(tif_arr,radius, zradius):\n",
    "    medoids = np.empty([0,7])\n",
    "    # looping thorugh array until it's empty\n",
    "    while len(tif_arr)>0:\n",
    "\n",
    "        # assign starting point to random pixel         \n",
    "        pixel = random.choice(tif_arr)\n",
    "\n",
    "        # creating matrix of neighbours\n",
    "        neighbours_arr = get_neighbours2(tif_arr, pixel, radius, zradius)\n",
    "        \n",
    "        # deleting neighbours from tif_arrlicated array\n",
    "        dims = np.maximum(neighbours_arr.max(0),tif_arr.max(0))+1\n",
    "        tif_arr = tif_arr[~np.in1d(np.ravel_multi_index(tif_arr.T,dims),np.ravel_multi_index(neighbours_arr.T,dims))]\n",
    "\n",
    "        medoid=get_medoid(neighbours_arr)\n",
    "        \n",
    "        medoids=np.vstack([medoids, medoid])\n",
    "    \n",
    "    return medoids"
   ]
  },
  {
   "cell_type": "markdown",
   "id": "ed75b13f",
   "metadata": {},
   "source": [
    "### Metoda I - mediana + róznica koloru + bez usuwania"
   ]
  },
  {
   "cell_type": "code",
   "execution_count": null,
   "id": "739a756f",
   "metadata": {},
   "outputs": [],
   "source": [
    "def median_method(tif_arr,radius, zradius, color_diff):\n",
    "    medians = np.empty([0,7])\n",
    "    # looping thorugh array until it's empty\n",
    "    while len(tif_arr)>0:\n",
    "\n",
    "        # assign starting point to random pixel         \n",
    "        pixel = random.choice(tif_arr)\n",
    "\n",
    "        # creating matrix of neighbours\n",
    "        neighbours_arr = get_neighbours(tif_arr, pixel, radius, zradius, color_diff)\n",
    "        \n",
    "        median=np.median(neighbours_arr,axis=0,keepdims=True)\n",
    "        median[0,6]=neighbours_arr.shape[0]\n",
    "        \n",
    "        medians=np.vstack([medians, median])\n",
    "        \n",
    "        # deleting neighbours from tif_arrlicated array\n",
    "        dims = np.maximum(neighbours_arr.max(0),tif_arr.max(0))+1\n",
    "        tif_arr = tif_arr[~np.in1d(np.ravel_multi_index(tif_arr.T,dims),np.ravel_multi_index(neighbours_arr.T,dims))]\n",
    "    \n",
    "    return medians"
   ]
  },
  {
   "cell_type": "markdown",
   "id": "c944368b",
   "metadata": {},
   "source": [
    "### Metoda II - mediana + róznica koloru + z usuwaniem"
   ]
  },
  {
   "cell_type": "code",
   "execution_count": null,
   "id": "3107f633",
   "metadata": {},
   "outputs": [],
   "source": [
    "def median_method2(tif_arr,radius, zradius, color_diff):\n",
    "    medians = np.empty([0,7])\n",
    "    # looping thorugh array until it's empty\n",
    "    while len(tif_arr)>0:\n",
    "\n",
    "        # assign starting point to random pixel         \n",
    "        pixel = random.choice(tif_arr)\n",
    "\n",
    "        # creating matrix of neighbours\n",
    "        neighbours_arr = get_neighbours2(tif_arr, pixel, radius, zradius)\n",
    "        \n",
    "        # deleting neighbours from tif_arrlicated array\n",
    "        dims = np.maximum(neighbours_arr.max(0),tif_arr.max(0))+1\n",
    "        tif_arr = tif_arr[~np.in1d(np.ravel_multi_index(tif_arr.T,dims),np.ravel_multi_index(neighbours_arr.T,dims))]\n",
    "        \n",
    "        neighbours_arr=get_neighbours_by_color(neighbours_arr, pixel, color_diff)\n",
    "\n",
    "        median=np.median(neighbours_arr,axis=0,keepdims=True)\n",
    "        median[0,6]=neighbours_arr.shape[0]\n",
    "        \n",
    "        medians=np.vstack([medians, median])\n",
    "    \n",
    "    return medians"
   ]
  },
  {
   "cell_type": "markdown",
   "id": "fa500650",
   "metadata": {},
   "source": [
    "### Metoda III - mediana + bez różnicy koloru + nie ma outlierów"
   ]
  },
  {
   "cell_type": "code",
   "execution_count": null,
   "id": "a07fe1d3",
   "metadata": {},
   "outputs": [],
   "source": [
    "def median_method3(tif_arr,radius, zradius):\n",
    "    medians = np.empty([0,7])\n",
    "    # looping thorugh array until it's empty\n",
    "    while len(tif_arr)>0:\n",
    "\n",
    "        # assign starting point to random pixel         \n",
    "        pixel = random.choice(tif_arr)\n",
    "\n",
    "        # creating matrix of neighbours\n",
    "        neighbours_arr = get_neighbours2(tif_arr, pixel, radius, zradius)\n",
    "        \n",
    "        # deleting neighbours from tif_arrlicated array\n",
    "        dims = np.maximum(neighbours_arr.max(0),tif_arr.max(0))+1\n",
    "        tif_arr = tif_arr[~np.in1d(np.ravel_multi_index(tif_arr.T,dims),np.ravel_multi_index(neighbours_arr.T,dims))]\n",
    "\n",
    "        median=np.median(neighbours_arr,axis=0,keepdims=True)\n",
    "        median[0,6]=neighbours_arr.shape[0]\n",
    "        \n",
    "        medians=np.vstack([medians, median])\n",
    "    \n",
    "    return medians"
   ]
  },
  {
   "cell_type": "markdown",
   "id": "03295658",
   "metadata": {},
   "source": [
    "### Vizualizacja w plotly graph object"
   ]
  },
  {
   "cell_type": "code",
   "execution_count": null,
   "id": "877c1e7f",
   "metadata": {},
   "outputs": [],
   "source": [
    "def plotly_vis(arr, size_min, size_max):\n",
    "    colors_arr = arr[:,3:6]\n",
    "    colors_arr = [f'rgb({\"{},{},{}\".format(color[0],color[1],color[2])})' for color in colors_arr]\n",
    "    trace1 = go.Scatter3d(\n",
    "        x=arr[:,2], \n",
    "        y=arr[:,1], \n",
    "        z=arr[:,0],\n",
    "        mode=\"markers\",\n",
    "        marker_color=colors_arr,\n",
    "        text=colors_arr,\n",
    "        customdata=arr[:,6],\n",
    "        marker=dict(\n",
    "            sizemode=\"area\",\n",
    "            sizeref=arr[:,6].max() / size_max ** 2,\n",
    "            sizemin=size_min,\n",
    "            opacity=1,\n",
    "            size=arr[:,6],\n",
    "            line=dict(width=0)\n",
    "        ),\n",
    "        hovertemplate='<br>x:%{x}<br>y:%{y}<br>z:%{z}<br>color: %{text}<br>size: %{customdata}'\n",
    "    )\n",
    "\n",
    "    data = [trace1]\n",
    "    title = \"Tiff 3D\"\n",
    "    layout = go.Layout(height=800, width=1000, title=title)\n",
    "\n",
    "    fig = go.Figure(data=data, layout=layout)\n",
    "\n",
    "    fig.show()     "
   ]
  },
  {
   "cell_type": "markdown",
   "id": "b823f44c",
   "metadata": {},
   "source": [
    "#### Widgety i interakcja"
   ]
  },
  {
   "cell_type": "code",
   "execution_count": null,
   "id": "e8f8bc41",
   "metadata": {},
   "outputs": [],
   "source": [
    "@widgets.interact_manual(method=['centroid_method','centroid_method2','centroid_method3',\n",
    "                                 'medoid_method','medoid_method2','medoid_method3',\n",
    "                                 'median_method','median_method2','median_method3'],\n",
    "                        tiff=fixed(img26_cl), \n",
    "                        radius=widgets.IntSlider(value=5, min=1, max=20, continuous_update=False), \n",
    "                        zradius=widgets.IntSlider(value=2, min=1, max=5, continuous_update=False), \n",
    "                        color_diff=widgets.IntSlider(value=10, min=1, max=40, continuous_update=False)\n",
    "                        ).options(manual_name=\"update\")\n",
    "def tif_reduction_widget(method,tiff, radius, zradius, color_diff):\n",
    "    \n",
    "    if method == 'centroid_method':                \n",
    "        data_points = centroid_method(tiff,radius,zradius,color_diff)\n",
    "        \n",
    "    elif method == 'centroid_method2':\n",
    "        data_points = centroid_method2(tiff,radius,zradius,color_diff)\n",
    "        \n",
    "    elif method == 'centroid_method3':\n",
    "        data_points = centroid_method3(tiff,radius,zradius)\n",
    "                \n",
    "    elif method == 'medoid_method':\n",
    "        data_points = medoid_method(tiff,radius,zradius,color_diff)\n",
    "                \n",
    "    elif method == 'medoid_method2':\n",
    "        data_points = medoid_method2(tiff,radius,zradius,color_diff)\n",
    "                \n",
    "    elif method == 'medoid_method3':\n",
    "        data_points = medoid_method3(tiff,radius,zradius)\n",
    "        \n",
    "    elif method == 'median_method':\n",
    "        data_points = median_method(tiff,radius,zradius,color_diff)\n",
    "                \n",
    "    elif method == 'median_method2':\n",
    "        data_points = median_method2(tiff,radius,zradius,color_diff)\n",
    "                \n",
    "    elif method == 'median_method3':\n",
    "        data_points = median_method3(tiff,radius,zradius)\n",
    "        \n",
    "    \n",
    "\n",
    "    print(data_points.shape)\n",
    "    widgets.interact(plotly_vis, arr=fixed(data_points),\n",
    "                     size_min=widgets.IntSlider(value=10, min=0, max=20, continuous_update=False), \n",
    "                     size_max=widgets.IntSlider(value=50, min=40, max=65, continuous_update=False))"
   ]
  },
  {
   "cell_type": "markdown",
   "id": "458d7971",
   "metadata": {},
   "source": [
    "### Pomiary"
   ]
  },
  {
   "cell_type": "code",
   "execution_count": null,
   "id": "76c58907",
   "metadata": {},
   "outputs": [],
   "source": [
    "%timeit centroid_method(img26_cl,3,1,5)"
   ]
  },
  {
   "cell_type": "code",
   "execution_count": null,
   "id": "e1ee075e",
   "metadata": {},
   "outputs": [],
   "source": [
    "%timeit centroid_method2(img26_cl,3,1,5)"
   ]
  },
  {
   "cell_type": "code",
   "execution_count": null,
   "id": "42427953",
   "metadata": {},
   "outputs": [],
   "source": [
    "%timeit centroid_method3(img26_cl,3,1,5)"
   ]
  },
  {
   "cell_type": "code",
   "execution_count": null,
   "id": "881a102a",
   "metadata": {},
   "outputs": [],
   "source": [
    "%timeit medoid_method(img26_cl,3,1,5)"
   ]
  },
  {
   "cell_type": "code",
   "execution_count": null,
   "id": "8e341dd3",
   "metadata": {},
   "outputs": [],
   "source": [
    "%timeit medoid_method2(img26_cl,3,1,5)"
   ]
  },
  {
   "cell_type": "code",
   "execution_count": null,
   "id": "327581b2",
   "metadata": {},
   "outputs": [],
   "source": [
    "%timeit medoid_method3(img26_cl,3,1,5)"
   ]
  },
  {
   "cell_type": "code",
   "execution_count": null,
   "id": "dead720b",
   "metadata": {},
   "outputs": [],
   "source": [
    "%timeit median_method(img26_cl,3,1,5)"
   ]
  },
  {
   "cell_type": "code",
   "execution_count": null,
   "id": "f0bf964c",
   "metadata": {},
   "outputs": [],
   "source": [
    "%timeit median_method2(img26_cl,3,1,5)"
   ]
  },
  {
   "cell_type": "code",
   "execution_count": null,
   "id": "9ae2efd7",
   "metadata": {},
   "outputs": [],
   "source": [
    "%memit centroid_method3(img26_cl,3,1,5)"
   ]
  },
  {
   "cell_type": "code",
   "execution_count": null,
   "id": "b6651425",
   "metadata": {},
   "outputs": [],
   "source": [
    "%memit medoid_method(img26_cl,5,1,10)"
   ]
  },
  {
   "cell_type": "code",
   "execution_count": null,
   "id": "f3c7c57f",
   "metadata": {},
   "outputs": [],
   "source": [
    "# test dataset\n",
    "b = np.random.randint(0, 255, [10, 7]).astype('float64')\n",
    "b"
   ]
  },
  {
   "cell_type": "code",
   "execution_count": null,
   "id": "f896b490",
   "metadata": {},
   "outputs": [],
   "source": [
    "import cProfile\n",
    "def build():\n",
    "    arr = []\n",
    "    for a in range(0, 1000000):\n",
    "        if a % 2 == 0:\n",
    "            arr.append(a)\n",
    "if __name__ == '__main__':\n",
    "    cProfile.run('build()')"
   ]
  },
  {
   "cell_type": "markdown",
   "id": "1e31a564",
   "metadata": {},
   "source": [
    "### Brudnopis"
   ]
  },
  {
   "cell_type": "code",
   "execution_count": null,
   "id": "7b5451b8",
   "metadata": {},
   "outputs": [],
   "source": [
    "voxel=random.choice(img26_cl)\n",
    "voxel"
   ]
  },
  {
   "cell_type": "code",
   "execution_count": null,
   "id": "fb25384f",
   "metadata": {},
   "outputs": [],
   "source": [
    "n=get_neighbours(img26_cl,voxel,5,1,5)"
   ]
  },
  {
   "cell_type": "code",
   "execution_count": null,
   "id": "c8768cd0",
   "metadata": {},
   "outputs": [],
   "source": [
    "n2=get_neighbours(img26_cl,voxel,5,1,300)\n",
    "n2"
   ]
  },
  {
   "cell_type": "code",
   "execution_count": null,
   "id": "6eb6e440",
   "metadata": {},
   "outputs": [],
   "source": [
    "n2.shape"
   ]
  },
  {
   "cell_type": "code",
   "execution_count": null,
   "id": "c31cfec1",
   "metadata": {},
   "outputs": [],
   "source": [
    "medoid=get_medoid(n)"
   ]
  },
  {
   "cell_type": "code",
   "execution_count": null,
   "id": "a45b2b2a",
   "metadata": {},
   "outputs": [],
   "source": [
    "medoid"
   ]
  },
  {
   "cell_type": "code",
   "execution_count": null,
   "id": "44e35330",
   "metadata": {},
   "outputs": [],
   "source": [
    "medoid2=get_medoid(n2)\n",
    "medoid2"
   ]
  },
  {
   "cell_type": "code",
   "execution_count": null,
   "id": "600bf47d",
   "metadata": {},
   "outputs": [],
   "source": [
    "n3=get_neighbours(img26_cl,voxel,5,1,10)\n",
    "print(n3)\n",
    "medoid3=get_medoid(n3)\n",
    "medoid3"
   ]
  },
  {
   "cell_type": "code",
   "execution_count": null,
   "id": "5965e463",
   "metadata": {},
   "outputs": [],
   "source": [
    "distMatrix=pairwise_dist(n[:,:6])\n",
    "distMatrix"
   ]
  },
  {
   "cell_type": "code",
   "execution_count": null,
   "id": "6068ceb6",
   "metadata": {},
   "outputs": [],
   "source": [
    "# medoid=arr[[np.argmin(distMatrix.sum(axis=0))]]\n",
    "distMatrix.sum(axis=0)"
   ]
  },
  {
   "cell_type": "code",
   "execution_count": null,
   "id": "708205de",
   "metadata": {},
   "outputs": [],
   "source": [
    "n[[np.argmin(distMatrix.sum(axis=0))]]"
   ]
  },
  {
   "cell_type": "code",
   "execution_count": null,
   "id": "939e3ffd",
   "metadata": {},
   "outputs": [],
   "source": [
    "median=np.median(n,axis=0,keepdims=True)"
   ]
  },
  {
   "cell_type": "code",
   "execution_count": null,
   "id": "ba5b21ee",
   "metadata": {},
   "outputs": [],
   "source": [
    "median"
   ]
  },
  {
   "cell_type": "code",
   "execution_count": null,
   "id": "c7335981",
   "metadata": {},
   "outputs": [],
   "source": [
    "median[0,6]=n.shape[0]"
   ]
  },
  {
   "cell_type": "code",
   "execution_count": null,
   "id": "160b98c7",
   "metadata": {},
   "outputs": [],
   "source": [
    "n.shape[0]"
   ]
  },
  {
   "cell_type": "code",
   "execution_count": null,
   "id": "efeb8576",
   "metadata": {},
   "outputs": [],
   "source": [
    "median"
   ]
  },
  {
   "cell_type": "code",
   "execution_count": null,
   "id": "87b2225a",
   "metadata": {},
   "outputs": [],
   "source": [
    "m=medoid_method(img26_cl,5,1,10)"
   ]
  },
  {
   "cell_type": "code",
   "execution_count": null,
   "id": "bae76202",
   "metadata": {},
   "outputs": [],
   "source": [
    "m.shape"
   ]
  }
 ],
 "metadata": {
  "@webio": {
   "lastCommId": null,
   "lastKernelId": null
  },
  "kernelspec": {
   "display_name": "my_env_kernel",
   "language": "python",
   "name": "my_env_kernel"
  },
  "language_info": {
   "codemirror_mode": {
    "name": "ipython",
    "version": 3
   },
   "file_extension": ".py",
   "mimetype": "text/x-python",
   "name": "python",
   "nbconvert_exporter": "python",
   "pygments_lexer": "ipython3",
   "version": "3.9.4"
  }
 },
 "nbformat": 4,
 "nbformat_minor": 5
}
