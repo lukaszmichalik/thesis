{
 "cells": [
  {
   "cell_type": "markdown",
   "id": "a83a47e0",
   "metadata": {},
   "source": [
    "## Wczytanie Bibliotek"
   ]
  },
  {
   "cell_type": "code",
   "execution_count": null,
   "id": "6033728f",
   "metadata": {},
   "outputs": [],
   "source": [
    "from PIL import Image\n",
    "import sys\n",
    "import numpy as np\n",
    "import cv2\n",
    "import tifffile\n",
    "import plotly.express as px\n",
    "from IPython import display\n",
    "from matplotlib import pyplot as plt\n",
    "import pandas as pd\n",
    "from timeit import timeit\n",
    "from memory_profiler import profile\n",
    "import random\n",
    "from IPython.display import IFrame\n",
    "import ipywidgets as widgets\n",
    "import plotly\n",
    "from sklearn import preprocessing\n",
    "from sklearn.metrics import pairwise_distances as pdis\n",
    "import plotly.graph_objs as go\n",
    "from plotly.offline import plot, iplot, init_notebook_mode\n",
    "init_notebook_mode(connected=True)\n",
    "import czifile\n",
    "from skimage import exposure, img_as_ubyte\n",
    "from sklearn_extra.cluster import KMedoids\n",
    "from sklearn.cluster import KMeans\n",
    "from ipywidgets import fixed\n",
    "from memory_profiler import profile\n",
    "%load_ext memory_profiler"
   ]
  },
  {
   "cell_type": "markdown",
   "id": "b2de04b3",
   "metadata": {},
   "source": [
    "## Wczytanie plików Experiment-392"
   ]
  },
  {
   "cell_type": "code",
   "execution_count": null,
   "id": "bdaf655e",
   "metadata": {},
   "outputs": [],
   "source": [
    "file_red = 'dataset/rgb/Centr_tel Brachy/Experiment-392.czi - C=r.tif'\n",
    "file_green = 'dataset/rgb/Centr_tel Brachy/Experiment-392.czi - C=g.tif'\n",
    "file_blue = 'dataset/rgb/Centr_tel Brachy/Experiment-392.czi - C=b.tif'\n",
    "\n",
    "tif_red = tifffile.imread(file_red)\n",
    "tif_green = tifffile.imread(file_green)\n",
    "tif_blue = tifffile.imread(file_blue)"
   ]
  },
  {
   "cell_type": "code",
   "execution_count": null,
   "id": "4227d8f8",
   "metadata": {},
   "outputs": [],
   "source": [
    "# przykształcenie tifów 16-bitowych na 8-bitowe\n",
    "\n",
    "# inicjalizacja pustych tifów 8 bitowych\n",
    "tif_red_norm = np.empty(shape=(18, 1040,1388), dtype='uint8')\n",
    "tif_green_norm = np.empty(shape=(18, 1040,1388), dtype='uint8')\n",
    "tif_blue_norm = np.empty(shape=(18, 1040,1388), dtype='uint8')\n",
    "\n",
    "# normalizacja\n",
    "for i in range(0,tif_blue.shape[0]):\n",
    "    tif_red_norm[i] = img_as_ubyte(exposure.rescale_intensity(tif_red[i]))\n",
    "    tif_green_norm[i] = img_as_ubyte(exposure.rescale_intensity(tif_green[i]))\n",
    "    tif_blue_norm[i] = img_as_ubyte(exposure.rescale_intensity(tif_blue[i]))  "
   ]
  },
  {
   "cell_type": "code",
   "execution_count": null,
   "id": "61f0784a",
   "metadata": {},
   "outputs": [],
   "source": [
    "# połączenie tifów i przekształcenie na array 2d ze współrzędnymi, colorami i rozmiarem.\n",
    "\n",
    "# spłaszczenie tifów\n",
    "tif_red_flat = tif_red_norm.flatten()\n",
    "tif_green_flat = tif_green_norm.flatten()\n",
    "tif_blue_flat = tif_blue_norm.flatten()\n",
    "\n",
    "z, y, x = tif_red.shape\n",
    "\n",
    "x_size = x\n",
    "y_size = y\n",
    "z_size = z\n",
    "\n",
    "z_list = []\n",
    "for i in range(z_size):\n",
    "    z_list += [i] * (y_size * x_size)\n",
    "\n",
    "y_list = []\n",
    "for i in range(y_size):\n",
    "    y_list += [i] * (x_size)\n",
    "y_list *= z_size\n",
    "\n",
    "x_list = []\n",
    "x_list = np.arange(0, x_size).tolist() * (z_size * y_size)\n",
    "\n",
    "# connecting lists into 2d numpy array\n",
    "tif_arr = np.c_[z_list, y_list, x_list, tif_red_flat, tif_green_flat, tif_blue_flat, np.ones((z_size * y_size* x_size),dtype='int32')]\n",
    "\n",
    "tif_arr.shape"
   ]
  },
  {
   "cell_type": "code",
   "execution_count": null,
   "id": "b31fdcca",
   "metadata": {},
   "outputs": [],
   "source": [
    "# usunięcie czarnych pixeli\n",
    "print(tif_arr.shape)\n",
    "tif_arr_cls = tif_arr[(tif_arr[:,3]>100)|(tif_arr[:,4]>100)|(tif_arr[:,5]>100)]\n",
    "print(tif_arr_cls.shape)"
   ]
  },
  {
   "cell_type": "markdown",
   "id": "a8ab8893",
   "metadata": {},
   "source": [
    "### Wczytanie kolorowego pliku Image0026-rgb"
   ]
  },
  {
   "cell_type": "code",
   "execution_count": null,
   "id": "4f7e5c89",
   "metadata": {},
   "outputs": [],
   "source": [
    "img26_file = 'dataset/rgb/FISH_Brachy/Image0026-rgb.tif' \n",
    "\n",
    "# wczytanie przy pomocy biblioteki tifffile (OpenCV nie odnajdywało warst)\n",
    "img26 = tifffile.imread(img26_file)"
   ]
  },
  {
   "cell_type": "markdown",
   "id": "1c85413b",
   "metadata": {},
   "source": [
    "### Wczytanie czarno-białego pliku focal1.tiff"
   ]
  },
  {
   "cell_type": "code",
   "execution_count": null,
   "id": "1dc8e3ef",
   "metadata": {},
   "outputs": [],
   "source": [
    "# pobranie lokalnej ścieżki do pliku\n",
    "\n",
    "f1_file = 'dataset/EmbryoCE/focal1.tif'\n",
    "\n",
    "# wczytanie pliku przy pomocy biblioteki tifffile (openCV nie wczytywał trzeciego wymiaru)\n",
    "f1 = tifffile.imread(f1_file)\n",
    "\n",
    "# odwrócenie skaliszarości o 180 stopnii ( ponieważ po wczytaniu została ona zmieniona )\n",
    "f1 = cv2.bitwise_not(f1)"
   ]
  },
  {
   "cell_type": "markdown",
   "id": "7d661396",
   "metadata": {},
   "source": [
    "### Przekształcenie 4D array na 2D array pliku Image0026-rgb.tif"
   ]
  },
  {
   "cell_type": "code",
   "execution_count": null,
   "id": "f189218f",
   "metadata": {},
   "outputs": [],
   "source": [
    "# funkcja przekształca kolorowego tifa w postaci 4d array na 2d array ze wspórzędnymi, kolorami i rozmiarem.\n",
    "\n",
    "def get_coords_tifRGB(arr_4d):\n",
    "    arr_4d_flat = arr_4d.flatten()\n",
    "\n",
    "    z, y, x, rgb = arr_4d.shape\n",
    "\n",
    "    x_size = x\n",
    "    y_size = y\n",
    "    z_size = z\n",
    "\n",
    "    z_list = []\n",
    "    for i in range(z_size):\n",
    "        z_list += [i] * (y_size * x_size)\n",
    "\n",
    "    y_list = []\n",
    "    for i in range(y_size):\n",
    "        y_list += [i] * (x_size)\n",
    "    y_list *= z_size\n",
    "\n",
    "    x_list = []\n",
    "    x_list = np.arange(0, x_size).tolist() * (z_size * y_size)\n",
    "\n",
    "    # połączenie list w 2d numpy array\n",
    "    coords_arr_2d = np.c_[z_list, y_list, x_list, arr_4d_flat[::3], arr_4d_flat[1::3], arr_4d_flat[2::3], np.ones((z_size * y_size* x_size),dtype=int)]\n",
    "    \n",
    "    return coords_arr_2d"
   ]
  },
  {
   "cell_type": "code",
   "execution_count": null,
   "id": "3e555b8d",
   "metadata": {},
   "outputs": [],
   "source": [
    "img26_arr = get_coords_tifRGB(img26)\n",
    "img26_arr"
   ]
  },
  {
   "cell_type": "markdown",
   "id": "eaa458fe",
   "metadata": {},
   "source": [
    "### Usuwanie czarnych pixeli z pliku Image0026-rgb.tif"
   ]
  },
  {
   "cell_type": "code",
   "execution_count": null,
   "id": "a122bf30",
   "metadata": {},
   "outputs": [],
   "source": [
    "print(img26_arr.shape)\n",
    "img26_clr = img26_arr[(img26_arr[:,3]>100)|(img26_arr[:,4]>100)|(img26_arr[:,5]>100)]\n",
    "print(img26_clr.shape)"
   ]
  },
  {
   "cell_type": "markdown",
   "id": "3bc70cdb",
   "metadata": {},
   "source": [
    "### funkcje pomocnicze"
   ]
  },
  {
   "cell_type": "code",
   "execution_count": null,
   "id": "e400d91f",
   "metadata": {},
   "outputs": [],
   "source": [
    "def get_centroid(arr):\n",
    "    length = arr.shape[0]\n",
    "    sum_z = np.sum(arr[:, 0])\n",
    "    sum_y = np.sum(arr[:, 1])\n",
    "    sum_x = np.sum(arr[:, 2])\n",
    "    sum_r = np.sum(arr[:, 3])\n",
    "    sum_g = np.sum(arr[:, 4])\n",
    "    sum_b = np.sum(arr[:, 5])\n",
    "    return sum_z/length, sum_y/length, sum_x/length, sum_r/length, sum_g/length, sum_b/length, length"
   ]
  },
  {
   "cell_type": "code",
   "execution_count": null,
   "id": "11f05fd0",
   "metadata": {},
   "outputs": [],
   "source": [
    "def get_neighbours(arr, pixel, radius, zradius, color_diff):\n",
    "    neighbours = arr[((arr[:,0]<=pixel[0]+zradius) \n",
    "                            & (arr[:,0]>=pixel[0]-zradius)\n",
    "                            & (arr[:,1]<=pixel[1]+radius)\n",
    "                            & (arr[:,1]>=pixel[1]-radius)\n",
    "                            & (arr[:,2]<=pixel[2]+radius)\n",
    "                            & (arr[:,2]>=pixel[2]-radius)\n",
    "                            & (arr[:,3]<=pixel[3]+color_diff)\n",
    "                            & (arr[:,3]>=pixel[3]-color_diff)\n",
    "                            & (arr[:,4]<=pixel[4]+color_diff)\n",
    "                            & (arr[:,4]>=pixel[4]-color_diff)\n",
    "                            & (arr[:,5]<=pixel[5]+color_diff)\n",
    "                            & (arr[:,5]>=pixel[5]-color_diff))]\n",
    "    return neighbours"
   ]
  },
  {
   "cell_type": "markdown",
   "id": "8fc5ddca",
   "metadata": {},
   "source": [
    "### Metoda z małym promieniem i CENTROIDEM"
   ]
  },
  {
   "cell_type": "code",
   "execution_count": null,
   "id": "dab920f4",
   "metadata": {},
   "outputs": [],
   "source": [
    "def centroid_method(tif_arr, radius, zradius, color_diff):\n",
    "    \n",
    "    centroids = np.empty([0,7])\n",
    "    \n",
    "    # looping thorugh array until it's empty\n",
    "    while len(tif_arr)>0:\n",
    "\n",
    "        # assign starting point to random pixel\n",
    "        pixel = random.choice(tif_arr)\n",
    "\n",
    "        # creating matrix of neighbours\n",
    "        neighbours_arr = get_neighbours(tif_arr, pixel, radius, zradius, color_diff)\n",
    "\n",
    "        # calculating centroid vector from array of neighbours\n",
    "        centroid = get_centroid(neighbours_arr)\n",
    "\n",
    "        # adding centroid to centroids matrix\n",
    "        centroids=np.vstack([centroids, centroid])\n",
    "\n",
    "        # deleting neighbours from tif_arrlicated array\n",
    "        dims = np.maximum(neighbours_arr.max(0),tif_arr.max(0))+1\n",
    "        tif_arr = tif_arr[~np.in1d(np.ravel_multi_index(tif_arr.T,dims),np.ravel_multi_index(neighbours_arr.T,dims))]\n",
    "    print(centroids.shape)\n",
    "        \n",
    "    return centroids"
   ]
  },
  {
   "cell_type": "markdown",
   "id": "24818615",
   "metadata": {},
   "source": [
    "### Metoda z małym promieniem i MEDOIDEM"
   ]
  },
  {
   "cell_type": "code",
   "execution_count": null,
   "id": "f870f3fb",
   "metadata": {},
   "outputs": [],
   "source": [
    "def medoid_method(tif_arr,radius, zradius, color_diff):\n",
    "    medoids = np.empty([0,7])\n",
    "    # looping thorugh array until it's empty\n",
    "    while len(tif_arr)>0:\n",
    "\n",
    "        # assign starting point to random pixel         \n",
    "        pixel = random.choice(tif_arr)\n",
    "\n",
    "        # creating matrix of neighbours\n",
    "        neighbours_arr = get_neighbours(tif_arr, pixel, radius, zradius, color_diff)\n",
    "\n",
    "        distMatrix=pdis(neighbours_arr[:,3:6])\n",
    "        medoid=neighbours_arr[[np.argmin(distMatrix.sum(axis=0))]]\n",
    "        \n",
    "        medoid[0,6]=neighbours_arr.shape[0]\n",
    "        medoids=np.vstack([medoids, medoid])\n",
    "        \n",
    "        # deleting neighbours from tif_arrlicated array\n",
    "        dims = np.maximum(neighbours_arr.max(0),tif_arr.max(0))+1\n",
    "        tif_arr = tif_arr[~np.in1d(np.ravel_multi_index(tif_arr.T,dims),np.ravel_multi_index(neighbours_arr.T,dims))]\n",
    "    print(medoids.shape)\n",
    "    return medoids"
   ]
  },
  {
   "cell_type": "code",
   "execution_count": null,
   "id": "cd439975",
   "metadata": {},
   "outputs": [],
   "source": [
    "def get_neighbours2(arr, pixel, radius, zradius):\n",
    "    neighbours = arr[((arr[:,0]<=pixel[0]+zradius) \n",
    "                            & (arr[:,0]>=pixel[0]-zradius)\n",
    "                            & (arr[:,1]<=pixel[1]+radius)\n",
    "                            & (arr[:,1]>=pixel[1]-radius)\n",
    "                            & (arr[:,2]<=pixel[2]+radius)\n",
    "                            & (arr[:,2]>=pixel[2]-radius))]\n",
    "    return neighbours"
   ]
  },
  {
   "cell_type": "code",
   "execution_count": null,
   "id": "e5d254fe",
   "metadata": {},
   "outputs": [],
   "source": [
    "def centroid_method2(tif_arr, radius, zradius):\n",
    "    \n",
    "    centroids = np.empty([0,7])\n",
    "    \n",
    "    # looping thorugh array until it's empty\n",
    "    while len(tif_arr)>0:\n",
    "\n",
    "        # assign starting point to random pixel\n",
    "        pixel = random.choice(tif_arr)\n",
    "\n",
    "        # creating matrix of neighbours\n",
    "        neighbours_arr = get_neighbours2(tif_arr, pixel, radius, zradius)\n",
    "\n",
    "        # calculating centroid vector from array of neighbours\n",
    "        centroid = get_centroid(neighbours_arr)\n",
    "\n",
    "        # adding centroid to centroids matrix\n",
    "        centroids=np.vstack([centroids, centroid])\n",
    "\n",
    "        # deleting neighbours from tif_arrlicated array\n",
    "        dims = np.maximum(neighbours_arr.max(0),tif_arr.max(0))+1\n",
    "        tif_arr = tif_arr[~np.in1d(np.ravel_multi_index(tif_arr.T,dims),np.ravel_multi_index(neighbours_arr.T,dims))]\n",
    "        \n",
    "    return centroids"
   ]
  },
  {
   "cell_type": "code",
   "execution_count": null,
   "id": "e407e26f",
   "metadata": {},
   "outputs": [],
   "source": [
    "def plotly_vis(arr, size_min, size_max):\n",
    "    colors_arr = arr[:,3:6]\n",
    "    colors_arr = [f'rgb({\"{},{},{}\".format(color[0],color[1],color[2])})' for color in colors_arr]\n",
    "    trace1 = go.Scatter3d(\n",
    "        x=arr[:,2], \n",
    "        y=arr[:,1], \n",
    "        z=arr[:,0],\n",
    "        mode=\"markers\",\n",
    "        marker_color=colors_arr,\n",
    "        text=colors_arr,\n",
    "        customdata=arr[:,6],\n",
    "        marker=dict(\n",
    "            sizemode=\"area\",\n",
    "            sizeref=arr[:,6].max() / size_max ** 2,\n",
    "            sizemin=size_min,\n",
    "            opacity=1,\n",
    "            size=arr[:,6],\n",
    "            line=dict(width=0)\n",
    "        ),\n",
    "        hovertemplate='<br>x:%{x}<br>y:%{y}<br>z:%{z}<br>color: %{text}<br>size: %{customdata}'\n",
    "    )\n",
    "\n",
    "    data = [trace1]\n",
    "    title = \"Tiff 3D\"\n",
    "    layout = go.Layout(height=800, width=1000, title=title)\n",
    "\n",
    "    fig = go.Figure(data=data, layout=layout)\n",
    "\n",
    "    fig.show()     "
   ]
  },
  {
   "cell_type": "markdown",
   "id": "71610e86",
   "metadata": {},
   "source": [
    "#### Widgety i interakcja"
   ]
  },
  {
   "cell_type": "code",
   "execution_count": null,
   "id": "e8f8bc41",
   "metadata": {},
   "outputs": [],
   "source": [
    "@widgets.interact_manual(method=['centroid_method','medoid_method','centroid_method2'],\n",
    "                        tiff=fixed(img26_clr), \n",
    "                        radius=widgets.IntSlider(value=5, min=1, max=20, continuous_update=False), \n",
    "                        zradius=widgets.IntSlider(value=2, min=1, max=5, continuous_update=False), \n",
    "                        color_diff=widgets.IntSlider(value=10, min=1, max=40, continuous_update=False)\n",
    "                        ).options(manual_name=\"update\")\n",
    "def tif_reduction_widget(method,tiff, radius, zradius, color_diff):\n",
    "    \n",
    "    if method == 'centroid_method':                \n",
    "        data_points = centroid_method(tiff,radius,zradius,color_diff)\n",
    "                \n",
    "    elif method == 'medoid_method':\n",
    "        data_points = medoid_method(tiff,radius,zradius,color_diff)\n",
    "                \n",
    "    elif method == 'centroid_method2':\n",
    "        data_points = centroid_method2(tiff,radius,zradius)\n",
    "    print(data_points.shape)\n",
    "    widgets.interact(plotly_vis, arr=fixed(data_points),\n",
    "                     size_min=widgets.IntSlider(value=10, min=0, max=20, continuous_update=False), \n",
    "                     size_max=widgets.IntSlider(value=50, min=40, max=65, continuous_update=False))"
   ]
  },
  {
   "cell_type": "markdown",
   "id": "5894cc41",
   "metadata": {},
   "source": [
    "### Pomiary"
   ]
  },
  {
   "cell_type": "code",
   "execution_count": null,
   "id": "a408fe89",
   "metadata": {},
   "outputs": [],
   "source": [
    "%timeit centroid_method(img26_clr,10,1,10)"
   ]
  },
  {
   "cell_type": "code",
   "execution_count": null,
   "id": "555888a3",
   "metadata": {},
   "outputs": [],
   "source": [
    "%memit centroid_method(img26_clr,3,1,5)"
   ]
  },
  {
   "cell_type": "code",
   "execution_count": null,
   "id": "3acbb7a3",
   "metadata": {},
   "outputs": [],
   "source": [
    "%memit medoid_method(img26_clr,5,1,10)"
   ]
  },
  {
   "cell_type": "code",
   "execution_count": null,
   "id": "cfacf2df",
   "metadata": {},
   "outputs": [],
   "source": [
    "# test dataset\n",
    "b = np.random.randint(0, 255, [10, 7]).astype('float64')\n",
    "b"
   ]
  }
 ],
 "metadata": {
  "@webio": {
   "lastCommId": null,
   "lastKernelId": null
  },
  "kernelspec": {
   "display_name": "my_env_kernel",
   "language": "python",
   "name": "my_env_kernel"
  },
  "language_info": {
   "codemirror_mode": {
    "name": "ipython",
    "version": 3
   },
   "file_extension": ".py",
   "mimetype": "text/x-python",
   "name": "python",
   "nbconvert_exporter": "python",
   "pygments_lexer": "ipython3",
   "version": "3.9.4"
  }
 },
 "nbformat": 4,
 "nbformat_minor": 5
}
