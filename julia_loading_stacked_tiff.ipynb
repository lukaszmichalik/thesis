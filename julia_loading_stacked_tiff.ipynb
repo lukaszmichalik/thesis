{
 "cells": [
  {
   "cell_type": "code",
   "execution_count": 1,
   "id": "6bbf22cb",
   "metadata": {},
   "outputs": [],
   "source": [
    "using TiffImages\n",
    "\n",
    "img = TiffImages.load(\"dataset/Exp392_C=b.tif\");"
   ]
  },
  {
   "cell_type": "code",
   "execution_count": 11,
   "id": "842125c6",
   "metadata": {},
   "outputs": [
    {
     "data": {
      "text/plain": [
       "TiffImages.DenseTaggedImage{ColorTypes.Gray{FixedPointNumbers.N0f16}, 3, UInt32, Array{ColorTypes.Gray{FixedPointNumbers.N0f16}, 3}}"
      ]
     },
     "execution_count": 11,
     "metadata": {},
     "output_type": "execute_result"
    }
   ],
   "source": [
    "typeof(img)"
   ]
  },
  {
   "cell_type": "code",
   "execution_count": 12,
   "id": "dd4ec41e",
   "metadata": {},
   "outputs": [
    {
     "data": {
      "text/plain": [
       "ColorTypes.Gray{FixedPointNumbers.N0f16}"
      ]
     },
     "execution_count": 12,
     "metadata": {},
     "output_type": "execute_result"
    }
   ],
   "source": [
    "eltype(img)"
   ]
  },
  {
   "cell_type": "code",
   "execution_count": 18,
   "id": "476df0a0",
   "metadata": {},
   "outputs": [
    {
     "data": {
      "text/plain": [
       "(1040, 1388, 18)"
      ]
     },
     "execution_count": 18,
     "metadata": {},
     "output_type": "execute_result"
    }
   ],
   "source": [
    "size(img)"
   ]
  }
 ],
 "metadata": {
  "kernelspec": {
   "display_name": "Julia 1.6.1",
   "language": "julia",
   "name": "julia-1.6"
  },
  "language_info": {
   "file_extension": ".jl",
   "mimetype": "application/julia",
   "name": "julia",
   "version": "1.6.1"
  }
 },
 "nbformat": 4,
 "nbformat_minor": 5
}
