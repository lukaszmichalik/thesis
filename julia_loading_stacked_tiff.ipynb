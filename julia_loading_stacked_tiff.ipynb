{
 "cells": [
  {
   "cell_type": "code",
   "execution_count": null,
   "id": "6bbf22cb",
   "metadata": {},
   "outputs": [],
   "source": [
    "using TiffImages\n",
    "\n",
    "img = TiffImages.load(\"dataset/EmbryoCE/focal1.tif\")"
   ]
  },
  {
   "cell_type": "code",
   "execution_count": null,
   "id": "842125c6",
   "metadata": {},
   "outputs": [],
   "source": [
    "typeof(img)"
   ]
  },
  {
   "cell_type": "code",
   "execution_count": null,
   "id": "dd4ec41e",
   "metadata": {},
   "outputs": [],
   "source": [
    "eltype(img)"
   ]
  },
  {
   "cell_type": "code",
   "execution_count": null,
   "id": "476df0a0",
   "metadata": {},
   "outputs": [],
   "source": [
    "size(img)"
   ]
  },
  {
   "cell_type": "code",
   "execution_count": null,
   "id": "c9c75237",
   "metadata": {},
   "outputs": [],
   "source": [
    "using Images\n",
    "\n",
    "f1 = load(\"dataset/EmbryoCE/focal1.tif\")"
   ]
  },
  {
   "cell_type": "code",
   "execution_count": null,
   "id": "5215d960",
   "metadata": {},
   "outputs": [],
   "source": [
    "typeof(f1)"
   ]
  },
  {
   "cell_type": "code",
   "execution_count": null,
   "id": "57876967",
   "metadata": {},
   "outputs": [],
   "source": [
    "size(f1)"
   ]
  },
  {
   "cell_type": "code",
   "execution_count": null,
   "id": "134df735",
   "metadata": {},
   "outputs": [],
   "source": [
    "dump(f1[1,1,1])"
   ]
  },
  {
   "cell_type": "code",
   "execution_count": null,
   "id": "7cebd143",
   "metadata": {},
   "outputs": [],
   "source": [
    "boat = load(\"boat.jpg\")"
   ]
  },
  {
   "cell_type": "code",
   "execution_count": null,
   "id": "7fa5bb8e",
   "metadata": {},
   "outputs": [],
   "source": [
    "display(MIME(\"text/plain\"),boat)\n",
    "\n",
    "boat2 = boat[3750:3800,2150:2250]"
   ]
  },
  {
   "cell_type": "code",
   "execution_count": null,
   "id": "f755d3da",
   "metadata": {},
   "outputs": [],
   "source": [
    "flat_boat = vec(boat2)"
   ]
  },
  {
   "cell_type": "code",
   "execution_count": null,
   "id": "228de707",
   "metadata": {},
   "outputs": [],
   "source": [
    "display(MIME(\"text/plain\"),flat_boat)"
   ]
  },
  {
   "cell_type": "code",
   "execution_count": null,
   "id": "0b81a614",
   "metadata": {},
   "outputs": [],
   "source": [
    "ones_arr = ones(5151)"
   ]
  },
  {
   "cell_type": "code",
   "execution_count": null,
   "id": "3fd993f1",
   "metadata": {},
   "outputs": [],
   "source": [
    "conected = hcat(ones_arr,flat_boat)"
   ]
  },
  {
   "cell_type": "markdown",
   "id": "61a23908",
   "metadata": {},
   "source": [
    "# Reading Julia documentation"
   ]
  },
  {
   "cell_type": "markdown",
   "id": "97cc88ca",
   "metadata": {},
   "source": [
    "## Arrays, Numbers"
   ]
  },
  {
   "cell_type": "code",
   "execution_count": null,
   "id": "17ba6e09",
   "metadata": {},
   "outputs": [],
   "source": [
    "a = [1,2,3,4]"
   ]
  },
  {
   "cell_type": "code",
   "execution_count": null,
   "id": "46b9dabc",
   "metadata": {},
   "outputs": [],
   "source": [
    "map(Float64,a)"
   ]
  },
  {
   "cell_type": "code",
   "execution_count": null,
   "id": "9637e551",
   "metadata": {},
   "outputs": [],
   "source": [
    "Float64.(a)"
   ]
  },
  {
   "cell_type": "code",
   "execution_count": null,
   "id": "9ed7efbf",
   "metadata": {},
   "outputs": [],
   "source": [
    "img = rand(2,2)"
   ]
  },
  {
   "cell_type": "code",
   "execution_count": null,
   "id": "6e12efdf",
   "metadata": {},
   "outputs": [],
   "source": [
    "img[2]"
   ]
  },
  {
   "cell_type": "markdown",
   "id": "28b6df27",
   "metadata": {},
   "source": [
    "# 16.05.22"
   ]
  },
  {
   "cell_type": "code",
   "execution_count": null,
   "id": "b42c8ed5",
   "metadata": {},
   "outputs": [],
   "source": [
    "using Images\n",
    "\n",
    "imgc = rand(RGB{Float32},2,2)"
   ]
  },
  {
   "cell_type": "code",
   "execution_count": null,
   "id": "e7ffd5b1",
   "metadata": {},
   "outputs": [],
   "source": [
    "dump(imgc[1,1])"
   ]
  },
  {
   "cell_type": "code",
   "execution_count": null,
   "id": "34e04da7",
   "metadata": {},
   "outputs": [],
   "source": [
    "c = imgc[1,1]; (red(c), green(c), blue(c))"
   ]
  },
  {
   "cell_type": "code",
   "execution_count": null,
   "id": "0838c83b",
   "metadata": {},
   "outputs": [],
   "source": [
    "0xc1/0xff"
   ]
  },
  {
   "cell_type": "markdown",
   "id": "96deb308",
   "metadata": {},
   "source": [
    "# Julia Loading Tiff"
   ]
  },
  {
   "cell_type": "code",
   "execution_count": null,
   "id": "8b79bd9c",
   "metadata": {},
   "outputs": [],
   "source": [
    "using PlotlyJS, CSV, DataFrames, WebIO\n",
    "using Images\n",
    "\n",
    "f1 = load(\"dataset/EmbryoCE/focal1.tif\")\n",
    "\n",
    "f1 = f1[1:20, 1:20,1:20]"
   ]
  },
  {
   "cell_type": "code",
   "execution_count": null,
   "id": "b9b89fae",
   "metadata": {},
   "outputs": [],
   "source": [
    "size(f1)"
   ]
  },
  {
   "cell_type": "code",
   "execution_count": null,
   "id": "fee5e9c3",
   "metadata": {},
   "outputs": [],
   "source": [
    "# displaying first layer as plain text (not as pixels as it is by default)\n",
    "display(MIME(\"text/plain\"),f1[:, :, 1])"
   ]
  },
  {
   "cell_type": "code",
   "execution_count": null,
   "id": "4c9425d2",
   "metadata": {},
   "outputs": [],
   "source": [
    "# reducing background of layer first\n",
    "f1[32:398, 72:334, 1]"
   ]
  },
  {
   "cell_type": "markdown",
   "id": "991dc552",
   "metadata": {},
   "source": [
    "# Julia switching 3d array to 2d array with coordinates"
   ]
  },
  {
   "cell_type": "code",
   "execution_count": null,
   "id": "630e9792",
   "metadata": {},
   "outputs": [],
   "source": [
    "y_size, x_size, z_size = size(f1)\n",
    "\n",
    "z_list = zeros(0)\n",
    "\n",
    "for i in 1:z_size\n",
    "    append!(z_list, fill(i ,y_size * x_size))\n",
    "end\n",
    "\n",
    "x_list = zeros(0)\n",
    "for i in 1:x_size\n",
    "    append!(x_list, fill(i ,y_size))\n",
    "end  \n",
    "\n",
    "append!(x_list, repeat(x_list,z_size-1))\n",
    "\n",
    "y_list = collect(1:y_size)\n",
    "append!(y_list, repeat(y_list,z_size * x_size-1))"
   ]
  },
  {
   "cell_type": "code",
   "execution_count": null,
   "id": "62ef167c",
   "metadata": {},
   "outputs": [],
   "source": [
    "# flatten 3d array into 1d array\n",
    "f1_flat = vec(f1)\n",
    "\n",
    "# creating column of ones with size as number of pixels\n",
    "ones_array = ones(length(f1_flat))\n",
    "\n",
    "# connecting 1d arrays like columns into 2d array\n",
    "f1_arr=hcat(y_list,x_list,z_list, f1_flat, ones_array)"
   ]
  },
  {
   "cell_type": "code",
   "execution_count": null,
   "id": "9dc13c61",
   "metadata": {},
   "outputs": [],
   "source": [
    "size(f1_arr)"
   ]
  },
  {
   "cell_type": "markdown",
   "id": "30fa9833",
   "metadata": {},
   "source": [
    "## Cleaning black pixels"
   ]
  },
  {
   "cell_type": "code",
   "execution_count": null,
   "id": "7b3ea5e0",
   "metadata": {},
   "outputs": [],
   "source": [
    "f1_arr = f1_arr[vec(mapslices(col -> col[4] .> 0.8, f1_arr, dims = 2)), :]"
   ]
  },
  {
   "cell_type": "markdown",
   "id": "a39d38b6",
   "metadata": {},
   "source": [
    "# Centroids method"
   ]
  },
  {
   "cell_type": "code",
   "execution_count": null,
   "id": "9a182bd4",
   "metadata": {},
   "outputs": [],
   "source": [
    "# function takes 2d array and calculates centroids of first 4 columns\n",
    "# and returns \n",
    "function centroid(array_2d)\n",
    "    length = size(array_2d, 1)\n",
    "    sum_y = sum(array_2d[:,1])\n",
    "    sum_x = sum(array_2d[:,2])\n",
    "    sum_z = sum(array_2d[:,3])\n",
    "    sum_color = sum(array_2d[:,4])\n",
    "    return hcat(sum_y/length, sum_x/length, sum_z/length, sum_color/length, length)\n",
    "end"
   ]
  },
  {
   "cell_type": "code",
   "execution_count": null,
   "id": "19b2e575",
   "metadata": {},
   "outputs": [],
   "source": [
    "# defining empty matrix where centroids will be stored\n",
    "centroids = Array{Float64}(undef, 0, 5)\n",
    "\n",
    "# duplicating f1_arr of pixels\n",
    "dup = copy(f1_arr)\n",
    "\n",
    "# looping thorugh duplicated array until it's empty\n",
    "while size(dup, 1)>0\n",
    "    \n",
    "    # assign starting point to random pixel\n",
    "    pixel = dup[rand(1:end), :] \n",
    "    \n",
    "    # creating matrix of neighbours\n",
    "    n = dup[vec(mapslices(col -> (col[1] .<= pixel[1]+10) & (col[1] .>= pixel[1]-10)\n",
    "                & (col[2] .<= pixel[2]+10) & (col[2] .>= pixel[2]-10)\n",
    "                & (col[3] .<= pixel[3]+5) & (col[3] .>= pixel[3]-5)\n",
    "                & (col[4] .<= pixel[4]+0.1) & (col[4] .>= pixel[4]-0.1), dup, dims = 2)), :]\n",
    "    \n",
    "    # calculating centroid vector from array of neighbours\n",
    "    c = centroid(n)\n",
    "    \n",
    "    # adding centroid to centroids matrix\n",
    "    centroids = [centroids; c]\n",
    "    \n",
    "    # deleting neighbours from duplicated array\n",
    "    dup=dup[vec(mapslices(row -> !(row in eachrow(n)), dup, dims = 2)),:]\n",
    "    \n",
    "end"
   ]
  },
  {
   "cell_type": "code",
   "execution_count": null,
   "id": "3795e77e",
   "metadata": {},
   "outputs": [],
   "source": [
    "centroids"
   ]
  },
  {
   "cell_type": "markdown",
   "id": "f4606fd0",
   "metadata": {},
   "source": [
    "### Loading f1 as 2d array with coordinates to plotly"
   ]
  },
  {
   "cell_type": "code",
   "execution_count": null,
   "id": "bed04d93",
   "metadata": {},
   "outputs": [],
   "source": [
    "plot(\n",
    "    centroids,\n",
    "    x=centroids[:,2], \n",
    "    y=centroids[:,1], \n",
    "    z=centroids[:,3],\n",
    "    type=\"scatter3d\",\n",
    "    mode=\"markers\",\n",
    "    marker=attr(\n",
    "#         size=f1_arr[:,5],\n",
    "         color=Gray.(centroids[:,4]),\n",
    "#          opacity=0.8\n",
    "    ),\n",
    ")"
   ]
  },
  {
   "cell_type": "code",
   "execution_count": null,
   "id": "76016240",
   "metadata": {},
   "outputs": [],
   "source": [
    "df = dataset(DataFrame, \"iris\")\n",
    "plot(\n",
    "    df, Layout(margin=attr(l=0, r=0, b=0, t=0)),\n",
    "    x=:sepal_length, y=:sepal_width, z=:petal_width, color=:species,\n",
    "    type=\"scatter3d\", mode=\"markers\",\n",
    "    marker_size=:petal_length, marker_sizeref=0.1,\n",
    ")"
   ]
  },
  {
   "cell_type": "code",
   "execution_count": null,
   "id": "4532e4bd",
   "metadata": {},
   "outputs": [],
   "source": [
    "t = range(0, stop=20, length=100)"
   ]
  },
  {
   "cell_type": "code",
   "execution_count": null,
   "id": "d3726b7d",
   "metadata": {},
   "outputs": [],
   "source": [
    "display(MIME(\"text/plain\"),f1[1,1,1])"
   ]
  },
  {
   "cell_type": "code",
   "execution_count": null,
   "id": "c50a5944",
   "metadata": {},
   "outputs": [],
   "source": [
    "e = Gray(N0f8(0.5))"
   ]
  },
  {
   "cell_type": "code",
   "execution_count": null,
   "id": "4329a7d5",
   "metadata": {},
   "outputs": [],
   "source": [
    "image = Gray.(f1_arr[:,4])"
   ]
  },
  {
   "cell_type": "code",
   "execution_count": null,
   "id": "7e5c3801",
   "metadata": {},
   "outputs": [],
   "source": [
    "f1_arr"
   ]
  },
  {
   "cell_type": "code",
   "execution_count": null,
   "id": "afca14b3",
   "metadata": {},
   "outputs": [],
   "source": [
    "f1_arr = f1_arr[vec(mapslices(col -> last(col .> 0.8), f1_arr, dims = 2)), :];"
   ]
  },
  {
   "cell_type": "code",
   "execution_count": null,
   "id": "1174e5c7",
   "metadata": {},
   "outputs": [],
   "source": [
    "f2 = [true, false, true]"
   ]
  },
  {
   "cell_type": "code",
   "execution_count": null,
   "id": "84defede",
   "metadata": {},
   "outputs": [],
   "source": [
    "mapslices(col -> col[4] .> 0.2, f1_arr, dims = 2)"
   ]
  },
  {
   "cell_type": "code",
   "execution_count": null,
   "id": "d100ca1d",
   "metadata": {},
   "outputs": [],
   "source": [
    "using PlotlyJS, CSV, DataFrames, WebIO\n",
    "using Images\n",
    "\n",
    "f1 = load(\"dataset/AICS-11_1306.ome.tif\")"
   ]
  },
  {
   "cell_type": "markdown",
   "id": "3d76869a",
   "metadata": {},
   "source": [
    "# Loading file obtained from idr microscopy"
   ]
  },
  {
   "cell_type": "code",
   "execution_count": null,
   "id": "9ddd73f2",
   "metadata": {},
   "outputs": [],
   "source": [
    "using Images\n",
    "\n",
    "idr = load(\"dataset/a488_023.tif\")"
   ]
  },
  {
   "cell_type": "code",
   "execution_count": null,
   "id": "dd8c4560",
   "metadata": {},
   "outputs": [],
   "source": [
    "size(idr)"
   ]
  }
 ],
 "metadata": {
  "@webio": {
   "lastCommId": null,
   "lastKernelId": null
  },
  "kernelspec": {
   "display_name": "Julia 1.6.1",
   "language": "julia",
   "name": "julia-1.6"
  },
  "language_info": {
   "file_extension": ".jl",
   "mimetype": "application/julia",
   "name": "julia",
   "version": "1.6.1"
  }
 },
 "nbformat": 4,
 "nbformat_minor": 5
}
