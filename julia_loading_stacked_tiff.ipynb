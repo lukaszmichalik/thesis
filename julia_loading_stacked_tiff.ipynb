{
 "cells": [
  {
   "cell_type": "code",
   "execution_count": null,
   "id": "6bbf22cb",
   "metadata": {},
   "outputs": [],
   "source": [
    "using TiffImages\n",
    "\n",
    "img = TiffImages.load(\"dataset/Exp392_C=b.tif\")"
   ]
  },
  {
   "cell_type": "code",
   "execution_count": null,
   "id": "842125c6",
   "metadata": {},
   "outputs": [],
   "source": [
    "typeof(img)"
   ]
  },
  {
   "cell_type": "code",
   "execution_count": null,
   "id": "dd4ec41e",
   "metadata": {},
   "outputs": [],
   "source": [
    "eltype(img)"
   ]
  },
  {
   "cell_type": "code",
   "execution_count": null,
   "id": "476df0a0",
   "metadata": {},
   "outputs": [],
   "source": [
    "size(img)"
   ]
  }
 ],
 "metadata": {
  "kernelspec": {
   "display_name": "Julia 1.6.1",
   "language": "julia",
   "name": "julia-1.6"
  },
  "language_info": {
   "file_extension": ".jl",
   "mimetype": "application/julia",
   "name": "julia",
   "version": "1.6.1"
  }
 },
 "nbformat": 4,
 "nbformat_minor": 5
}
