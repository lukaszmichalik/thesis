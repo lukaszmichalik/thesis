{
 "cells": [
  {
   "cell_type": "markdown",
   "id": "37beef71",
   "metadata": {},
   "source": [
    "## Wczytanie Bibliotek"
   ]
  },
  {
   "cell_type": "code",
   "execution_count": null,
   "id": "382931fb",
   "metadata": {},
   "outputs": [],
   "source": [
    "from PIL import Image\n",
    "import sys\n",
    "import numpy as np\n",
    "import cv2\n",
    "import tifffile\n",
    "import plotly.express as px\n",
    "from IPython import display\n",
    "from matplotlib import pyplot as plt\n",
    "import pandas as pd\n",
    "from timeit import timeit\n",
    "from memory_profiler import profile\n",
    "import random\n",
    "from IPython.display import IFrame\n",
    "import ipywidgets as widgets\n",
    "import plotly\n",
    "from sklearn import preprocessing\n",
    "import plotly.graph_objs as go\n",
    "from plotly.offline import plot, iplot, init_notebook_mode\n",
    "init_notebook_mode(connected=True)\n",
    "import czifile\n",
    "from skimage import exposure, img_as_ubyte\n",
    "from sklearn_extra.cluster import KMedoids"
   ]
  },
  {
   "cell_type": "code",
   "execution_count": null,
   "id": "3f487006",
   "metadata": {},
   "outputs": [],
   "source": [
    "img = czifile.imread('dataset/rgb/Centr_tel Brachy/Experiment-392.czi')"
   ]
  },
  {
   "cell_type": "code",
   "execution_count": null,
   "id": "75388d10",
   "metadata": {},
   "outputs": [],
   "source": [
    "img.shape"
   ]
  },
  {
   "cell_type": "code",
   "execution_count": null,
   "id": "d2cae8ab",
   "metadata": {},
   "outputs": [],
   "source": [
    "img_3channel = img[0,0,:,:,:,0]"
   ]
  },
  {
   "cell_type": "code",
   "execution_count": null,
   "id": "7dd27d14",
   "metadata": {},
   "outputs": [],
   "source": [
    "DAPI = (img_3channel[0,:,:])"
   ]
  },
  {
   "cell_type": "code",
   "execution_count": null,
   "id": "83cc50c7",
   "metadata": {},
   "outputs": [],
   "source": [
    "plt.imshow(DAPI, cmap='gray')"
   ]
  },
  {
   "cell_type": "code",
   "execution_count": null,
   "id": "4f535768",
   "metadata": {},
   "outputs": [],
   "source": [
    "DAPI"
   ]
  },
  {
   "cell_type": "code",
   "execution_count": null,
   "id": "65788487",
   "metadata": {},
   "outputs": [],
   "source": [
    "DAPI_8bit_c = (DAPI / DAPI.max()) * 255.\n",
    "DAPI_8bit_c = np.uint8(DAPI_8bit_c)\n",
    "plt.imshow(DAPI_8bit_c, cmap='gray')"
   ]
  },
  {
   "cell_type": "code",
   "execution_count": null,
   "id": "968e395b",
   "metadata": {},
   "outputs": [],
   "source": [
    "DAPI_8bit_c"
   ]
  },
  {
   "cell_type": "code",
   "execution_count": null,
   "id": "e13bb225",
   "metadata": {},
   "outputs": [],
   "source": [
    "#Normalize then scale to 255 and convert to uint8 - using opencv\n",
    "DAPI_8bit_d = cv2.normalize(DAPI, None, 0, 255, cv2.NORM_MINMAX, dtype=cv2.CV_8U)\n",
    "plt.imshow(DAPI_8bit_d, cmap='gray')"
   ]
  },
  {
   "cell_type": "code",
   "execution_count": null,
   "id": "90a83668",
   "metadata": {},
   "outputs": [],
   "source": [
    "DAPI_8bit_d"
   ]
  },
  {
   "cell_type": "code",
   "execution_count": null,
   "id": "fc4e6f67",
   "metadata": {},
   "outputs": [],
   "source": [
    "#Normalize then scale to 255 and convert to uint8 - using skimage\n",
    "from skimage import exposure, img_as_ubyte\n",
    "#exposure.rescale_intensity stretches (scales) intensity to min and max \n",
    "# of the dtype of the image. In our case: 0 to 65535\n",
    "DAPI_8bit_e = img_as_ubyte(exposure.rescale_intensity(DAPI))\n",
    "plt.imshow(DAPI_8bit_e, cmap='gray')"
   ]
  },
  {
   "cell_type": "code",
   "execution_count": null,
   "id": "78672652",
   "metadata": {},
   "outputs": [],
   "source": [
    "DAPI_8bit_e"
   ]
  },
  {
   "cell_type": "markdown",
   "id": "2a1af5c4",
   "metadata": {},
   "source": [
    "## Wczytanie Plików "
   ]
  },
  {
   "cell_type": "code",
   "execution_count": null,
   "id": "f22092b9",
   "metadata": {},
   "outputs": [],
   "source": [
    "# wczytanie ścieżki do plików exp392 \n",
    "file_red = 'dataset/rgb/Centr_tel Brachy/Experiment-392.czi - C=r.tif'\n",
    "file_green = 'dataset/rgb/Centr_tel Brachy/Experiment-392.czi - C=g.tif'\n",
    "file_blue = 'dataset/rgb/Centr_tel Brachy/Experiment-392.czi - C=b.tif'\n",
    "\n",
    "tif_red = tifffile.imread(file_red)\n",
    "tif_green = tifffile.imread(file_green)\n",
    "tif_blue = tifffile.imread(file_blue)"
   ]
  },
  {
   "cell_type": "code",
   "execution_count": null,
   "id": "a309ba78",
   "metadata": {},
   "outputs": [],
   "source": [
    "# reducing z (layers)\n",
    "tif_red=np.delete(tif_red, np.s_[5:],axis=0)\n",
    "tif_green=np.delete(tif_green, np.s_[5:],axis=0)\n",
    "tif_blue=np.delete(tif_blue, np.s_[5:],axis=0)\n",
    "\n",
    "# tif_red=np.delete(tif_red, np.s_[500:],axis=1)\n",
    "# tif_green=np.delete(tif_green, np.s_[500:],axis=1)\n",
    "# tif_blue=np.delete(tif_blue, np.s_[500:],axis=1)\n",
    "\n",
    "# tif_red=np.delete(tif_red, np.s_[500:],axis=2)\n",
    "# tif_green=np.delete(tif_green, np.s_[500:],axis=2)\n",
    "# tif_blue=np.delete(tif_blue, np.s_[500:],axis=2)"
   ]
  },
  {
   "cell_type": "markdown",
   "id": "c9be24b5",
   "metadata": {},
   "source": [
    "## Normalizacja"
   ]
  },
  {
   "cell_type": "code",
   "execution_count": null,
   "id": "0615c7af",
   "metadata": {},
   "outputs": [],
   "source": [
    "tif_red_norm = np.empty(shape=(18, 1040,1388), dtype='uint8')\n",
    "tif_green_norm = np.empty(shape=(18, 1040,1388), dtype='uint8')\n",
    "tif_blue_norm = np.empty(shape=(18, 1040,1388), dtype='uint8')"
   ]
  },
  {
   "cell_type": "code",
   "execution_count": null,
   "id": "89eed0e0",
   "metadata": {},
   "outputs": [],
   "source": [
    "for i in range(0,tif_blue.shape[0]):\n",
    "    tif_red_norm[i] = img_as_ubyte(exposure.rescale_intensity(tif_red[i]))\n",
    "    tif_green_norm[i] = img_as_ubyte(exposure.rescale_intensity(tif_green[i]))\n",
    "    tif_blue_norm[i] = img_as_ubyte(exposure.rescale_intensity(tif_blue[i]))   "
   ]
  },
  {
   "cell_type": "code",
   "execution_count": null,
   "id": "851a844a",
   "metadata": {},
   "outputs": [],
   "source": [
    "plt.imshow(tif_blue_norm[0], cmap='Blues')"
   ]
  },
  {
   "cell_type": "markdown",
   "id": "ff0ca781",
   "metadata": {},
   "source": [
    "## Spłaszczenie"
   ]
  },
  {
   "cell_type": "code",
   "execution_count": null,
   "id": "19120355",
   "metadata": {},
   "outputs": [],
   "source": [
    "tif_red_flat = tif_red_norm.flatten()\n",
    "tif_green_flat = tif_green_norm.flatten()\n",
    "tif_blue_flat = tif_blue_norm.flatten()"
   ]
  },
  {
   "cell_type": "markdown",
   "id": "73b2b325",
   "metadata": {},
   "source": [
    " ## 3d array na 2d array\n",
    " Konwersja 3d array (jednokolorowy plik tiff) na 2d array zawierający współrzędne pixeli"
   ]
  },
  {
   "cell_type": "code",
   "execution_count": null,
   "id": "abe46d22",
   "metadata": {},
   "outputs": [],
   "source": [
    "# new method for changing 3d array to 2d array with x, y, z, color and size as values\n",
    "\n",
    "\n",
    "z, y, x = tif_red.shape\n",
    "\n",
    "x_size = x\n",
    "y_size = y\n",
    "z_size = z\n",
    "\n",
    "z_list = []\n",
    "for i in range(z_size):\n",
    "    z_list += [i] * (y_size * x_size)\n",
    "\n",
    "y_list = []\n",
    "for i in range(y_size):\n",
    "    y_list += [i] * (x_size)\n",
    "y_list *= z_size\n",
    "\n",
    "x_list = []\n",
    "x_list = np.arange(0, x_size).tolist() * (z_size * y_size)\n",
    "\n",
    "# connecting lists into 2d numpy array\n",
    "tif_arr = np.c_[z_list, y_list, x_list, tif_red_flat, tif_green_flat, tif_blue_flat, np.ones((z_size * y_size* x_size),dtype='int32')]\n",
    "\n",
    "tif_arr.shape"
   ]
  },
  {
   "cell_type": "code",
   "execution_count": null,
   "id": "4f6af1dd",
   "metadata": {},
   "outputs": [],
   "source": [
    "z_list"
   ]
  },
  {
   "cell_type": "code",
   "execution_count": null,
   "id": "4f200356",
   "metadata": {},
   "outputs": [],
   "source": [
    "colors_arr = tif_arr[:,3]\n",
    "colors_arr = [f'rgb({\"{},0,0\".format(color)})' for color in colors_arr]"
   ]
  },
  {
   "cell_type": "code",
   "execution_count": null,
   "id": "9a3dad91",
   "metadata": {},
   "outputs": [],
   "source": [
    "colors_arr"
   ]
  },
  {
   "cell_type": "markdown",
   "id": "17684d54",
   "metadata": {},
   "source": [
    "## Czyszczenie "
   ]
  },
  {
   "cell_type": "code",
   "execution_count": null,
   "id": "6caaebc2",
   "metadata": {},
   "outputs": [],
   "source": [
    "print(tif_arr.shape)\n",
    "tif_arr_cls = tif_arr[(tif_arr[:,3]>100)|(tif_arr[:,4]>100)|(tif_arr[:,5]>100)]\n",
    "print(tif_arr_cls.shape)"
   ]
  },
  {
   "cell_type": "markdown",
   "id": "6a3b00ce",
   "metadata": {},
   "source": [
    "## Metoda Centroidów - kolorowy tiff"
   ]
  },
  {
   "cell_type": "code",
   "execution_count": null,
   "id": "0efef9fc",
   "metadata": {},
   "outputs": [],
   "source": [
    "def centeroidnp(arr):\n",
    "    length = arr.shape[0]\n",
    "    sum_z = np.sum(arr[:, 0])\n",
    "    sum_y = np.sum(arr[:, 1])\n",
    "    sum_x = np.sum(arr[:, 2])\n",
    "    sum_r = np.sum(arr[:, 3])\n",
    "    sum_g = np.sum(arr[:, 4])\n",
    "    sum_b = np.sum(arr[:, 5])\n",
    "    return sum_z/length, sum_y/length, sum_x/length, sum_r/length, sum_g/length, sum_b/length, length"
   ]
  },
  {
   "cell_type": "code",
   "execution_count": null,
   "id": "0dc87016",
   "metadata": {},
   "outputs": [],
   "source": [
    "# defining empty 2d array where centroids will be stored\n",
    "@widgets.interact(radius=(1,10), zradius=(1,3), color_diff=(5,50,5),smin=(0,25,5),smax=(20,60,5), start=(False,True))\n",
    "def centroidMethod(start,radius, zradius, color_diff, smin, smax,):\n",
    "    if start:\n",
    "        centroids = np.empty([0,7])\n",
    "\n",
    "        # duplicating f1_arr of pixels\n",
    "        dup = tif_arr_cls\n",
    "\n",
    "        # looping thorugh duplicated array until it's empty\n",
    "        while len(dup)>0:\n",
    "\n",
    "            # assign starting point to random pixel\n",
    "            pixel = random.choice(dup)\n",
    "\n",
    "            # creating matrix of neighbours\n",
    "            neighbours_arr = dup[((dup[:,0]<=pixel[0]+zradius) \n",
    "                                & (dup[:,0]>=pixel[0]-zradius)\n",
    "                                & (dup[:,1]<=pixel[1]+radius)\n",
    "                                & (dup[:,1]>=pixel[1]-radius)\n",
    "                                & (dup[:,2]<=pixel[2]+radius)\n",
    "                                & (dup[:,2]>=pixel[2]-radius)\n",
    "                                & (dup[:,3]<=pixel[3]+color_diff)\n",
    "                                & (dup[:,3]>=pixel[3]-color_diff)\n",
    "                                & (dup[:,4]<=pixel[4]+color_diff)\n",
    "                                & (dup[:,4]>=pixel[4]-color_diff)\n",
    "                                & (dup[:,5]<=pixel[5]+color_diff)\n",
    "                                & (dup[:,5]>=pixel[5]-color_diff))]\n",
    "\n",
    "            # calculating centroid vector from array of neighbours\n",
    "            centroid = centeroidnp(neighbours_arr)\n",
    "\n",
    "            # adding centroid to centroids matrix\n",
    "            centroids=np.vstack([centroids, centroid])\n",
    "\n",
    "            # deleting neighbours from duplicated array\n",
    "            dims = np.maximum(neighbours_arr.max(0),dup.max(0))+1\n",
    "            dup = dup[~np.in1d(np.ravel_multi_index(dup.T,dims),np.ravel_multi_index(neighbours_arr.T,dims))]\n",
    "\n",
    "        colors_arr = centroids[:,3:6]\n",
    "\n",
    "        colors_arr = [f'rgb({\"{},{},{}\".format(color[0],color[1],color[2])})' for color in colors_arr]\n",
    "\n",
    "        trace1 = go.Scatter3d(\n",
    "            x=centroids[:,2], \n",
    "            y=centroids[:,1], \n",
    "            z=centroids[:,0],\n",
    "            mode=\"markers\",\n",
    "            marker_color=colors_arr,\n",
    "            marker=dict(\n",
    "                sizemode=\"area\",\n",
    "                sizeref=centroids[:,6].max() / smax ** 2,\n",
    "#                 sizemin=smin,\n",
    "                opacity=1,\n",
    "                size=centroids[:,6],\n",
    "                line=dict(width=0)\n",
    "            )\n",
    "        )\n",
    "\n",
    "        data = [trace1]\n",
    "        title = \"Tiff 3D\"\n",
    "        layout = go.Layout(height=800, width=1000, title=title)\n",
    "\n",
    "        fig = go.Figure(data=data, layout=layout)\n",
    "\n",
    "        fig.show()     "
   ]
  },
  {
   "cell_type": "code",
   "execution_count": null,
   "id": "e71a575f",
   "metadata": {},
   "outputs": [],
   "source": [
    "centroids.shape"
   ]
  },
  {
   "cell_type": "code",
   "execution_count": null,
   "id": "de16c1c3",
   "metadata": {},
   "outputs": [],
   "source": [
    "colors_arr = centroids[:,3:6]\n",
    "\n",
    "colors_arr = [f'rgb({\"{},{},{}\".format(color[0],color[1],color[2])})' for color in colors_arr]\n",
    "\n",
    "trace1 = go.Scatter3d(\n",
    "    x=centroids[:,2], \n",
    "    y=centroids[:,1], \n",
    "    z=centroids[:,0],\n",
    "    mode=\"markers\",\n",
    "    marker_color=colors_arr,\n",
    "    marker=dict(\n",
    "        sizemode=\"area\",\n",
    "        sizeref=centroids[:,6].max() / 60 ** 2,\n",
    "        sizemin=20,\n",
    "\n",
    "        size=centroids[:,6],\n",
    "        line=dict(width=0)\n",
    "\n",
    "    )\n",
    "\n",
    ")\n",
    "\n",
    "data = [trace1]\n",
    "title = \"Tiff 3D\"\n",
    "layout = go.Layout(height=800, width=1000, title=title)\n",
    "\n",
    "fig = go.Figure(data=data, layout=layout)\n",
    "\n",
    "fig.show()     "
   ]
  },
  {
   "cell_type": "code",
   "execution_count": null,
   "id": "b15f2a51",
   "metadata": {},
   "outputs": [],
   "source": [
    "test=tif_arr_cls[20:30]"
   ]
  },
  {
   "cell_type": "code",
   "execution_count": null,
   "id": "c8e1c9bd",
   "metadata": {},
   "outputs": [],
   "source": [
    "test"
   ]
  },
  {
   "cell_type": "code",
   "execution_count": null,
   "id": "ea6c084a",
   "metadata": {},
   "outputs": [],
   "source": [
    "test"
   ]
  },
  {
   "cell_type": "code",
   "execution_count": null,
   "id": "35921a2b",
   "metadata": {},
   "outputs": [],
   "source": [
    "for i in range(0,10):\n",
    "    test[i][6]=50"
   ]
  },
  {
   "cell_type": "code",
   "execution_count": null,
   "id": "5a4d4b78",
   "metadata": {},
   "outputs": [],
   "source": [
    "test[1][6]=1\n",
    "test[5][6]=10\n"
   ]
  },
  {
   "cell_type": "code",
   "execution_count": null,
   "id": "3ec50463",
   "metadata": {},
   "outputs": [],
   "source": [
    "test"
   ]
  },
  {
   "cell_type": "code",
   "execution_count": null,
   "id": "8bda3022",
   "metadata": {},
   "outputs": [],
   "source": [
    "colors_arr = test[:,3:6]\n",
    "\n",
    "colors_arr = [f'rgb({\"{},{},{}\".format(color[0],color[1],color[2])})' for color in colors_arr]\n",
    "\n",
    "trace1 = go.Scatter3d(\n",
    "    x=test[:,2], \n",
    "    y=test[:,1], \n",
    "    z=test[:,0],\n",
    "    mode=\"markers\",\n",
    "    marker_color=colors_arr,\n",
    "    marker=dict(\n",
    "        sizemode=\"area\",\n",
    "#         sizeref=test[:,6].max() / 60 ** 2,\n",
    "#         sizemin=20,\n",
    "\n",
    "#         size=test[:,6],\n",
    "        line=dict(width=0)\n",
    "\n",
    "    )\n",
    "\n",
    ")\n",
    "\n",
    "data = [trace1]\n",
    "title = \"Tiff 3D\"\n",
    "layout = go.Layout(height=1000, width=1000, title=title)\n",
    "\n",
    "fig = go.Figure(data=data, layout=layout)\n",
    "\n",
    "fig.show()     "
   ]
  },
  {
   "cell_type": "code",
   "execution_count": null,
   "id": "7fbf7a65",
   "metadata": {},
   "outputs": [],
   "source": [
    "colors_arr = test[:,3:6]\n",
    "\n",
    "colors_arr = [f'rgb({\"{},{},{}\".format(color[0],color[1],color[2])})' for color in colors_arr]\n",
    "\n",
    "trace1 = go.Scatter3d(\n",
    "    x=test[:,2], \n",
    "    y=test[:,1], \n",
    "    z=test[:,0],\n",
    "    mode=\"markers\",\n",
    "    marker_color=colors_arr,\n",
    "    marker=dict(\n",
    "        sizemode=\"area\",\n",
    "        sizeref=test[:,6].max() / 50 ** 2,\n",
    "#         sizemin=20,\n",
    "        size=test[:,6],         opacity=1,\n",
    "        line=dict(width=0)\n",
    "\n",
    "    )\n",
    "\n",
    ")\n",
    "\n",
    "data = [trace1]\n",
    "title = \"Tiff 3D\"\n",
    "layout = go.Layout(height=1000, width=1000, title=title)\n",
    "\n",
    "fig = go.Figure(data=data, layout=layout)\n",
    "\n",
    "fig.show()     "
   ]
  },
  {
   "cell_type": "code",
   "execution_count": null,
   "id": "d13f589f",
   "metadata": {},
   "outputs": [],
   "source": [
    "test[:,6]"
   ]
  },
  {
   "cell_type": "markdown",
   "id": "91428ccd",
   "metadata": {},
   "source": [
    "### k-medoids"
   ]
  },
  {
   "cell_type": "code",
   "execution_count": null,
   "id": "d26254ef",
   "metadata": {},
   "outputs": [],
   "source": [
    "img26_file = 'dataset/rgb/FISH_Brachy/Image0026-rgb.tif' \n",
    "\n",
    "# adding z dimention with tiffile library\n",
    "img26 = tifffile.imread(img26_file)"
   ]
  },
  {
   "cell_type": "code",
   "execution_count": null,
   "id": "a86d21ad",
   "metadata": {},
   "outputs": [],
   "source": [
    "img26=np.delete(img26, np.s_[:7],axis=0)\n",
    "img26=np.delete(img26, np.s_[1:],axis=0)"
   ]
  },
  {
   "cell_type": "code",
   "execution_count": null,
   "id": "0270672a",
   "metadata": {},
   "outputs": [],
   "source": [
    "img26.shape"
   ]
  },
  {
   "cell_type": "code",
   "execution_count": null,
   "id": "4c867d7a",
   "metadata": {},
   "outputs": [],
   "source": [
    "img26_flat = img26.flatten()\n",
    "\n",
    "z, y, x, rgb = img26.shape\n",
    "\n",
    "x_size = x\n",
    "y_size = y\n",
    "z_size = z\n",
    "\n",
    "z_list = []\n",
    "for i in range(z_size):\n",
    "    z_list += [i] * (y_size * x_size)\n",
    "\n",
    "y_list = []\n",
    "for i in range(y_size):\n",
    "    y_list += [i] * (x_size)\n",
    "y_list *= z_size\n",
    "\n",
    "x_list = []\n",
    "x_list = np.arange(0, x_size).tolist() * (z_size * y_size)\n",
    "\n",
    "# połączenie list w 2d numpy array\n",
    "img26_arr = np.c_[z_list, y_list, x_list, img26_flat[::3], img26_flat[1::3], img26_flat[2::3], np.ones((z_size * y_size* x_size),dtype=int)]\n",
    "\n",
    "img26_arr.shape"
   ]
  },
  {
   "cell_type": "code",
   "execution_count": null,
   "id": "630044fa",
   "metadata": {},
   "outputs": [],
   "source": [
    "img26_clr = img26_arr[(img26_arr[:,3]>100)|(img26_arr[:,4]>100)|(img26_arr[:,5]>100)]\n",
    "img26_clr.shape"
   ]
  },
  {
   "cell_type": "code",
   "execution_count": null,
   "id": "42a2b3eb",
   "metadata": {},
   "outputs": [],
   "source": [
    "# defining empty 2d array where centroids will be stored\n",
    "@widgets.interact(radius=(1,10), zradius=(1,3), color_diff=(5,50,5),smin=(0,25,5),smax=(20,60,5), start=(False,True))\n",
    "def centroidMethod(start,radius, zradius, color_diff, smin, smax,):\n",
    "    if start:\n",
    "        medoids = np.empty([0,7])\n",
    "\n",
    "        # duplicating f1_arr of pixels\n",
    "        dup = img26_clr\n",
    "\n",
    "        # looping thorugh duplicated array until it's empty\n",
    "        while len(dup)>0:\n",
    "\n",
    "            # assign starting point to random pixel\n",
    "            pixel = random.choice(dup)\n",
    "\n",
    "            # creating matrix of neighbours\n",
    "            neighbours_arr = dup[((dup[:,0]<=pixel[0]+zradius) \n",
    "                                & (dup[:,0]>=pixel[0]-zradius)\n",
    "                                & (dup[:,1]<=pixel[1]+radius)\n",
    "                                & (dup[:,1]>=pixel[1]-radius)\n",
    "                                & (dup[:,2]<=pixel[2]+radius)\n",
    "                                & (dup[:,2]>=pixel[2]-radius)\n",
    "                                & (dup[:,3]<=pixel[3]+color_diff)\n",
    "                                & (dup[:,3]>=pixel[3]-color_diff)\n",
    "                                & (dup[:,4]<=pixel[4]+color_diff)\n",
    "                                & (dup[:,4]>=pixel[4]-color_diff)\n",
    "                                & (dup[:,5]<=pixel[5]+color_diff)\n",
    "                                & (dup[:,5]>=pixel[5]-color_diff))]\n",
    "            \n",
    "            \n",
    "            idx_m = KMedoids(n_clusters=1, random_state=0).fit(neighbours_arr[:,3:6]).medoid_indices_\n",
    "            # calculating centroid vector from array of neighbours\n",
    "            \n",
    "            medoid = neighbours_arr[idx_m]\n",
    "            \n",
    "            medoid[0,6]=neighbours_arr.shape[0]\n",
    "\n",
    "            # adding centroid to centroids matrix\n",
    "            medoids=np.vstack([medoids, medoid])\n",
    "\n",
    "            # deleting neighbours from duplicated array\n",
    "            dims = np.maximum(neighbours_arr.max(0),dup.max(0))+1\n",
    "            dup = dup[~np.in1d(np.ravel_multi_index(dup.T,dims),np.ravel_multi_index(neighbours_arr.T,dims))]\n",
    "\n",
    "        colors_arr = medoids[:,3:6]\n",
    "\n",
    "        colors_arr = [f'rgb({\"{},{},{}\".format(color[0],color[1],color[2])})' for color in colors_arr]\n",
    "\n",
    "        trace1 = go.Scatter3d(\n",
    "            x=medoids[:,2], \n",
    "            y=medoids[:,1], \n",
    "            z=medoids[:,0],\n",
    "            text =medoids[:,6],\n",
    "            mode=\"markers\",\n",
    "            marker_color=colors_arr,\n",
    "            marker=dict(\n",
    "                sizemode=\"area\",\n",
    "                sizeref=medoids[:,6].max() / smax ** 2,\n",
    "#                 sizemin=smin,\n",
    "                opacity=1,\n",
    "                size=medoids[:,6],\n",
    "                line=dict(width=0)\n",
    "            )\n",
    "        )\n",
    "\n",
    "        data = [trace1]\n",
    "        title = \"Tiff 3D\"\n",
    "        layout = go.Layout(height=800, width=1000, title=title)\n",
    "\n",
    "        fig = go.Figure(data=data, layout=layout)\n",
    "\n",
    "        fig.show()     "
   ]
  },
  {
   "cell_type": "code",
   "execution_count": null,
   "id": "e4405fda",
   "metadata": {},
   "outputs": [],
   "source": [
    "b = np.random.randint(0, 5, [3, 3])"
   ]
  },
  {
   "cell_type": "code",
   "execution_count": null,
   "id": "24ff6363",
   "metadata": {},
   "outputs": [],
   "source": [
    "plt.hist(img26_clr[:,5], bins=100, range=(0,255));"
   ]
  },
  {
   "cell_type": "code",
   "execution_count": null,
   "id": "a4a5bfba",
   "metadata": {},
   "outputs": [],
   "source": [
    "import numpy as np\n",
    "from matplotlib import pyplot as plt\n",
    "\n",
    "# Set the figure size\n",
    "plt.rcParams[\"figure.figsize\"] = [7.50, 3.50]\n",
    "plt.rcParams[\"figure.autolayout\"] = True\n",
    "\n",
    "colors_arr = img26_clr[:,3:6]\n",
    "\n",
    "colors_arr = [f'rgb({\"{},{},{}\".format(color[0],color[1],color[2])})' for color in colors_arr]\n",
    "\n",
    "# Random data of 100×3 dimension\n",
    "data = np.array(np.random.random((100, 3)))\n",
    "\n",
    "# Scatter plot\n",
    "plt.scatter(x=img26_clr[:,2], y=img26_clr[:,1], c=img26_clr[:,3])\n",
    "\n",
    "# Display the plot\n",
    "plt.show()"
   ]
  },
  {
   "cell_type": "code",
   "execution_count": null,
   "id": "390cd0c6",
   "metadata": {},
   "outputs": [],
   "source": [
    "t=img26_clr[:,3:6]"
   ]
  },
  {
   "cell_type": "code",
   "execution_count": null,
   "id": "932047d9",
   "metadata": {},
   "outputs": [],
   "source": [
    "t[[0]].shape"
   ]
  },
  {
   "cell_type": "code",
   "execution_count": null,
   "id": "efca74f4",
   "metadata": {},
   "outputs": [],
   "source": [
    "t[[0]]"
   ]
  },
  {
   "cell_type": "code",
   "execution_count": null,
   "id": "f7227328",
   "metadata": {},
   "outputs": [],
   "source": [
    "from sklearn.cluster import DBSCAN\n",
    "clustering = DBSCAN(eps=1,min_samples=5).fit(img26_clr[:,:4])\n",
    "cluster = clustering.labels_"
   ]
  },
  {
   "cell_type": "code",
   "execution_count": null,
   "id": "0752d63c",
   "metadata": {},
   "outputs": [],
   "source": [
    "len(set(cluster))"
   ]
  },
  {
   "cell_type": "code",
   "execution_count": null,
   "id": "8d15af60",
   "metadata": {},
   "outputs": [],
   "source": [
    "df = DataFrame(dict(x=img26_clr[:,2],y=img26_clr[:,1], label=cluster))\n",
    "c"
   ]
  }
 ],
 "metadata": {
  "@webio": {
   "lastCommId": null,
   "lastKernelId": null
  },
  "kernelspec": {
   "display_name": "my_env_kernel",
   "language": "python",
   "name": "my_env_kernel"
  },
  "language_info": {
   "codemirror_mode": {
    "name": "ipython",
    "version": 3
   },
   "file_extension": ".py",
   "mimetype": "text/x-python",
   "name": "python",
   "nbconvert_exporter": "python",
   "pygments_lexer": "ipython3",
   "version": "3.9.4"
  }
 },
 "nbformat": 4,
 "nbformat_minor": 5
}
